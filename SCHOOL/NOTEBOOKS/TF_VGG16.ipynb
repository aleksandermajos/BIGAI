{
 "cells": [
  {
   "cell_type": "code",
   "execution_count": 15,
   "id": "91cae397-448a-4929-bf8f-a0c42f37c4a8",
   "metadata": {},
   "outputs": [],
   "source": [
    "import tensorflow as tf\n",
    "from tensorflow.keras import layers, models\n",
    "from tensorflow.keras.applications.vgg16 import VGG16\n",
    "import cv2\n",
    "import numpy as np"
   ]
  },
  {
   "cell_type": "code",
   "execution_count": 9,
   "id": "aee46b1d-c210-45c0-b6c3-e125b0d4ec27",
   "metadata": {},
   "outputs": [],
   "source": [
    "def VGG_16(weights_path=None):\n",
    "    model = models.Sequential()\n",
    "    model.add(layers.ZeroPadding2D((1,1),input_shape=(224,224, 3)))\n",
    "    model.add(layers.Convolution2D(64, (3, 3), activation='relu'))\n",
    "    model.add(layers.ZeroPadding2D((1,1)))\n",
    "    model.add(layers.Convolution2D(64, (3, 3), activation='relu'))\n",
    "    model.add(layers.MaxPooling2D((2,2), strides=(2,2)))\n",
    "    model.add(layers.ZeroPadding2D((1,1)))\n",
    "    model.add(layers.Convolution2D(128, (3, 3), activation='relu'))\n",
    "    model.add(layers.ZeroPadding2D((1,1)))\n",
    "    model.add(layers.Convolution2D(128, (3, 3), activation='relu'))\n",
    "    model.add(layers.MaxPooling2D((2,2), strides=(2,2)))\n",
    "    model.add(layers.ZeroPadding2D((1,1)))\n",
    "    model.add(layers.Convolution2D(256, (3, 3), activation='relu'))\n",
    "    model.add(layers.ZeroPadding2D((1,1)))\n",
    "    model.add(layers.Convolution2D(256, (3, 3), activation='relu'))\n",
    "    model.add(layers.ZeroPadding2D((1,1)))\n",
    "    model.add(layers.Convolution2D(256, (3, 3), activation='relu'))\n",
    "    model.add(layers.MaxPooling2D((2,2), strides=(2,2)))\n",
    "    model.add(layers.ZeroPadding2D((1,1)))\n",
    "    model.add(layers.Convolution2D(512, (3, 3), activation='relu'))\n",
    "    model.add(layers.ZeroPadding2D((1,1)))\n",
    "    model.add(layers.Convolution2D(512, (3, 3), activation='relu'))\n",
    "    model.add(layers.ZeroPadding2D((1,1)))\n",
    "    model.add(layers.Convolution2D(512, (3, 3), activation='relu'))\n",
    "    model.add(layers.MaxPooling2D((2,2), strides=(2,2)))\n",
    "    model.add(layers.ZeroPadding2D((1,1)))\n",
    "    model.add(layers.Convolution2D(512, (3, 3), activation='relu'))\n",
    "    model.add(layers.ZeroPadding2D((1,1)))\n",
    "    model.add(layers.Convolution2D(512, (3, 3), activation='relu'))\n",
    "    model.add(layers.ZeroPadding2D((1,1)))\n",
    "    model.add(layers.Convolution2D(512, (3, 3), activation='relu'))\n",
    "    model.add(layers.MaxPooling2D((2,2), strides=(2,2)))\n",
    "    model.add(layers.Flatten())\n",
    "    #top layer of the VGG net\n",
    "    model.add(layers.Dense(4096, activation='relu'))\n",
    "    model.add(layers.Dropout(0.5))\n",
    "    model.add(layers.Dense(4096, activation='relu'))\n",
    "    model.add(layers.Dropout(0.5))\n",
    "    model.add(layers.Dense(1000, activation='softmax'))\n",
    "    if weights_path:\n",
    "        model.load_weights(weights_path)\n",
    "    return model"
   ]
  },
  {
   "cell_type": "code",
   "execution_count": 10,
   "id": "1b868e12-7e08-4d43-9237-80352b68b5e3",
   "metadata": {},
   "outputs": [],
   "source": [
    "im = cv2.resize(cv2.imread('cat.jpg'), (224, 224)).astype(np.float32)"
   ]
  },
  {
   "cell_type": "code",
   "execution_count": 11,
   "id": "565c8b3c-2b46-4d4f-ba55-e00fa8842451",
   "metadata": {},
   "outputs": [],
   "source": [
    "im = np.expand_dims(im, axis=0)"
   ]
  },
  {
   "cell_type": "code",
   "execution_count": 16,
   "id": "7d6fcf1a-acaf-4bc3-a726-93a9b1e16607",
   "metadata": {},
   "outputs": [
    {
     "name": "stdout",
     "output_type": "stream",
     "text": [
      "Downloading data from https://storage.googleapis.com/tensorflow/keras-applications/vgg16/vgg16_weights_tf_dim_ordering_tf_kernels.h5\n",
      "553467904/553467096 [==============================] - 191s 0us/step\n",
      "553476096/553467096 [==============================] - 191s 0us/step\n",
      "Model: \"vgg16\"\n",
      "_________________________________________________________________\n",
      " Layer (type)                Output Shape              Param #   \n",
      "=================================================================\n",
      " input_1 (InputLayer)        [(None, 224, 224, 3)]     0         \n",
      "                                                                 \n",
      " block1_conv1 (Conv2D)       (None, 224, 224, 64)      1792      \n",
      "                                                                 \n",
      " block1_conv2 (Conv2D)       (None, 224, 224, 64)      36928     \n",
      "                                                                 \n",
      " block1_pool (MaxPooling2D)  (None, 112, 112, 64)      0         \n",
      "                                                                 \n",
      " block2_conv1 (Conv2D)       (None, 112, 112, 128)     73856     \n",
      "                                                                 \n",
      " block2_conv2 (Conv2D)       (None, 112, 112, 128)     147584    \n",
      "                                                                 \n",
      " block2_pool (MaxPooling2D)  (None, 56, 56, 128)       0         \n",
      "                                                                 \n",
      " block3_conv1 (Conv2D)       (None, 56, 56, 256)       295168    \n",
      "                                                                 \n",
      " block3_conv2 (Conv2D)       (None, 56, 56, 256)       590080    \n",
      "                                                                 \n",
      " block3_conv3 (Conv2D)       (None, 56, 56, 256)       590080    \n",
      "                                                                 \n",
      " block3_pool (MaxPooling2D)  (None, 28, 28, 256)       0         \n",
      "                                                                 \n",
      " block4_conv1 (Conv2D)       (None, 28, 28, 512)       1180160   \n",
      "                                                                 \n",
      " block4_conv2 (Conv2D)       (None, 28, 28, 512)       2359808   \n",
      "                                                                 \n",
      " block4_conv3 (Conv2D)       (None, 28, 28, 512)       2359808   \n",
      "                                                                 \n",
      " block4_pool (MaxPooling2D)  (None, 14, 14, 512)       0         \n",
      "                                                                 \n",
      " block5_conv1 (Conv2D)       (None, 14, 14, 512)       2359808   \n",
      "                                                                 \n",
      " block5_conv2 (Conv2D)       (None, 14, 14, 512)       2359808   \n",
      "                                                                 \n",
      " block5_conv3 (Conv2D)       (None, 14, 14, 512)       2359808   \n",
      "                                                                 \n",
      " block5_pool (MaxPooling2D)  (None, 7, 7, 512)         0         \n",
      "                                                                 \n",
      " flatten (Flatten)           (None, 25088)             0         \n",
      "                                                                 \n",
      " fc1 (Dense)                 (None, 4096)              102764544 \n",
      "                                                                 \n",
      " fc2 (Dense)                 (None, 4096)              16781312  \n",
      "                                                                 \n",
      " predictions (Dense)         (None, 1000)              4097000   \n",
      "                                                                 \n",
      "=================================================================\n",
      "Total params: 138,357,544\n",
      "Trainable params: 138,357,544\n",
      "Non-trainable params: 0\n",
      "_________________________________________________________________\n"
     ]
    }
   ],
   "source": [
    "model = VGG16(weights='imagenet')\n",
    "model.summary()"
   ]
  },
  {
   "cell_type": "code",
   "execution_count": 17,
   "id": "4dbaefa5-0503-438b-8c6c-8dcd1a81d355",
   "metadata": {},
   "outputs": [],
   "source": [
    "model.compile(optimizer='sgd', loss='categorical_crossentropy')"
   ]
  },
  {
   "cell_type": "code",
   "execution_count": 18,
   "id": "66745fcc-e365-4c76-91c1-41e9de72e86b",
   "metadata": {},
   "outputs": [],
   "source": [
    "out = model.predict(im)"
   ]
  },
  {
   "cell_type": "code",
   "execution_count": 19,
   "id": "e3a2f9a9-171f-4be3-9cf3-12151c18a466",
   "metadata": {},
   "outputs": [
    {
     "name": "stdout",
     "output_type": "stream",
     "text": [
      "285\n"
     ]
    }
   ],
   "source": [
    "print(np.argmax(out))"
   ]
  },
  {
   "cell_type": "code",
   "execution_count": null,
   "id": "c50948f8-87dc-43b1-95a8-7061cd0e245a",
   "metadata": {},
   "outputs": [],
   "source": []
  }
 ],
 "metadata": {
  "kernelspec": {
   "display_name": "Python 3 (ipykernel)",
   "language": "python",
   "name": "python3"
  },
  "language_info": {
   "codemirror_mode": {
    "name": "ipython",
    "version": 3
   },
   "file_extension": ".py",
   "mimetype": "text/x-python",
   "name": "python",
   "nbconvert_exporter": "python",
   "pygments_lexer": "ipython3",
   "version": "3.11.7"
  }
 },
 "nbformat": 4,
 "nbformat_minor": 5
}
