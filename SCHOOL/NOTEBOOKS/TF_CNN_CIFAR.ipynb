{
 "cells": [
  {
   "cell_type": "code",
   "execution_count": 1,
   "id": "1f8102b2-a6c3-45eb-b345-e549695d30f0",
   "metadata": {},
   "outputs": [],
   "source": [
    "import tensorflow as tf\n",
    "from tensorflow.keras import datasets, layers, models, optimizers\n",
    "from tensorflow.keras.preprocessing.image import ImageDataGenerator\n",
    "import numpy as np\n",
    "%load_ext tensorboard\n",
    "# CIFAR_10 is a set of 60K images 32x32 pixels on 3 channels\n",
    "IMG_CHANNELS = 3\n",
    "IMG_ROWS = 32\n",
    "IMG_COLS = 32\n",
    "#constant\n",
    "BATCH_SIZE = 128\n",
    "EPOCHS = 20\n",
    "CLASSES = 10\n",
    "VERBOSE = 1\n",
    "VALIDATION_SPLIT = 0.2\n",
    "OPTIM = tf.keras.optimizers.RMSprop()"
   ]
  },
  {
   "cell_type": "code",
   "execution_count": 2,
   "id": "c5f642c8-4a06-4ce5-800b-06a32ae833af",
   "metadata": {},
   "outputs": [],
   "source": [
    "(X_train, y_train), (X_test, y_test) = datasets.cifar10.load_data()\n",
    "X_train = X_train.astype('float32')\n",
    "X_test = X_test.astype('float32')\n",
    " \n",
    "#normalize \n",
    "mean = np.mean(X_train,axis=(0,1,2,3))\n",
    "std = np.std(X_train,axis=(0,1,2,3))\n",
    "X_train = (X_train-mean)/(std+1e-7)\n",
    "X_test = (X_test-mean)/(std+1e-7)\n",
    "\n",
    "y_train = tf.keras.utils.to_categorical(y_train, CLASSES)\n",
    "y_test = tf.keras.utils.to_categorical(y_test, CLASSES)"
   ]
  },
  {
   "cell_type": "code",
   "execution_count": 3,
   "id": "169eed93-b0f6-4dbb-932e-8cb0344c22d2",
   "metadata": {},
   "outputs": [],
   "source": [
    "#image augmentation\n",
    "datagen = ImageDataGenerator(\n",
    "    rotation_range=30,\n",
    "    width_shift_range=0.2,\n",
    "    height_shift_range=0.2,\n",
    "    horizontal_flip=True,\n",
    "    )\n",
    "datagen.fit(X_train)"
   ]
  },
  {
   "cell_type": "code",
   "execution_count": 4,
   "id": "e246d81d-bc11-4a3a-955f-e0cd2d8c0b11",
   "metadata": {},
   "outputs": [],
   "source": [
    "def build(): \n",
    "    model = models.Sequential()\n",
    "    \n",
    "    #1st block\n",
    "    model.add(layers.Conv2D(32, (3,3), padding='same', \n",
    "        input_shape=X_train.shape[1:], activation='relu'))\n",
    "    model.add(layers.BatchNormalization())\n",
    "    model.add(layers.Conv2D(32, (3,3), padding='same', activation='relu'))\n",
    "    model.add(layers.BatchNormalization())\n",
    "    model.add(layers.MaxPooling2D(pool_size=(2,2)))\n",
    "    model.add(layers.Dropout(0.2))\n",
    "    #2nd block\n",
    "    model.add(layers.Conv2D(64, (3,3), padding='same', activation='relu'))\n",
    "    model.add(layers.BatchNormalization())\n",
    "    model.add(layers.Conv2D(64, (3,3), padding='same', activation='relu'))\n",
    "    model.add(layers.BatchNormalization())\n",
    "    model.add(layers.MaxPooling2D(pool_size=(2,2)))\n",
    "    model.add(layers.Dropout(0.3))\n",
    "    #3d block \n",
    "    model.add(layers.Conv2D(128, (3,3), padding='same', activation='relu'))\n",
    "    model.add(layers.BatchNormalization())\n",
    "    model.add(layers.Conv2D(128, (3,3), padding='same', activation='relu'))\n",
    "    model.add(layers.BatchNormalization())\n",
    "    model.add(layers.MaxPooling2D(pool_size=(2,2)))\n",
    "    model.add(layers.Dropout(0.4))\n",
    "    #dense  \n",
    "    model.add(layers.Flatten())\n",
    "    model.add(layers.Dense(CLASSES, activation='softmax'))\n",
    "    return model\n",
    "    "
   ]
  },
  {
   "cell_type": "code",
   "execution_count": 5,
   "id": "9c984143-8127-497c-8b36-fdbc4417f9d2",
   "metadata": {},
   "outputs": [],
   "source": [
    "callbacks = [tf.keras.callbacks.TensorBoard(log_dir='./logs/f')]"
   ]
  },
  {
   "cell_type": "code",
   "execution_count": 6,
   "id": "4651eeca-e703-47e5-9558-4193859e57e0",
   "metadata": {},
   "outputs": [],
   "source": [
    "model = build()"
   ]
  },
  {
   "cell_type": "code",
   "execution_count": 7,
   "id": "46467f6d-69ca-4c89-adfe-14a21688daa8",
   "metadata": {},
   "outputs": [],
   "source": [
    "model.compile(loss='categorical_crossentropy',optimizer=OPTIM,\n",
    "              metrics=['accuracy'])"
   ]
  },
  {
   "cell_type": "code",
   "execution_count": 8,
   "id": "4e959f94-9f55-4f69-ab78-ecedbb2fff9e",
   "metadata": {},
   "outputs": [
    {
     "name": "stdout",
     "output_type": "stream",
     "text": [
      "Epoch 1/20\n",
      "313/313 [==============================] - 17s 14ms/step - loss: 1.9529 - accuracy: 0.4227 - val_loss: 1.3852 - val_accuracy: 0.5220\n",
      "Epoch 2/20\n",
      "313/313 [==============================] - 4s 12ms/step - loss: 1.2562 - accuracy: 0.5958 - val_loss: 1.1300 - val_accuracy: 0.6354\n",
      "Epoch 3/20\n",
      "313/313 [==============================] - 4s 12ms/step - loss: 1.0144 - accuracy: 0.6687 - val_loss: 1.0036 - val_accuracy: 0.6745\n",
      "Epoch 4/20\n",
      "313/313 [==============================] - 4s 12ms/step - loss: 0.8773 - accuracy: 0.7130 - val_loss: 0.7968 - val_accuracy: 0.7323\n",
      "Epoch 5/20\n",
      "313/313 [==============================] - 4s 12ms/step - loss: 0.7686 - accuracy: 0.7416 - val_loss: 0.7296 - val_accuracy: 0.7593\n",
      "Epoch 6/20\n",
      "313/313 [==============================] - 4s 11ms/step - loss: 0.6917 - accuracy: 0.7673 - val_loss: 0.6889 - val_accuracy: 0.7654\n",
      "Epoch 7/20\n",
      "313/313 [==============================] - 4s 12ms/step - loss: 0.6400 - accuracy: 0.7856 - val_loss: 0.6916 - val_accuracy: 0.7722\n",
      "Epoch 8/20\n",
      "313/313 [==============================] - 4s 12ms/step - loss: 0.5822 - accuracy: 0.8006 - val_loss: 0.6244 - val_accuracy: 0.7990\n",
      "Epoch 9/20\n",
      "313/313 [==============================] - 4s 12ms/step - loss: 0.5435 - accuracy: 0.8163 - val_loss: 0.5970 - val_accuracy: 0.7998\n",
      "Epoch 10/20\n",
      "313/313 [==============================] - 4s 12ms/step - loss: 0.5083 - accuracy: 0.8239 - val_loss: 0.5785 - val_accuracy: 0.8096\n",
      "Epoch 11/20\n",
      "313/313 [==============================] - 4s 12ms/step - loss: 0.4771 - accuracy: 0.8365 - val_loss: 0.6026 - val_accuracy: 0.8035\n",
      "Epoch 12/20\n",
      "313/313 [==============================] - 4s 12ms/step - loss: 0.4568 - accuracy: 0.8424 - val_loss: 0.5761 - val_accuracy: 0.8136\n",
      "Epoch 13/20\n",
      "313/313 [==============================] - 4s 12ms/step - loss: 0.4320 - accuracy: 0.8502 - val_loss: 0.5877 - val_accuracy: 0.8078\n",
      "Epoch 14/20\n",
      "313/313 [==============================] - 4s 12ms/step - loss: 0.4098 - accuracy: 0.8580 - val_loss: 0.5494 - val_accuracy: 0.8194\n",
      "Epoch 15/20\n",
      "313/313 [==============================] - 4s 12ms/step - loss: 0.3935 - accuracy: 0.8632 - val_loss: 0.5959 - val_accuracy: 0.8156\n",
      "Epoch 16/20\n",
      "313/313 [==============================] - 4s 12ms/step - loss: 0.3733 - accuracy: 0.8716 - val_loss: 0.5723 - val_accuracy: 0.8201\n",
      "Epoch 17/20\n",
      "313/313 [==============================] - 4s 12ms/step - loss: 0.3538 - accuracy: 0.8773 - val_loss: 0.5606 - val_accuracy: 0.8196\n",
      "Epoch 18/20\n",
      "313/313 [==============================] - 4s 12ms/step - loss: 0.3403 - accuracy: 0.8785 - val_loss: 0.5400 - val_accuracy: 0.8301\n",
      "Epoch 19/20\n",
      "313/313 [==============================] - 4s 12ms/step - loss: 0.3244 - accuracy: 0.8857 - val_loss: 0.5278 - val_accuracy: 0.8339\n",
      "Epoch 20/20\n",
      "313/313 [==============================] - 4s 13ms/step - loss: 0.3163 - accuracy: 0.8881 - val_loss: 0.5448 - val_accuracy: 0.8323\n",
      "79/79 [==============================] - 0s 4ms/step - loss: 0.5780 - accuracy: 0.8244\n",
      "\n",
      "Test score: 0.5780247449874878\n",
      "Test accuracy: 0.824400007724762\n"
     ]
    }
   ],
   "source": [
    "model.fit(X_train, y_train, batch_size=BATCH_SIZE,\n",
    "          epochs=EPOCHS, validation_split=VALIDATION_SPLIT,\n",
    "          verbose= VERBOSE,callbacks=callbacks)\n",
    "score=model.evaluate(X_test,y_test,\n",
    "                     batch_size=BATCH_SIZE,verbose= VERBOSE)\n",
    "print(\"\\nTest score:\", score[0])\n",
    "print('Test accuracy:', score[1])"
   ]
  },
  {
   "cell_type": "code",
   "execution_count": 9,
   "id": "77c77f0d-960b-444c-ad25-54cc1c36a06b",
   "metadata": {},
   "outputs": [
    {
     "data": {
      "text/html": [
       "\n",
       "      <iframe id=\"tensorboard-frame-e301bd8e1c6a592b\" width=\"100%\" height=\"800\" frameborder=\"0\">\n",
       "      </iframe>\n",
       "      <script>\n",
       "        (function() {\n",
       "          const frame = document.getElementById(\"tensorboard-frame-e301bd8e1c6a592b\");\n",
       "          const url = new URL(\"/\", window.location);\n",
       "          const port = 6006;\n",
       "          if (port) {\n",
       "            url.port = port;\n",
       "          }\n",
       "          frame.src = url;\n",
       "        })();\n",
       "      </script>\n",
       "    "
      ],
      "text/plain": [
       "<IPython.core.display.HTML object>"
      ]
     },
     "metadata": {},
     "output_type": "display_data"
    }
   ],
   "source": [
    "%tensorboard --logdir logs/f"
   ]
  },
  {
   "cell_type": "code",
   "execution_count": 10,
   "id": "4f02b61b-6237-4535-9682-35cffaf9ed31",
   "metadata": {},
   "outputs": [],
   "source": [
    "model_json = model.to_json()\n",
    "with open('cifar10_architecture.json', 'w') as json_file:\n",
    "    json_file.write(model_json)"
   ]
  },
  {
   "cell_type": "code",
   "execution_count": 11,
   "id": "1917571f-23c2-4785-bb2e-612bdafa5007",
   "metadata": {},
   "outputs": [],
   "source": [
    "model.save_weights('model.h5')"
   ]
  },
  {
   "cell_type": "code",
   "execution_count": 12,
   "id": "fd9857ea-3f19-435d-9614-fb1637d746b9",
   "metadata": {},
   "outputs": [
    {
     "name": "stdout",
     "output_type": "stream",
     "text": [
      "79/79 [==============================] - 1s 7ms/step - loss: 0.5780 - accuracy: 0.8244\n",
      "\n",
      "Test result: 82.440 loss: 0.578\n"
     ]
    }
   ],
   "source": [
    "scores = model.evaluate(X_test, y_test, batch_size=128, verbose=1)\n",
    "print('\\nTest result: %.3f loss: %.3f' % (scores[1]*100,scores[0])) "
   ]
  },
  {
   "cell_type": "code",
   "execution_count": null,
   "id": "39d863b2-b0e1-43e6-b9c1-1324ac028c27",
   "metadata": {},
   "outputs": [],
   "source": []
  },
  {
   "cell_type": "code",
   "execution_count": null,
   "id": "326fe08e-5c69-49b1-945f-bc90c203835d",
   "metadata": {},
   "outputs": [],
   "source": []
  }
 ],
 "metadata": {
  "kernelspec": {
   "display_name": "Python 3 (ipykernel)",
   "language": "python",
   "name": "python3"
  },
  "language_info": {
   "codemirror_mode": {
    "name": "ipython",
    "version": 3
   },
   "file_extension": ".py",
   "mimetype": "text/x-python",
   "name": "python",
   "nbconvert_exporter": "python",
   "pygments_lexer": "ipython3",
   "version": "3.11.7"
  }
 },
 "nbformat": 4,
 "nbformat_minor": 5
}
