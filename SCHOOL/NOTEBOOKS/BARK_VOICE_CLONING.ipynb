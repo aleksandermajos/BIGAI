{
 "cells": [
  {
   "cell_type": "code",
   "execution_count": 1,
   "id": "fb3cb3f1-0999-4308-a4e3-52cf97ae5eda",
   "metadata": {},
   "outputs": [
    {
     "name": "stderr",
     "output_type": "stream",
     "text": [
      "/home/bigai/anaconda3/envs/BIGAI/lib/python3.11/site-packages/tqdm/auto.py:21: TqdmWarning: IProgress not found. Please update jupyter and ipywidgets. See https://ipywidgets.readthedocs.io/en/stable/user_install.html\n",
      "  from .autonotebook import tqdm as notebook_tqdm\n",
      "/home/bigai/anaconda3/envs/BIGAI/lib/python3.11/site-packages/torch/nn/utils/weight_norm.py:28: UserWarning: torch.nn.utils.weight_norm is deprecated in favor of torch.nn.utils.parametrizations.weight_norm.\n",
      "  warnings.warn(\"torch.nn.utils.weight_norm is deprecated in favor of torch.nn.utils.parametrizations.weight_norm.\")\n",
      "Downloading: \"https://dl.fbaipublicfiles.com/encodec/v0/encodec_24khz-d7cc33bc.th\" to /home/bigai/.var/app/com.jetbrains.PyCharm-Professional/cache/torch/hub/checkpoints/encodec_24khz-d7cc33bc.th\n",
      "100%|██████████████████████████████████████████████████████████████████████████████████████████████████████████████████████████████████████| 88.9M/88.9M [00:01<00:00, 79.5MB/s]\n"
     ]
    }
   ],
   "source": [
    "from bark.generation import load_codec_model, generate_text_semantic\n",
    "from encodec.utils import convert_audio\n",
    "\n",
    "import torchaudio\n",
    "import torch\n",
    "\n",
    "device = 'cuda' # or 'cpu'\n",
    "model = load_codec_model(use_gpu=True if device == 'cuda' else False)"
   ]
  },
  {
   "cell_type": "code",
   "execution_count": 2,
   "id": "9147f52a-0e4c-4be0-a0b4-f769bfd30341",
   "metadata": {},
   "outputs": [
    {
     "ename": "ModuleNotFoundError",
     "evalue": "No module named 'bark_hubert_quantizer'",
     "output_type": "error",
     "traceback": [
      "\u001b[0;31m---------------------------------------------------------------------------\u001b[0m",
      "\u001b[0;31mModuleNotFoundError\u001b[0m                       Traceback (most recent call last)",
      "Cell \u001b[0;32mIn[2], line 2\u001b[0m\n\u001b[1;32m      1\u001b[0m \u001b[38;5;66;03m# From https://github.com/gitmylo/bark-voice-cloning-HuBERT-quantizer\u001b[39;00m\n\u001b[0;32m----> 2\u001b[0m \u001b[38;5;28;01mfrom\u001b[39;00m \u001b[38;5;21;01mbark_hubert_quantizer\u001b[39;00m\u001b[38;5;21;01m.\u001b[39;00m\u001b[38;5;21;01mhubert_manager\u001b[39;00m \u001b[38;5;28;01mimport\u001b[39;00m HuBERTManager\n\u001b[1;32m      3\u001b[0m hubert_manager \u001b[38;5;241m=\u001b[39m HuBERTManager()\n\u001b[1;32m      4\u001b[0m hubert_manager\u001b[38;5;241m.\u001b[39mmake_sure_hubert_installed()\n",
      "\u001b[0;31mModuleNotFoundError\u001b[0m: No module named 'bark_hubert_quantizer'"
     ]
    }
   ],
   "source": [
    "# From https://github.com/gitmylo/bark-voice-cloning-HuBERT-quantizer\n",
    "from bark_hubert_quantizer.hubert_manager import HuBERTManager\n",
    "hubert_manager = HuBERTManager()\n",
    "hubert_manager.make_sure_hubert_installed()\n",
    "hubert_manager.make_sure_tokenizer_installed()"
   ]
  },
  {
   "cell_type": "code",
   "execution_count": null,
   "id": "6a3cf09c-bcf0-4b96-8824-a1425cf2ecb6",
   "metadata": {},
   "outputs": [],
   "source": []
  }
 ],
 "metadata": {
  "kernelspec": {
   "display_name": "Python 3 (ipykernel)",
   "language": "python",
   "name": "python3"
  },
  "language_info": {
   "codemirror_mode": {
    "name": "ipython",
    "version": 3
   },
   "file_extension": ".py",
   "mimetype": "text/x-python",
   "name": "python",
   "nbconvert_exporter": "python",
   "pygments_lexer": "ipython3",
   "version": "3.11.7"
  }
 },
 "nbformat": 4,
 "nbformat_minor": 5
}
