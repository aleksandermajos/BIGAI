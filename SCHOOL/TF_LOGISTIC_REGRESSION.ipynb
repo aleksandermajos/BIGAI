{
 "cells": [
  {
   "cell_type": "code",
   "execution_count": 1,
   "id": "9f5c76f4",
   "metadata": {},
   "outputs": [
    {
     "name": "stdout",
     "output_type": "stream",
     "text": [
      "2.8.0\n"
     ]
    }
   ],
   "source": [
    "import tensorflow as tf\n",
    "print(tf.__version__)"
   ]
  },
  {
   "cell_type": "code",
   "execution_count": 2,
   "id": "a2cf1637-9d42-4577-9c07-571de48ac1fc",
   "metadata": {},
   "outputs": [],
   "source": [
    "import tensorflow as tf\n",
    "import numpy as np\n",
    "import matplotlib.pyplot as plt\n",
    "import pandas as pd\n",
    "import tensorflow.keras as K\n",
    "from tensorflow.keras.layers import Dense, Flatten"
   ]
  },
  {
   "cell_type": "code",
   "execution_count": 3,
   "id": "8ec56b9b-dbe7-4dd8-854e-7b8dd6aca230",
   "metadata": {},
   "outputs": [],
   "source": [
    "((train_data, train_labels),(test_data, test_labels)) = tf.keras.datasets.mnist.load_data()"
   ]
  },
  {
   "cell_type": "code",
   "execution_count": 4,
   "id": "6dcce931-108f-4049-953a-14aab5455f44",
   "metadata": {},
   "outputs": [],
   "source": [
    "train_data = train_data/np.float32(255)\n",
    "train_labels = train_labels.astype(np.int32)\n",
    "test_data = test_data/np.float32(255)\n",
    "test_labels = test_labels.astype(np.int32)"
   ]
  },
  {
   "cell_type": "code",
   "execution_count": 6,
   "id": "944c3c0e-63df-4201-8103-884ecb2b89ad",
   "metadata": {},
   "outputs": [
    {
     "data": {
      "text/plain": [
       "array([5, 0, 4, ..., 5, 6, 8])"
      ]
     },
     "execution_count": 6,
     "metadata": {},
     "output_type": "execute_result"
    }
   ],
   "source": [
    "train_labels"
   ]
  },
  {
   "cell_type": "code",
   "execution_count": 8,
   "id": "7d943d34-29b0-4fc6-bb2d-ae5f39113d89",
   "metadata": {},
   "outputs": [
    {
     "name": "stdout",
     "output_type": "stream",
     "text": [
      "Model: \"sequential\"\n",
      "_________________________________________________________________\n",
      " Layer (type)                Output Shape              Param #   \n",
      "=================================================================\n",
      " flatten (Flatten)           (None, 784)               0         \n",
      "                                                                 \n",
      " dense (Dense)               (None, 10)                7850      \n",
      "                                                                 \n",
      "=================================================================\n",
      "Total params: 7,850\n",
      "Trainable params: 7,850\n",
      "Non-trainable params: 0\n",
      "_________________________________________________________________\n"
     ]
    }
   ],
   "source": [
    "model = K.Sequential([Flatten(input_shape=(28,28)),\n",
    "                      Dense(10, activation = 'sigmoid')])\n",
    "model.summary()"
   ]
  },
  {
   "cell_type": "code",
   "execution_count": 9,
   "id": "df7fd3d8-9040-481e-b019-3fba60f2d887",
   "metadata": {},
   "outputs": [],
   "source": [
    "model.compile(optimizer='adam',\n",
    "              loss=tf.keras.losses.SparseCategoricalCrossentropy(from_logits=True),\n",
    "              metrics = ['accuracy'])"
   ]
  },
  {
   "cell_type": "code",
   "execution_count": 10,
   "id": "3ffe161c-af80-4ba7-a8a8-f3783e8570f7",
   "metadata": {},
   "outputs": [
    {
     "name": "stdout",
     "output_type": "stream",
     "text": [
      "Epoch 1/50\n"
     ]
    },
    {
     "name": "stderr",
     "output_type": "stream",
     "text": [
      "C:\\Users\\aleks\\AppData\\Roaming\\Python\\Python39\\site-packages\\tensorflow\\python\\util\\dispatch.py:1082: UserWarning: \"`sparse_categorical_crossentropy` received `from_logits=True`, but the `output` argument was produced by a sigmoid or softmax activation and thus does not represent logits. Was this intended?\"\n",
      "  return dispatch_target(*args, **kwargs)\n"
     ]
    },
    {
     "name": "stdout",
     "output_type": "stream",
     "text": [
      "1500/1500 [==============================] - 6s 3ms/step - loss: 0.5046 - accuracy: 0.8695 - val_loss: 0.3152 - val_accuracy: 0.9147\n",
      "Epoch 2/50\n",
      "1500/1500 [==============================] - 3s 2ms/step - loss: 0.3171 - accuracy: 0.9115 - val_loss: 0.2873 - val_accuracy: 0.9202\n",
      "Epoch 3/50\n",
      "1500/1500 [==============================] - 3s 2ms/step - loss: 0.2934 - accuracy: 0.9176 - val_loss: 0.2762 - val_accuracy: 0.9240\n",
      "Epoch 4/50\n",
      "1500/1500 [==============================] - 3s 2ms/step - loss: 0.2816 - accuracy: 0.9216 - val_loss: 0.2734 - val_accuracy: 0.9252\n",
      "Epoch 5/50\n",
      "1500/1500 [==============================] - 3s 2ms/step - loss: 0.2734 - accuracy: 0.9235 - val_loss: 0.2693 - val_accuracy: 0.9237\n",
      "Epoch 6/50\n",
      "1500/1500 [==============================] - 3s 2ms/step - loss: 0.2679 - accuracy: 0.9254 - val_loss: 0.2640 - val_accuracy: 0.9278\n",
      "Epoch 7/50\n",
      "1500/1500 [==============================] - 3s 2ms/step - loss: 0.2638 - accuracy: 0.9260 - val_loss: 0.2673 - val_accuracy: 0.9273\n",
      "Epoch 8/50\n",
      "1500/1500 [==============================] - 3s 2ms/step - loss: 0.2607 - accuracy: 0.9270 - val_loss: 0.2633 - val_accuracy: 0.9277\n",
      "Epoch 9/50\n",
      "1500/1500 [==============================] - 3s 2ms/step - loss: 0.2578 - accuracy: 0.9279 - val_loss: 0.2630 - val_accuracy: 0.9280\n",
      "Epoch 10/50\n",
      "1500/1500 [==============================] - 3s 2ms/step - loss: 0.2557 - accuracy: 0.9283 - val_loss: 0.2614 - val_accuracy: 0.9299\n",
      "Epoch 11/50\n",
      "1500/1500 [==============================] - 4s 2ms/step - loss: 0.2532 - accuracy: 0.9298 - val_loss: 0.2623 - val_accuracy: 0.9284\n",
      "Epoch 12/50\n",
      "1500/1500 [==============================] - 4s 2ms/step - loss: 0.2508 - accuracy: 0.9299 - val_loss: 0.2623 - val_accuracy: 0.9300\n",
      "Epoch 13/50\n",
      "1500/1500 [==============================] - 3s 2ms/step - loss: 0.2495 - accuracy: 0.9306 - val_loss: 0.2617 - val_accuracy: 0.9299\n",
      "Epoch 14/50\n",
      "1500/1500 [==============================] - 3s 2ms/step - loss: 0.2478 - accuracy: 0.9314 - val_loss: 0.2611 - val_accuracy: 0.9302\n",
      "Epoch 15/50\n",
      "1500/1500 [==============================] - 3s 2ms/step - loss: 0.2467 - accuracy: 0.9314 - val_loss: 0.2597 - val_accuracy: 0.9308\n",
      "Epoch 16/50\n",
      "1500/1500 [==============================] - 4s 2ms/step - loss: 0.2459 - accuracy: 0.9315 - val_loss: 0.2638 - val_accuracy: 0.9293\n",
      "Epoch 17/50\n",
      "1500/1500 [==============================] - 3s 2ms/step - loss: 0.2439 - accuracy: 0.9325 - val_loss: 0.2641 - val_accuracy: 0.9280\n",
      "Epoch 18/50\n",
      "1500/1500 [==============================] - 3s 2ms/step - loss: 0.2435 - accuracy: 0.9321 - val_loss: 0.2622 - val_accuracy: 0.9302\n",
      "Epoch 19/50\n",
      "1500/1500 [==============================] - 3s 2ms/step - loss: 0.2427 - accuracy: 0.9321 - val_loss: 0.2626 - val_accuracy: 0.9310\n",
      "Epoch 20/50\n",
      "1500/1500 [==============================] - 3s 2ms/step - loss: 0.2414 - accuracy: 0.9327 - val_loss: 0.2648 - val_accuracy: 0.9308\n",
      "Epoch 21/50\n",
      "1500/1500 [==============================] - 3s 2ms/step - loss: 0.2407 - accuracy: 0.9331 - val_loss: 0.2624 - val_accuracy: 0.9317\n",
      "Epoch 22/50\n",
      "1500/1500 [==============================] - 3s 2ms/step - loss: 0.2393 - accuracy: 0.9338 - val_loss: 0.2630 - val_accuracy: 0.9317\n",
      "Epoch 23/50\n",
      "1500/1500 [==============================] - 4s 2ms/step - loss: 0.2385 - accuracy: 0.9330 - val_loss: 0.2666 - val_accuracy: 0.9293\n",
      "Epoch 24/50\n",
      "1500/1500 [==============================] - 4s 2ms/step - loss: 0.2388 - accuracy: 0.9328 - val_loss: 0.2642 - val_accuracy: 0.9302\n",
      "Epoch 25/50\n",
      "1500/1500 [==============================] - 4s 2ms/step - loss: 0.2379 - accuracy: 0.9331 - val_loss: 0.2662 - val_accuracy: 0.9296\n",
      "Epoch 26/50\n",
      "1500/1500 [==============================] - 3s 2ms/step - loss: 0.2369 - accuracy: 0.9345 - val_loss: 0.2648 - val_accuracy: 0.9293\n",
      "Epoch 27/50\n",
      "1500/1500 [==============================] - 4s 2ms/step - loss: 0.2363 - accuracy: 0.9344 - val_loss: 0.2654 - val_accuracy: 0.9300\n",
      "Epoch 28/50\n",
      "1500/1500 [==============================] - 3s 2ms/step - loss: 0.2359 - accuracy: 0.9344 - val_loss: 0.2654 - val_accuracy: 0.9304\n",
      "Epoch 29/50\n",
      "1500/1500 [==============================] - 4s 2ms/step - loss: 0.2347 - accuracy: 0.9345 - val_loss: 0.2669 - val_accuracy: 0.9316\n",
      "Epoch 30/50\n",
      "1500/1500 [==============================] - 4s 2ms/step - loss: 0.2345 - accuracy: 0.9348 - val_loss: 0.2667 - val_accuracy: 0.9306\n",
      "Epoch 31/50\n",
      "1500/1500 [==============================] - 3s 2ms/step - loss: 0.2339 - accuracy: 0.9352 - val_loss: 0.2649 - val_accuracy: 0.9308\n",
      "Epoch 32/50\n",
      "1500/1500 [==============================] - 3s 2ms/step - loss: 0.2335 - accuracy: 0.9345 - val_loss: 0.2676 - val_accuracy: 0.9298\n",
      "Epoch 33/50\n",
      "1500/1500 [==============================] - 4s 2ms/step - loss: 0.2331 - accuracy: 0.9353 - val_loss: 0.2716 - val_accuracy: 0.9283\n",
      "Epoch 34/50\n",
      "1500/1500 [==============================] - 4s 2ms/step - loss: 0.2330 - accuracy: 0.9350 - val_loss: 0.2695 - val_accuracy: 0.9281\n",
      "Epoch 35/50\n",
      "1500/1500 [==============================] - 3s 2ms/step - loss: 0.2321 - accuracy: 0.9353 - val_loss: 0.2699 - val_accuracy: 0.9290\n",
      "Epoch 36/50\n",
      "1500/1500 [==============================] - 4s 2ms/step - loss: 0.2320 - accuracy: 0.9352 - val_loss: 0.2705 - val_accuracy: 0.9283\n",
      "Epoch 37/50\n",
      "1500/1500 [==============================] - 3s 2ms/step - loss: 0.2317 - accuracy: 0.9347 - val_loss: 0.2685 - val_accuracy: 0.9300\n",
      "Epoch 38/50\n",
      "1500/1500 [==============================] - 3s 2ms/step - loss: 0.2313 - accuracy: 0.9357 - val_loss: 0.2684 - val_accuracy: 0.9303\n",
      "Epoch 39/50\n",
      "1500/1500 [==============================] - 3s 2ms/step - loss: 0.2307 - accuracy: 0.9357 - val_loss: 0.2707 - val_accuracy: 0.9290\n",
      "Epoch 40/50\n",
      "1500/1500 [==============================] - 3s 2ms/step - loss: 0.2304 - accuracy: 0.9361 - val_loss: 0.2728 - val_accuracy: 0.9285\n",
      "Epoch 41/50\n",
      "1500/1500 [==============================] - 3s 2ms/step - loss: 0.2301 - accuracy: 0.9355 - val_loss: 0.2698 - val_accuracy: 0.9279\n",
      "Epoch 42/50\n",
      "1500/1500 [==============================] - 3s 2ms/step - loss: 0.2293 - accuracy: 0.9366 - val_loss: 0.2717 - val_accuracy: 0.9287\n",
      "Epoch 43/50\n",
      "1500/1500 [==============================] - 3s 2ms/step - loss: 0.2295 - accuracy: 0.9360 - val_loss: 0.2720 - val_accuracy: 0.9281\n",
      "Epoch 44/50\n",
      "1500/1500 [==============================] - 3s 2ms/step - loss: 0.2292 - accuracy: 0.9368 - val_loss: 0.2693 - val_accuracy: 0.9300\n",
      "Epoch 45/50\n",
      "1500/1500 [==============================] - 4s 2ms/step - loss: 0.2283 - accuracy: 0.9363 - val_loss: 0.2759 - val_accuracy: 0.9279\n",
      "Epoch 46/50\n",
      "1500/1500 [==============================] - 3s 2ms/step - loss: 0.2286 - accuracy: 0.9370 - val_loss: 0.2730 - val_accuracy: 0.9291\n",
      "Epoch 47/50\n",
      "1500/1500 [==============================] - 3s 2ms/step - loss: 0.2282 - accuracy: 0.9363 - val_loss: 0.2745 - val_accuracy: 0.9284\n",
      "Epoch 48/50\n",
      "1500/1500 [==============================] - 3s 2ms/step - loss: 0.2281 - accuracy: 0.9362 - val_loss: 0.2723 - val_accuracy: 0.9285\n",
      "Epoch 49/50\n",
      "1500/1500 [==============================] - 3s 2ms/step - loss: 0.2270 - accuracy: 0.9362 - val_loss: 0.2740 - val_accuracy: 0.9277\n",
      "Epoch 50/50\n",
      "1500/1500 [==============================] - 3s 2ms/step - loss: 0.2273 - accuracy: 0.9370 - val_loss: 0.2750 - val_accuracy: 0.9283\n"
     ]
    }
   ],
   "source": [
    "history = model.fit(x=train_data,y=train_labels, epochs=50, verbose=1,validation_split=0.2) "
   ]
  },
  {
   "cell_type": "code",
   "execution_count": 11,
   "id": "3119430b-b426-48d8-b303-f350f3c66025",
   "metadata": {},
   "outputs": [
    {
     "data": {
      "image/png": "[encoded data removed]",
      "text/plain": [
       "<Figure size 432x288 with 1 Axes>"
      ]
     },
     "metadata": {
      "needs_background": "light"
     },
     "output_type": "display_data"
    }
   ],
   "source": [
    "plt.plot(history.history['loss'], label='loss')\n",
    "plt.plot(history.history['val_loss'], label='val_loss')\n",
    "plt.xlabel('Epoch')\n",
    "plt.ylabel('Loss')\n",
    "plt.legend()\n",
    "plt.grid(True)"
   ]
  },
  {
   "cell_type": "code",
   "execution_count": 16,
   "id": "35c17099-bf89-4709-b9f0-3228a49af808",
   "metadata": {},
   "outputs": [],
   "source": [
    "def plot_image(i, predictions_array, true_label, img):\n",
    "    true_label, img = true_label[i], img[i]\n",
    "    plt.grid(False)\n",
    "    plt.xticks([])\n",
    "    plt.yticks([])\n",
    "\n",
    "    plt.imshow(img, cmap=plt.cm.binary)\n",
    "\n",
    "    predicted_label = np.argmax(predictions_array)\n",
    "    if predicted_label == true_label:\n",
    "        color = 'blue'\n",
    "    else:\n",
    "        color = 'red'\n",
    "\n",
    "    plt.xlabel(\"Pred {} Conf: {:2.0f}% True ({})\".format(predicted_label,\n",
    "                                100*np.max(predictions_array),\n",
    "                                true_label),\n",
    "                                color=color)"
   ]
  },
  {
   "cell_type": "code",
   "execution_count": 17,
   "id": "bf7dca48-e0c8-4ba9-a721-a00d2af815f9",
   "metadata": {},
   "outputs": [],
   "source": [
    "def plot_value_array(i, predictions_array, true_label):\n",
    "    true_label = true_label[i]\n",
    "    plt.grid(False)\n",
    "    plt.xticks(range(10))\n",
    "    plt.yticks([])\n",
    "    thisplot = plt.bar(range(10), predictions_array, color='#777777')\n",
    "    plt.ylim([0,1])\n",
    "    predictions_label = np.argmax(predictions_array)\n",
    "    \n",
    "    thisplot[predictions_label].set_color('red')\n",
    "    thisplot[true_label].set_color('blue')"
   ]
  },
  {
   "cell_type": "code",
   "execution_count": 19,
   "id": "5addce09-57a0-4984-b0c2-07c6be853506",
   "metadata": {},
   "outputs": [],
   "source": [
    "predictions = model.predict(test_data)"
   ]
  },
  {
   "cell_type": "code",
   "execution_count": 20,
   "id": "e88a916a-2e0c-4a47-97fa-105417fb5399",
   "metadata": {},
   "outputs": [
    {
     "data": {
      "image/png": "[encoded data removed]",
      "text/plain": [
       "<Figure size 720x360 with 2 Axes>"
      ]
     },
     "metadata": {
      "needs_background": "light"
     },
     "output_type": "display_data"
    }
   ],
   "source": [
    "i=144\n",
    "plt.figure(figsize=(10,5))\n",
    "plt.subplot(1,2,1)\n",
    "plot_image(i, predictions[i], test_labels, test_data)\n",
    "plt.subplot(1,2,2)\n",
    "plot_value_array(i, predictions[i], test_labels)\n",
    "plt.show()"
   ]
  },
  {
   "cell_type": "code",
   "execution_count": 21,
   "id": "67e1c900-ddad-43b7-bd4f-9f32984c63e1",
   "metadata": {},
   "outputs": [
    {
     "name": "stdout",
     "output_type": "stream",
     "text": [
      "Model: \"sequential_1\"\n",
      "_________________________________________________________________\n",
      " Layer (type)                Output Shape              Param #   \n",
      "=================================================================\n",
      " flatten_1 (Flatten)         (None, 784)               0         \n",
      "                                                                 \n",
      " dense_1 (Dense)             (None, 128)               100480    \n",
      "                                                                 \n",
      " dense_2 (Dense)             (None, 10)                1290      \n",
      "                                                                 \n",
      "=================================================================\n",
      "Total params: 101,770\n",
      "Trainable params: 101,770\n",
      "Non-trainable params: 0\n",
      "_________________________________________________________________\n"
     ]
    }
   ],
   "source": [
    "better_model = K.Sequential([\n",
    "    Flatten(input_shape=(28,28)),\n",
    "    Dense(128, activation='relu'),\n",
    "    Dense(10,activation='softmax')])\n",
    "better_model.summary()"
   ]
  },
  {
   "cell_type": "code",
   "execution_count": 23,
   "id": "14da6e89-4183-4e7d-997f-6ebbcdc0e8bc",
   "metadata": {},
   "outputs": [
    {
     "name": "stdout",
     "output_type": "stream",
     "text": [
      "Epoch 1/10\n"
     ]
    },
    {
     "name": "stderr",
     "output_type": "stream",
     "text": [
      "C:\\Users\\aleks\\AppData\\Roaming\\Python\\Python39\\site-packages\\tensorflow\\python\\util\\dispatch.py:1082: UserWarning: \"`sparse_categorical_crossentropy` received `from_logits=True`, but the `output` argument was produced by a sigmoid or softmax activation and thus does not represent logits. Was this intended?\"\n",
      "  return dispatch_target(*args, **kwargs)\n"
     ]
    },
    {
     "name": "stdout",
     "output_type": "stream",
     "text": [
      "1500/1500 [==============================] - 4s 3ms/step - loss: 0.2832 - accuracy: 0.9183 - val_loss: 0.1608 - val_accuracy: 0.9534\n",
      "Epoch 2/10\n",
      "1500/1500 [==============================] - 4s 3ms/step - loss: 0.1278 - accuracy: 0.9621 - val_loss: 0.1108 - val_accuracy: 0.9682\n",
      "Epoch 3/10\n",
      "1500/1500 [==============================] - 4s 2ms/step - loss: 0.0871 - accuracy: 0.9743 - val_loss: 0.0947 - val_accuracy: 0.9720\n",
      "Epoch 4/10\n",
      "1500/1500 [==============================] - 4s 3ms/step - loss: 0.0642 - accuracy: 0.9803 - val_loss: 0.0902 - val_accuracy: 0.9726\n",
      "Epoch 5/10\n",
      "1500/1500 [==============================] - 4s 3ms/step - loss: 0.0505 - accuracy: 0.9848 - val_loss: 0.0855 - val_accuracy: 0.9740\n",
      "Epoch 6/10\n",
      "1500/1500 [==============================] - 4s 3ms/step - loss: 0.0385 - accuracy: 0.9885 - val_loss: 0.0848 - val_accuracy: 0.9749\n",
      "Epoch 7/10\n",
      "1500/1500 [==============================] - 4s 3ms/step - loss: 0.0300 - accuracy: 0.9913 - val_loss: 0.0864 - val_accuracy: 0.9749\n",
      "Epoch 8/10\n",
      "1500/1500 [==============================] - 4s 3ms/step - loss: 0.0238 - accuracy: 0.9926 - val_loss: 0.0980 - val_accuracy: 0.9750\n",
      "Epoch 9/10\n",
      "1500/1500 [==============================] - 4s 3ms/step - loss: 0.0193 - accuracy: 0.9943 - val_loss: 0.0968 - val_accuracy: 0.9741\n",
      "Epoch 10/10\n",
      "1500/1500 [==============================] - 4s 3ms/step - loss: 0.0158 - accuracy: 0.9953 - val_loss: 0.1004 - val_accuracy: 0.9740\n"
     ]
    }
   ],
   "source": [
    "better_model.compile(optimizer='adam',\n",
    "              loss=tf.keras.losses.SparseCategoricalCrossentropy(from_logits=True),\n",
    "              metrics=['accuracy'])\n",
    "history = better_model.fit(x=train_data, y=train_labels, epochs=10, verbose=1, validation_split=0.2)"
   ]
  },
  {
   "cell_type": "code",
   "execution_count": 24,
   "id": "6ba68c64-8af6-4691-9fc6-7e3d822ee487",
   "metadata": {},
   "outputs": [
    {
     "data": {
      "image/png": "[encoded data removed]",
      "text/plain": [
       "<Figure size 432x288 with 1 Axes>"
      ]
     },
     "metadata": {
      "needs_background": "light"
     },
     "output_type": "display_data"
    }
   ],
   "source": [
    "plt.plot(history.history['loss'], label='loss')\n",
    "plt.plot(history.history['val_loss'], label='val_loss')\n",
    "plt.xlabel('Epoch')\n",
    "plt.ylabel('Loss')\n",
    "plt.legend()\n",
    "plt.grid(True)"
   ]
  },
  {
   "cell_type": "code",
   "execution_count": 25,
   "id": "86e1ea11-2ae0-4196-9b2a-101be40cfaa6",
   "metadata": {},
   "outputs": [
    {
     "data": {
      "image/png": "[encoded data removed]",
      "text/plain": [
       "<Figure size 720x360 with 2 Axes>"
      ]
     },
     "metadata": {
      "needs_background": "light"
     },
     "output_type": "display_data"
    }
   ],
   "source": [
    "predictions = better_model.predict(test_data)\n",
    "i = 144\n",
    "plt.figure(figsize=(10,5))\n",
    "plt.subplot(1,2,1)\n",
    "plot_image(i, predictions[i], test_labels, test_data)\n",
    "plt.subplot(1,2,2)\n",
    "plot_value_array(i, predictions[i],  test_labels)\n",
    "plt.show()"
   ]
  },
  {
   "cell_type": "code",
   "execution_count": null,
   "id": "85686c21-2343-47e2-a5ce-5fd16078208d",
   "metadata": {},
   "outputs": [],
   "source": []
  }
 ],
 "metadata": {
  "kernelspec": {
   "display_name": "Python 3 (ipykernel)",
   "language": "python",
   "name": "python3"
  },
  "language_info": {
   "codemirror_mode": {
    "name": "ipython",
    "version": 3
   },
   "file_extension": ".py",
   "mimetype": "text/x-python",
   "name": "python",
   "nbconvert_exporter": "python",
   "pygments_lexer": "ipython3",
   "version": "3.9.15"
  }
 },
 "nbformat": 4,
 "nbformat_minor": 5
}
