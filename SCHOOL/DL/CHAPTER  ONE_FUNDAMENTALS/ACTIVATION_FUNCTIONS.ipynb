{
 "cells": [
  {
   "cell_type": "markdown",
   "metadata": {},
   "source": [
    "# Activation functions\n"
   ]
  },
  {
   "cell_type": "code",
   "execution_count": 50,
   "metadata": {},
   "outputs": [],
   "source": [
    "import numpy as np\n",
    "import matplotlib as mpl\n",
    "import matplotlib.pyplot as plt\n",
    "\n",
    "%matplotlib inline"
   ]
  },
  {
   "cell_type": "code",
   "execution_count": 51,
   "metadata": {},
   "outputs": [],
   "source": [
    "z = np.linspace(-10, 10, 200)"
   ]
  },
  {
   "cell_type": "code",
   "execution_count": 52,
   "metadata": {},
   "outputs": [],
   "source": [
    "def derivative(f, z, eps=0.000001):\n",
    "    return (f(z + eps) - f(z - eps))/(2 * eps)"
   ]
  },
  {
   "cell_type": "markdown",
   "metadata": {},
   "source": [
    "## 1. Sigmoid (Logistic)"
   ]
  },
  {
   "cell_type": "code",
   "execution_count": 53,
   "metadata": {},
   "outputs": [],
   "source": [
    "def sigmoid(z):\n",
    "    return 1 / (1 + np.exp(-z))"
   ]
  },
  {
   "cell_type": "code",
   "execution_count": 54,
   "metadata": {},
   "outputs": [
    {
     "data": {
      "image/png": "[encoded data removed]",
      "text/plain": [
       "<Figure size 792x288 with 2 Axes>"
      ]
     },
     "metadata": {
      "needs_background": "light"
     },
     "output_type": "display_data"
    }
   ],
   "source": [
    "plt.figure(figsize=(11,4))\n",
    "\n",
    "plt.subplot(1,2,1)\n",
    "# coordinate \n",
    "plt.plot([-7, 7], [0, 0], 'k-', linewidth=1)\n",
    "plt.plot([-5, 5], [-1, -1], 'k--', linewidth=1)\n",
    "plt.plot([0, 0], [-2.2, 3.2], 'k-', linewidth=1)\n",
    "plt.plot([-7,7], [1,1], 'k--', linewidth=1)\n",
    "# Plot sigmoid\n",
    "plt.plot(z, sigmoid(z), \"b-\", linewidth=2, label=\"Sigmoid\")\n",
    "plt.grid(True)\n",
    "plt.title(\"Sigmoid activation function\", fontsize=14)\n",
    "plt.axis([-7, 7, -0.2, 1.2])\n",
    "\n",
    "plt.subplot(1,2,2)\n",
    "plt.plot([-7, 7], [0, 0], 'k-', linewidth=1)\n",
    "plt.plot([-5, 5], [-1, -1], 'k--', linewidth=1)\n",
    "plt.plot([0, 0], [-2.2, 3.2], 'k-', linewidth=1)\n",
    "plt.plot(z, derivative(sigmoid, z), \"b-\", linewidth=2, label=\"Sigmoid\")\n",
    "plt.grid(True)\n",
    "plt.title(\"Derivative\", fontsize=14)\n",
    "plt.axis([-7, 7, -0.2, 1.2])\n",
    "plt.show()"
   ]
  },
  {
   "cell_type": "markdown",
   "metadata": {},
   "source": [
    "### How to use it with Keras and TensorFlow 2"
   ]
  },
  {
   "cell_type": "code",
   "execution_count": 55,
   "metadata": {},
   "outputs": [
    {
     "data": {
      "text/plain": [
       "<keras.layers.core.dense.Dense at 0x179e22a9550>"
      ]
     },
     "execution_count": 55,
     "metadata": {},
     "output_type": "execute_result"
    }
   ],
   "source": [
    "from tensorflow.keras.layers import Dense\n",
    "\n",
    "Dense(10, activation='sigmoid')"
   ]
  },
  {
   "cell_type": "code",
   "execution_count": 56,
   "metadata": {},
   "outputs": [
    {
     "data": {
      "text/plain": [
       "array([2.0611535e-09, 2.6894143e-01, 5.0000000e-01, 7.6852483e-01],\n",
       "      dtype=float32)"
      ]
     },
     "execution_count": 56,
     "metadata": {},
     "output_type": "execute_result"
    }
   ],
   "source": [
    "import tensorflow as tf\n",
    "from tensorflow.keras.activations import sigmoid\n",
    "z = tf.constant([-20, -1, 0, 1.2], dtype=tf.float32)\n",
    "output = sigmoid(z)\n",
    "output.numpy()"
   ]
  },
  {
   "cell_type": "markdown",
   "metadata": {},
   "source": [
    "## 2. Tanh"
   ]
  },
  {
   "cell_type": "code",
   "execution_count": 57,
   "metadata": {},
   "outputs": [
    {
     "data": {
      "image/png": "[encoded data removed]",
      "text/plain": [
       "<Figure size 792x288 with 2 Axes>"
      ]
     },
     "metadata": {
      "needs_background": "light"
     },
     "output_type": "display_data"
    }
   ],
   "source": [
    "plt.figure(figsize=(11,4))\n",
    "\n",
    "plt.subplot(1,2,1)\n",
    "# coordinate \n",
    "plt.plot([-7, 7], [0, 0], 'k-', linewidth=1)\n",
    "plt.plot([-5, 5], [-1, -1], 'k--', linewidth=1)\n",
    "plt.plot([0, 0], [-2.2, 3.2], 'k-', linewidth=1)\n",
    "plt.plot([-7,7], [1,1], 'k--', linewidth=1)\n",
    "# Plot\n",
    "plt.plot(z, np.tanh(z), \"b-\", linewidth=2, label=\"Tanh\")\n",
    "plt.grid(True)\n",
    "plt.title(\"Tanh activation function\", fontsize=14)\n",
    "plt.axis([-5, 5, -1.2, 1.2])\n",
    "\n",
    "plt.subplot(1,2,2)\n",
    "# coordinate \n",
    "plt.plot([-7, 7], [0, 0], 'k-', linewidth=1)\n",
    "plt.plot([0, 0], [-2.2, 3.2], 'k-', linewidth=1)\n",
    "# Plot\n",
    "plt.plot(z, derivative(np.tanh, z), \"b-\", linewidth=2, label=\"Tanh\")\n",
    "plt.grid(True)\n",
    "plt.title(\"Derivative\", fontsize=14)\n",
    "plt.axis([-5, 5, -1.2, 1.2])\n",
    "plt.show()"
   ]
  },
  {
   "cell_type": "markdown",
   "metadata": {},
   "source": [
    "### How to use it with Keras and TensorFlow 2"
   ]
  },
  {
   "cell_type": "code",
   "execution_count": 58,
   "metadata": {},
   "outputs": [
    {
     "data": {
      "text/plain": [
       "<keras.layers.core.dense.Dense at 0x179f5d59910>"
      ]
     },
     "execution_count": 58,
     "metadata": {},
     "output_type": "execute_result"
    }
   ],
   "source": [
    "from tensorflow.keras.layers import Dense\n",
    "\n",
    "Dense(10, activation='tanh')"
   ]
  },
  {
   "cell_type": "code",
   "execution_count": 59,
   "metadata": {},
   "outputs": [
    {
     "data": {
      "text/plain": [
       "array([-1.       , -0.7615942,  0.       ,  0.8336546], dtype=float32)"
      ]
     },
     "execution_count": 59,
     "metadata": {},
     "output_type": "execute_result"
    }
   ],
   "source": [
    "import tensorflow as tf\n",
    "from tensorflow.keras.activations import tanh\n",
    "\n",
    "z = tf.constant([-20, -1, 0, 1.2], dtype=tf.float32)\n",
    "output = tanh(z)\n",
    "output.numpy()"
   ]
  },
  {
   "cell_type": "markdown",
   "metadata": {},
   "source": [
    "## 3. ReLU"
   ]
  },
  {
   "cell_type": "code",
   "execution_count": 60,
   "metadata": {},
   "outputs": [],
   "source": [
    "def relu(z):\n",
    "    return np.maximum(0, z)"
   ]
  },
  {
   "cell_type": "code",
   "execution_count": 61,
   "metadata": {},
   "outputs": [
    {
     "data": {
      "image/png": "[encoded data removed]",
      "text/plain": [
       "<Figure size 792x288 with 2 Axes>"
      ]
     },
     "metadata": {
      "needs_background": "light"
     },
     "output_type": "display_data"
    }
   ],
   "source": [
    "plt.figure(figsize=(11,4))\n",
    "\n",
    "plt.subplot(1, 2, 1)\n",
    "# coordinate \n",
    "plt.plot([-7, 7], [0, 0], 'k-', linewidth=1)\n",
    "plt.plot([0, 0], [-2.2, 5], 'k-', linewidth=1)\n",
    "# Plot\n",
    "plt.plot(z, relu(z), \"b-\", linewidth=2, label=\"ReLU\")\n",
    "plt.grid(True)\n",
    "plt.title(\"ReLU activation function\", fontsize=14)\n",
    "plt.axis([-5, 5, -0.2, 5])\n",
    "\n",
    "plt.subplot(1, 2,2)\n",
    "# coordinate \n",
    "plt.plot([-7, 7], [0, 0], 'k-', linewidth=1)\n",
    "plt.plot([0, 0], [-2.2, 5], 'k-', linewidth=1)\n",
    "# Plot\n",
    "plt.plot(z, derivative(relu, z), \"b-\", linewidth=2, label=\"ReLU\")\n",
    "plt.grid(True)\n",
    "plt.title(\"Derivative\", fontsize=14)\n",
    "plt.axis([-5, 5, -0.2, 5])\n",
    "plt.show()"
   ]
  },
  {
   "cell_type": "markdown",
   "metadata": {},
   "source": [
    "### How to use it with Keras and TensorFlow 2"
   ]
  },
  {
   "cell_type": "code",
   "execution_count": 62,
   "metadata": {},
   "outputs": [
    {
     "data": {
      "text/plain": [
       "<keras.layers.core.dense.Dense at 0x17989ede9d0>"
      ]
     },
     "execution_count": 62,
     "metadata": {},
     "output_type": "execute_result"
    }
   ],
   "source": [
    "from tensorflow.keras.layers import Dense\n",
    "\n",
    "Dense(10, activation='relu')"
   ]
  },
  {
   "cell_type": "code",
   "execution_count": 63,
   "metadata": {},
   "outputs": [
    {
     "data": {
      "text/plain": [
       "array([0. , 0. , 0. , 1.2], dtype=float32)"
      ]
     },
     "execution_count": 63,
     "metadata": {},
     "output_type": "execute_result"
    }
   ],
   "source": [
    "import tensorflow as tf\n",
    "from tensorflow.keras.activations import relu\n",
    "\n",
    "z = tf.constant([-20, -1, 0, 1.2], dtype=tf.float32)\n",
    "output = relu(z)\n",
    "output.numpy()"
   ]
  },
  {
   "cell_type": "markdown",
   "metadata": {},
   "source": [
    "## 4. Leaky ReLU"
   ]
  },
  {
   "cell_type": "code",
   "execution_count": 85,
   "metadata": {},
   "outputs": [],
   "source": [
    "def leaky_relu(z, alpha=0.05):\n",
    "    return np.maximum(alpha * z, z)"
   ]
  },
  {
   "cell_type": "code",
   "execution_count": 86,
   "metadata": {},
   "outputs": [
    {
     "data": {
      "image/png": "[encoded data removed]",
      "text/plain": [
       "<Figure size 792x288 with 2 Axes>"
      ]
     },
     "metadata": {
      "needs_background": "light"
     },
     "output_type": "display_data"
    }
   ],
   "source": [
    "plt.figure(figsize=(11,4))\n",
    "\n",
    "plt.subplot(1, 2, 1)\n",
    "# coordinate \n",
    "plt.plot([-7, 7], [0, 0], 'k-', linewidth=1)\n",
    "plt.plot([0, 0], [-2.2, 5], 'k-', linewidth=1)\n",
    "# Plot\n",
    "plt.plot(z, leaky_relu(z, 0.05), 'b-', linewidth=2)\n",
    "plt.plot([-5,5], [0,0], 'k-')\n",
    "plt.plot([0,0], [-0.5, 5], 'k-')\n",
    "plt.grid(True)\n",
    "plt.title(\"Leaky ReLU activation function\", fontsize=14)\n",
    "plt.axis([-5,5,-0.5, 2])\n",
    "\n",
    "plt.subplot(1, 2, 2)\n",
    "# coordinate \n",
    "plt.plot([-7, 7], [0, 0], 'k-', linewidth=1)\n",
    "plt.plot([0, 0], [-2.2, 5], 'k-', linewidth=1)\n",
    "# Plot\n",
    "plt.plot(z, derivative(leaky_relu, z), \"b-\", linewidth=2, label=\"Leaky ReLU\")\n",
    "plt.grid(True)\n",
    "plt.title(\"Derivative\", fontsize=14)\n",
    "plt.axis([-5,5,-0.05, 1.2])\n",
    "plt.show()"
   ]
  },
  {
   "cell_type": "markdown",
   "metadata": {},
   "source": [
    "### How to use it with Keras and TensorFlow 2"
   ]
  },
  {
   "cell_type": "code",
   "execution_count": 66,
   "metadata": {},
   "outputs": [
    {
     "data": {
      "text/plain": [
       "<keras.layers.core.dense.Dense at 0x1798dbbafa0>"
      ]
     },
     "execution_count": 66,
     "metadata": {},
     "output_type": "execute_result"
    }
   ],
   "source": [
    "from tensorflow.keras.layers import LeakyReLU, Dense\n",
    "\n",
    "leaky_relu = LeakyReLU(alpha=0.01)\n",
    "Dense(10, activation=leaky_relu)"
   ]
  },
  {
   "cell_type": "markdown",
   "metadata": {},
   "source": [
    "## 5. Parametric leaky ReLU (PReLU)\n",
    "\n",
    "please check out the [article](https://bindichen.medium.com/7-popular-activation-functions-you-should-know-in-deep-learning-and-how-to-use-them-with-keras-and-27b4d838dfe6)"
   ]
  },
  {
   "cell_type": "markdown",
   "metadata": {},
   "source": [
    "### How to use it with Keras and TensorFlow 2"
   ]
  },
  {
   "cell_type": "code",
   "execution_count": 67,
   "metadata": {},
   "outputs": [
    {
     "data": {
      "text/plain": [
       "<keras.layers.core.dense.Dense at 0x1798dbbab50>"
      ]
     },
     "execution_count": 67,
     "metadata": {},
     "output_type": "execute_result"
    }
   ],
   "source": [
    "from tensorflow.keras.layers import PReLU, Dense\n",
    "\n",
    "para_relu = PReLU()\n",
    "Dense(10, activation=para_relu)"
   ]
  },
  {
   "cell_type": "markdown",
   "metadata": {},
   "source": [
    "## 6. Exponential Linear Unit (ELU)"
   ]
  },
  {
   "cell_type": "code",
   "execution_count": 83,
   "metadata": {},
   "outputs": [],
   "source": [
    "def elu(z, alpha=0.9):\n",
    "    return np.where(z < 0, alpha * (np.exp(z) - 1), z)"
   ]
  },
  {
   "cell_type": "code",
   "execution_count": 84,
   "metadata": {},
   "outputs": [
    {
     "data": {
      "image/png": "[encoded data removed]",
      "text/plain": [
       "<Figure size 792x288 with 2 Axes>"
      ]
     },
     "metadata": {
      "needs_background": "light"
     },
     "output_type": "display_data"
    }
   ],
   "source": [
    "plt.figure(figsize=(11,4))\n",
    "\n",
    "plt.subplot(1,2,1)\n",
    "# coordinate \n",
    "plt.plot([-7, 7], [0, 0], 'k-', linewidth=1)\n",
    "plt.plot([0, 0], [-2.2, 5], 'k-', linewidth=1)\n",
    "# Plot\n",
    "plt.plot(z, elu(z), 'b-', linewidth=2)\n",
    "plt.plot([-5, 5], [0, 0], 'k-')\n",
    "plt.plot([-5, 5], [-1, -1], 'k--')\n",
    "plt.plot([0, 0], [-2.2, 3.2], 'k-')\n",
    "plt.grid(True)\n",
    "plt.title(\"ELU activation function\", fontsize=14)\n",
    "plt.axis([-5, 5, -2.2, 3.2])\n",
    "\n",
    "plt.subplot(1,2,2)\n",
    "# coordinate \n",
    "plt.plot([-7, 7], [0, 0], 'k-', linewidth=1)\n",
    "plt.plot([0, 0], [-2.2, 5], 'k-', linewidth=1)\n",
    "# Plot\n",
    "plt.plot(z, derivative(elu, z), \"b-\", linewidth=2, label=\"ELU\")\n",
    "plt.grid(True)\n",
    "plt.title(\"Derivative\", fontsize=14)\n",
    "plt.axis([-5, 5, -2.2, 3.2])\n",
    "plt.show()"
   ]
  },
  {
   "cell_type": "markdown",
   "metadata": {},
   "source": [
    "### How to use it with Keras and TensorFlow 2"
   ]
  },
  {
   "cell_type": "code",
   "execution_count": 70,
   "metadata": {},
   "outputs": [
    {
     "data": {
      "text/plain": [
       "<keras.layers.core.dense.Dense at 0x1799d1831c0>"
      ]
     },
     "execution_count": 70,
     "metadata": {},
     "output_type": "execute_result"
    }
   ],
   "source": [
    "from tensorflow.keras.layers import Dense\n",
    "\n",
    "\n",
    "Dense(10, activation='elu')"
   ]
  },
  {
   "cell_type": "code",
   "execution_count": 71,
   "metadata": {},
   "outputs": [
    {
     "data": {
      "text/plain": [
       "array([-1.        , -0.63212055,  0.        ,  1.2       ], dtype=float32)"
      ]
     },
     "execution_count": 71,
     "metadata": {},
     "output_type": "execute_result"
    }
   ],
   "source": [
    "import tensorflow as tf\n",
    "from tensorflow.keras.activations import elu\n",
    "\n",
    "z = tf.constant([-20, -1, 0, 1.2], dtype=tf.float32)\n",
    "output = elu(z, alpha=1)\n",
    "output.numpy()"
   ]
  },
  {
   "cell_type": "markdown",
   "metadata": {},
   "source": [
    "## 7. Scaled Exponential Linear Unit (SELU)"
   ]
  },
  {
   "cell_type": "code",
   "execution_count": 72,
   "metadata": {},
   "outputs": [],
   "source": [
    "from scipy.special import erfc\n",
    "\n",
    "# alpha and scale to self normalize with mean 0 and standard deviation 1\n",
    "# (see equation 14 in the paper):\n",
    "alpha_0_1 = -np.sqrt(2 / np.pi) / (erfc(1/np.sqrt(2)) * np.exp(1/2) - 1)\n",
    "scale_0_1 = (1 - erfc(1 / np.sqrt(2)) * np.sqrt(np.e)) * np.sqrt(2 * np.pi) * (2 * erfc(np.sqrt(2))*np.e**2 + np.pi*erfc(1/np.sqrt(2))**2*np.e - 2*(2+np.pi)*erfc(1/np.sqrt(2))*np.sqrt(np.e)+np.pi+2)**(-1/2)"
   ]
  },
  {
   "cell_type": "code",
   "execution_count": 73,
   "metadata": {},
   "outputs": [
    {
     "data": {
      "text/plain": [
       "1.6732632423543778"
      ]
     },
     "execution_count": 73,
     "metadata": {},
     "output_type": "execute_result"
    }
   ],
   "source": [
    "alpha_0_1"
   ]
  },
  {
   "cell_type": "code",
   "execution_count": 74,
   "metadata": {},
   "outputs": [
    {
     "data": {
      "text/plain": [
       "1.0507009873554805"
      ]
     },
     "execution_count": 74,
     "metadata": {},
     "output_type": "execute_result"
    }
   ],
   "source": [
    "scale_0_1"
   ]
  },
  {
   "cell_type": "code",
   "execution_count": 75,
   "metadata": {},
   "outputs": [],
   "source": [
    "def selu(z, scale=scale_0_1, alpha=alpha_0_1):\n",
    "    return scale * elu(z, alpha)"
   ]
  },
  {
   "cell_type": "code",
   "execution_count": 76,
   "metadata": {},
   "outputs": [
    {
     "data": {
      "image/png": "[encoded data removed]",
      "text/plain": [
       "<Figure size 792x288 with 2 Axes>"
      ]
     },
     "metadata": {
      "needs_background": "light"
     },
     "output_type": "display_data"
    }
   ],
   "source": [
    "plt.figure(figsize=(11,4))\n",
    "\n",
    "plt.subplot(121)\n",
    "# coordinate \n",
    "plt.plot([-7, 7], [0, 0], 'k-', linewidth=1)\n",
    "plt.plot([0, 0], [-2.2, 5], 'k-', linewidth=1)\n",
    "plt.plot([-5, 5], [-1.758, -1.758], 'k--', linewidth=1)\n",
    "# Plot\n",
    "plt.plot(z, selu(z), 'b-', linewidth=2)\n",
    "plt.grid(True)\n",
    "plt.title(\"SELU activation function\", fontsize=14)\n",
    "plt.axis([-5, 5, -2.2, 3.2])\n",
    "\n",
    "plt.subplot(122)\n",
    "# coordinate \n",
    "plt.plot([-7, 7], [0, 0], 'k-', linewidth=1)\n",
    "plt.plot([0, 0], [-2.2, 5], 'k-', linewidth=1)\n",
    "# Plot\n",
    "plt.plot(z, derivative(selu, z), \"b-\", linewidth=2, label=\"SELU\")\n",
    "plt.grid(True)\n",
    "plt.title(\"Derivative\", fontsize=14)\n",
    "plt.axis([-5, 5, -2.2, 3.2])\n",
    "plt.show()"
   ]
  },
  {
   "cell_type": "markdown",
   "metadata": {},
   "source": [
    "### How to use it with Keras and TensorFlow 2"
   ]
  },
  {
   "cell_type": "code",
   "execution_count": 29,
   "metadata": {},
   "outputs": [
    {
     "data": {
      "text/plain": [
       "<tensorflow.python.keras.layers.core.Dense at 0x84a1727d0>"
      ]
     },
     "execution_count": 29,
     "metadata": {},
     "output_type": "execute_result"
    }
   ],
   "source": [
    "from tensorflow.keras.layers import Dense\n",
    "\n",
    "Dense(10, activation='relu', kernel_initializer='lecun_normal')"
   ]
  },
  {
   "cell_type": "code",
   "execution_count": null,
   "metadata": {},
   "outputs": [],
   "source": []
  }
 ],
 "metadata": {
  "kernelspec": {
   "display_name": "Python 3 (ipykernel)",
   "language": "python",
   "name": "python3"
  },
  "language_info": {
   "codemirror_mode": {
    "name": "ipython",
    "version": 3
   },
   "file_extension": ".py",
   "mimetype": "text/x-python",
   "name": "python",
   "nbconvert_exporter": "python",
   "pygments_lexer": "ipython3",
   "version": "3.9.15"
  }
 },
 "nbformat": 4,
 "nbformat_minor": 4
}
