{
 "cells": [
  {
   "cell_type": "code",
   "execution_count": 1,
   "id": "fb3cb3f1-0999-4308-a4e3-52cf97ae5eda",
   "metadata": {},
   "outputs": [],
   "source": [
    "from bark.generation import load_codec_model, generate_text_semantic\n",
    "from encodec.utils import convert_audio\n",
    "\n",
    "import torchaudio\n",
    "import torch\n",
    "\n",
    "device = 'cuda' # or 'cpu'\n",
    "model = load_codec_model(use_gpu=True if device == 'cuda' else False)"
   ]
  },
  {
   "cell_type": "code",
   "execution_count": 3,
   "id": "9147f52a-0e4c-4be0-a0b4-f769bfd30341",
   "metadata": {},
   "outputs": [
    {
     "name": "stderr",
     "output_type": "stream",
     "text": [
      "2023-09-21 18:28:57 | WARNING | xformers | A matching Triton is not available, some optimizations will not be enabled.\n",
      "Error caught was: No module named 'triton'\n",
      "2023-09-21 18:28:57 | WARNING | xformers | Triton is not available, some optimizations will not be enabled.\n",
      "This is just a warning: No module named 'triton'\n"
     ]
    },
    {
     "ename": "AssertionError",
     "evalue": "path path/to/checkpoint does not exist",
     "output_type": "error",
     "traceback": [
      "\u001b[1;31m---------------------------------------------------------------------------\u001b[0m",
      "\u001b[1;31mAssertionError\u001b[0m                            Traceback (most recent call last)",
      "Input \u001b[1;32mIn [3]\u001b[0m, in \u001b[0;36m<cell line: 7>\u001b[1;34m()\u001b[0m\n\u001b[0;32m      3\u001b[0m \u001b[38;5;28;01mimport\u001b[39;00m \u001b[38;5;21;01mtorchaudio\u001b[39;00m\n\u001b[0;32m      5\u001b[0m \u001b[38;5;66;03m# Load the HuBERT model,\u001b[39;00m\n\u001b[0;32m      6\u001b[0m \u001b[38;5;66;03m# checkpoint_path should work fine with data/models/hubert/hubert.pt for the default config\u001b[39;00m\n\u001b[1;32m----> 7\u001b[0m hubert_model \u001b[38;5;241m=\u001b[39m \u001b[43mCustomHubert\u001b[49m\u001b[43m(\u001b[49m\u001b[43mcheckpoint_path\u001b[49m\u001b[38;5;241;43m=\u001b[39;49m\u001b[38;5;124;43m'\u001b[39;49m\u001b[38;5;124;43mpath/to/checkpoint\u001b[39;49m\u001b[38;5;124;43m'\u001b[39;49m\u001b[43m)\u001b[49m\n\u001b[0;32m      9\u001b[0m \u001b[38;5;66;03m# Run the model to extract semantic features from an audio file, where wav is your audio file\u001b[39;00m\n\u001b[0;32m     10\u001b[0m wav, sr \u001b[38;5;241m=\u001b[39m torchaudio\u001b[38;5;241m.\u001b[39mload(\u001b[38;5;124m'\u001b[39m\u001b[38;5;124mpath/to/wav\u001b[39m\u001b[38;5;124m'\u001b[39m) \u001b[38;5;66;03m# This is where you load your wav, with soundfile or torchaudio for example\u001b[39;00m\n",
      "File \u001b[1;32mc:\\users\\aleks\\pycharmprojects\\bark-voice-cloning-hubert-quantizer\\bark_hubert_quantizer\\pre_kmeans_hubert.py:58\u001b[0m, in \u001b[0;36mCustomHubert.__init__\u001b[1;34m(self, checkpoint_path, target_sample_hz, seq_len_multiple_of, output_layer, device)\u001b[0m\n\u001b[0;32m     54\u001b[0m     \u001b[38;5;28mself\u001b[39m\u001b[38;5;241m.\u001b[39mto(device)\n\u001b[0;32m     56\u001b[0m model_path \u001b[38;5;241m=\u001b[39m Path(checkpoint_path)\n\u001b[1;32m---> 58\u001b[0m \u001b[38;5;28;01massert\u001b[39;00m model_path\u001b[38;5;241m.\u001b[39mexists(), \u001b[38;5;124mf\u001b[39m\u001b[38;5;124m'\u001b[39m\u001b[38;5;124mpath \u001b[39m\u001b[38;5;132;01m{\u001b[39;00mcheckpoint_path\u001b[38;5;132;01m}\u001b[39;00m\u001b[38;5;124m does not exist\u001b[39m\u001b[38;5;124m'\u001b[39m\n\u001b[0;32m     60\u001b[0m checkpoint \u001b[38;5;241m=\u001b[39m torch\u001b[38;5;241m.\u001b[39mload(checkpoint_path, map_location\u001b[38;5;241m=\u001b[39mdevice)\n\u001b[0;32m     61\u001b[0m load_model_input \u001b[38;5;241m=\u001b[39m {checkpoint_path: checkpoint}\n",
      "\u001b[1;31mAssertionError\u001b[0m: path path/to/checkpoint does not exist"
     ]
    }
   ],
   "source": [
    "# From https://github.com/gitmylo/bark-voice-cloning-HuBERT-quantizer\n",
    "from bark_hubert_quantizer.hubert_manager import HuBERTManager\n",
    "hubert_manager = HuBERTManager()\n",
    "hubert_manager.make_sure_hubert_installed()\n",
    "hubert_manager.make_sure_tokenizer_installed()"
   ]
  },
  {
   "cell_type": "code",
   "execution_count": null,
   "id": "6a3cf09c-bcf0-4b96-8824-a1425cf2ecb6",
   "metadata": {},
   "outputs": [],
   "source": []
  }
 ],
 "metadata": {
  "kernelspec": {
   "display_name": "Python 3 (ipykernel)",
   "language": "python",
   "name": "python3"
  },
  "language_info": {
   "codemirror_mode": {
    "name": "ipython",
    "version": 3
   },
   "file_extension": ".py",
   "mimetype": "text/x-python",
   "name": "python",
   "nbconvert_exporter": "python",
   "pygments_lexer": "ipython3",
   "version": "3.9.15"
  }
 },
 "nbformat": 4,
 "nbformat_minor": 5
}
