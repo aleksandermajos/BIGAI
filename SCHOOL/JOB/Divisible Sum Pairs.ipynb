{
 "cells": [
  {
   "cell_type": "markdown",
   "id": "9a97377b-17bf-4ef9-9eaf-dcde375fc6c6",
   "metadata": {},
   "source": [
    "***FULL DESCRIPTION***"
   ]
  },
  {
   "cell_type": "markdown",
   "id": "a994b9ac-e18b-4230-b9a2-a0aab3149447",
   "metadata": {},
   "source": [
    "https://www.hackerrank.com/challenges/three-month-preparation-kit-divisible-sum-pairs/leaderboard?isFullScreen=true&h_l=interview&playlist_slugs%5B%5D=preparation-kits&playlist_slugs%5B%5D=three-month-preparation-kit&playlist_slugs%5B%5D=three-month-week-one&page=2"
   ]
  },
  {
   "cell_type": "markdown",
   "id": "d7578eef-8205-4a76-8bd0-1c7348d2c369",
   "metadata": {},
   "source": [
    "***IMPORTS***"
   ]
  },
  {
   "cell_type": "code",
   "execution_count": null,
   "id": "52fa801d-4dae-4f71-b246-80e426f30e1d",
   "metadata": {},
   "outputs": [],
   "source": [
    "import sys\n",
    "import math\n",
    "import os\n",
    "import random\n",
    "import re"
   ]
  },
  {
   "cell_type": "markdown",
   "id": "698d6b61-16f6-407b-b5c3-bd205f97464c",
   "metadata": {},
   "source": [
    "**INPUTS:**"
   ]
  },
  {
   "cell_type": "code",
   "execution_count": 3,
   "id": "966f3b0b-b825-407d-87b9-010bddefdc74",
   "metadata": {},
   "outputs": [],
   "source": [
    "ar=[1, 3, 2, 6, 1, 2]"
   ]
  },
  {
   "cell_type": "markdown",
   "id": "f2136852-c451-422a-ac37-dd7dcdaf3415",
   "metadata": {},
   "source": [
    "# Code Solution ONE:"
   ]
  },
  {
   "cell_type": "code",
   "execution_count": 2,
   "id": "191e93ce-9545-418d-8ccc-1269d0fcd4c2",
   "metadata": {},
   "outputs": [],
   "source": [
    "def divisibleSumPairs1(n,k,ar):\n",
    "    acc = 0\n",
    "    for i, e in enumerate(ar):\n",
    "        for j in range(i + 1, len(ar)):\n",
    "            acc += (e + ar[j]) % k == 0\n",
    "    return acc"
   ]
  },
  {
   "cell_type": "markdown",
   "id": "11c49b48-ca61-4e24-9cba-ea0528f9ba84",
   "metadata": {},
   "source": [
    "# Code Solution TWO:"
   ]
  },
  {
   "cell_type": "code",
   "execution_count": null,
   "id": "2b5a7c48-a1f1-4829-b39f-c1e81412568c",
   "metadata": {
    "tags": []
   },
   "outputs": [],
   "source": [
    "def divisibleSumPairs2(n, k, ar):\n",
    "    # Write your code here\n",
    "    count = 0\n",
    "    for i in range (0,n):\n",
    "        for number in ar[i+1:]:\n",
    "            if (ar[i] + number) % k ==0:\n",
    "                count+=1\n",
    "    return(count)"
   ]
  },
  {
   "cell_type": "markdown",
   "id": "92f680e3-c02c-4922-8ae6-08f26ba20c94",
   "metadata": {},
   "source": [
    "# Code Solution THREE:"
   ]
  },
  {
   "cell_type": "code",
   "execution_count": 1,
   "id": "b726bbeb-2d95-46c1-a7e9-8de9d0ab7143",
   "metadata": {},
   "outputs": [],
   "source": [
    "def divisibleSumPairs4(n, k, ar):\n",
    "    count = 0\n",
    "    for i in range(n):\n",
    "        for j in range(i + 1, n):\n",
    "            if i < j and not (ar[i] + ar[j]) % k:\n",
    "                count += 1\n",
    "\n",
    "    return count"
   ]
  },
  {
   "cell_type": "code",
   "execution_count": 4,
   "id": "94adb063-a1af-4a0f-9176-89e78ddbd4a2",
   "metadata": {},
   "outputs": [
    {
     "name": "stdin",
     "output_type": "stream",
     "text": [
      " 6\n"
     ]
    },
    {
     "name": "stdout",
     "output_type": "stream",
     "text": [
      "5\n"
     ]
    }
   ],
   "source": [
    "n = int(input())\n",
    "\n",
    "#arr = list(map(int, input().rstrip().split()))\n",
    "\n",
    "print(divisibleSumPairs1(6,3,ar))"
   ]
  },
  {
   "cell_type": "code",
   "execution_count": null,
   "id": "58cb1951-b031-4642-972b-fa01f6966909",
   "metadata": {},
   "outputs": [],
   "source": []
  }
 ],
 "metadata": {
  "kernelspec": {
   "display_name": "Python 3 (ipykernel)",
   "language": "python",
   "name": "python3"
  },
  "language_info": {
   "codemirror_mode": {
    "name": "ipython",
    "version": 3
   },
   "file_extension": ".py",
   "mimetype": "text/x-python",
   "name": "python",
   "nbconvert_exporter": "python",
   "pygments_lexer": "ipython3",
   "version": "3.9.7"
  }
 },
 "nbformat": 4,
 "nbformat_minor": 5
}
