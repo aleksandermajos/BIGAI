{
 "cells": [
  {
   "cell_type": "markdown",
   "id": "9a97377b-17bf-4ef9-9eaf-dcde375fc6c6",
   "metadata": {},
   "source": [
    "***FULL DESCRIPTION***"
   ]
  },
  {
   "cell_type": "markdown",
   "id": "a994b9ac-e18b-4230-b9a2-a0aab3149447",
   "metadata": {},
   "source": [
    "https://www.hackerrank.com/challenges/three-month-preparation-kit-mini-max-sum/problem?isFullScreen=true&h_l=interview&playlist_slugs%5B%5D=preparation-kits&playlist_slugs%5B%5D=three-month-preparation-kit&playlist_slugs%5B%5D=three-month-week-one"
   ]
  },
  {
   "cell_type": "markdown",
   "id": "6141b2f6-40d2-4bc4-be7a-c1d098ec2315",
   "metadata": {},
   "source": [
    "***IMPORTS***"
   ]
  },
  {
   "cell_type": "code",
   "execution_count": 11,
   "id": "e344cf69-7d08-405c-8887-71df3ca57cd9",
   "metadata": {},
   "outputs": [],
   "source": [
    "import sys\n",
    "import math\n",
    "import os\n",
    "import random\n",
    "import re\n",
    "from datetime import *"
   ]
  },
  {
   "cell_type": "markdown",
   "id": "698d6b61-16f6-407b-b5c3-bd205f97464c",
   "metadata": {},
   "source": [
    "**INPUTS:**"
   ]
  },
  {
   "cell_type": "code",
   "execution_count": 2,
   "id": "966f3b0b-b825-407d-87b9-010bddefdc74",
   "metadata": {
    "tags": []
   },
   "outputs": [],
   "source": [
    "arr=[1,2,3,4,5]"
   ]
  },
  {
   "cell_type": "markdown",
   "id": "f2136852-c451-422a-ac37-dd7dcdaf3415",
   "metadata": {},
   "source": [
    "# Code Solution ONE:"
   ]
  },
  {
   "cell_type": "code",
   "execution_count": 3,
   "id": "191e93ce-9545-418d-8ccc-1269d0fcd4c2",
   "metadata": {
    "tags": []
   },
   "outputs": [],
   "source": [
    "def miniMaxSum(arr):\n",
    "    arr.sort()\n",
    "    hold = [None] * int(len(arr) - 3)\n",
    "    for i in range(0, len(arr) - 3):\n",
    "        temp = 0\n",
    "        for j in range(i, i + 4):\n",
    "            temp = temp + arr[j]\n",
    "        hold[i] = temp\n",
    "\n",
    "    print(hold[0], hold[-1])"
   ]
  },
  {
   "cell_type": "markdown",
   "id": "11c49b48-ca61-4e24-9cba-ea0528f9ba84",
   "metadata": {},
   "source": [
    "# Code Solution TWO:"
   ]
  },
  {
   "cell_type": "code",
   "execution_count": 5,
   "id": "2b5a7c48-a1f1-4829-b39f-c1e81412568c",
   "metadata": {
    "tags": []
   },
   "outputs": [],
   "source": [
    "def miniMaxSum2(arr):\n",
    "    arr.sort()\n",
    "    print(sum(arr[0:4]), end = \" \")\n",
    "    print(sum(arr[1:]))"
   ]
  },
  {
   "cell_type": "markdown",
   "id": "92f680e3-c02c-4922-8ae6-08f26ba20c94",
   "metadata": {},
   "source": [
    "# Code Solution THREE:"
   ]
  },
  {
   "cell_type": "code",
   "execution_count": 6,
   "id": "b726bbeb-2d95-46c1-a7e9-8de9d0ab7143",
   "metadata": {},
   "outputs": [],
   "source": [
    "def miniMaxSum3(arr):\n",
    "    s = sum(arr)\n",
    "    print(f\"{s - max(arr)} {s - min(arr)}\")"
   ]
  },
  {
   "cell_type": "code",
   "execution_count": 7,
   "id": "42046f91-4a4e-4e18-8205-590d958f9a71",
   "metadata": {},
   "outputs": [
    {
     "name": "stdin",
     "output_type": "stream",
     "text": [
      " 5\n"
     ]
    },
    {
     "name": "stdout",
     "output_type": "stream",
     "text": [
      "10 14\n",
      "10 14\n",
      "10 14\n"
     ]
    }
   ],
   "source": [
    "if __name__ == '__main__':\n",
    "    n = int(input())\n",
    "\n",
    "    #arr = list(map(int, input().rstrip().split()))\n",
    "\n",
    "    miniMaxSum(arr)\n",
    "    miniMaxSum2(arr)\n",
    "    miniMaxSum3(arr)\n",
    "    "
   ]
  },
  {
   "cell_type": "code",
   "execution_count": null,
   "id": "7f7931ae-deee-43c4-b979-059d0d069b35",
   "metadata": {},
   "outputs": [],
   "source": []
  }
 ],
 "metadata": {
  "kernelspec": {
   "display_name": "Python 3 (ipykernel)",
   "language": "python",
   "name": "python3"
  },
  "language_info": {
   "codemirror_mode": {
    "name": "ipython",
    "version": 3
   },
   "file_extension": ".py",
   "mimetype": "text/x-python",
   "name": "python",
   "nbconvert_exporter": "python",
   "pygments_lexer": "ipython3",
   "version": "3.9.7"
  }
 },
 "nbformat": 4,
 "nbformat_minor": 5
}
