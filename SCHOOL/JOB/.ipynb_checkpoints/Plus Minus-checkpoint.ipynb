{
 "cells": [
  {
   "cell_type": "markdown",
   "id": "9a97377b-17bf-4ef9-9eaf-dcde375fc6c6",
   "metadata": {},
   "source": [
    "***FULL DESCRIPTION***"
   ]
  },
  {
   "cell_type": "markdown",
   "id": "a994b9ac-e18b-4230-b9a2-a0aab3149447",
   "metadata": {},
   "source": [
    "https://www.hackerrank.com/challenges/three-month-preparation-kit-plus-minus/problem?isFullScreen=true&h_l=interview&playlist_slugs%5B%5D=preparation-kits&playlist_slugs%5B%5D=three-month-preparation-kit&playlist_slugs%5B%5D=three-month-week-one"
   ]
  },
  {
   "cell_type": "markdown",
   "id": "ab579c30-0bb8-4bab-92eb-aacc1cb830c4",
   "metadata": {},
   "source": [
    "***IMPORTS***"
   ]
  },
  {
   "cell_type": "code",
   "execution_count": 11,
   "id": "d0ca439a-5afa-4a00-a719-b9f6f9cbbb69",
   "metadata": {},
   "outputs": [],
   "source": [
    "import sys\n",
    "import math\n",
    "import os\n",
    "import random\n",
    "import re\n",
    "from datetime import *"
   ]
  },
  {
   "cell_type": "markdown",
   "id": "698d6b61-16f6-407b-b5c3-bd205f97464c",
   "metadata": {},
   "source": [
    "**INPUTS:**"
   ]
  },
  {
   "cell_type": "code",
   "execution_count": 27,
   "id": "966f3b0b-b825-407d-87b9-010bddefdc74",
   "metadata": {},
   "outputs": [],
   "source": [
    "arr=[-4, 3, -9, 0, 4, 1]"
   ]
  },
  {
   "cell_type": "markdown",
   "id": "f2136852-c451-422a-ac37-dd7dcdaf3415",
   "metadata": {},
   "source": [
    "# Code Solution ONE:"
   ]
  },
  {
   "cell_type": "code",
   "execution_count": 28,
   "id": "191e93ce-9545-418d-8ccc-1269d0fcd4c2",
   "metadata": {},
   "outputs": [],
   "source": [
    "def plusMinus1(arr):\n",
    "    x,z,y=0,0,0\n",
    "    for i in range(0,len(arr)):\n",
    "        if arr[i]>0:\n",
    "            x = x + 1\n",
    "        elif arr[i]<0:\n",
    "            y = y + 1\n",
    "        else:\n",
    "            z = z + 1\n",
    "    print(x/len(arr))\n",
    "    print(y/len(arr))\n",
    "    print(z/len(arr))"
   ]
  },
  {
   "cell_type": "markdown",
   "id": "11c49b48-ca61-4e24-9cba-ea0528f9ba84",
   "metadata": {},
   "source": [
    "# Code Solution TWO:"
   ]
  },
  {
   "cell_type": "code",
   "execution_count": 29,
   "id": "2b5a7c48-a1f1-4829-b39f-c1e81412568c",
   "metadata": {},
   "outputs": [],
   "source": [
    "def plusMinus2(arr):\n",
    "    # Write your code here\n",
    "    count1=0\n",
    "    count2=0\n",
    "    count3=0\n",
    "    for i in arr:\n",
    "        if i>0:\n",
    "            count1+=1\n",
    "        elif i<0:\n",
    "            count2+=1\n",
    "        elif i==0:\n",
    "            count3+=1\n",
    "        else:\n",
    "            pass\n",
    "    div1=count1/n\n",
    "    div2=count2/n\n",
    "    div3=count3/n\n",
    "    print(div1)\n",
    "    print(div2)\n",
    "    print(div3)"
   ]
  },
  {
   "cell_type": "markdown",
   "id": "92f680e3-c02c-4922-8ae6-08f26ba20c94",
   "metadata": {},
   "source": [
    "# Code Solution THREE:"
   ]
  },
  {
   "cell_type": "code",
   "execution_count": 30,
   "id": "b726bbeb-2d95-46c1-a7e9-8de9d0ab7143",
   "metadata": {},
   "outputs": [],
   "source": [
    "def plusMinus3(arr):\n",
    "    posi,nega,z=0,0,0\n",
    "    for element in arr:\n",
    "        if element == 0 :\n",
    "            z += 1\n",
    "        elif element > 0 :\n",
    "            posi += 1\n",
    "        else :\n",
    "            nega += 1\n",
    "    print(posi/len(arr))\n",
    "    print(nega/len(arr))\n",
    "    print(z/len(arr))"
   ]
  },
  {
   "cell_type": "code",
   "execution_count": 31,
   "id": "259108a0-ab09-494a-9ab5-830be9a1bec0",
   "metadata": {},
   "outputs": [
    {
     "name": "stdin",
     "output_type": "stream",
     "text": [
      " 5\n"
     ]
    },
    {
     "name": "stdout",
     "output_type": "stream",
     "text": [
      "0.5\n",
      "0.3333333333333333\n",
      "0.16666666666666666\n",
      "0.6\n",
      "0.4\n",
      "0.2\n",
      "0.5\n",
      "0.3333333333333333\n",
      "0.16666666666666666\n"
     ]
    }
   ],
   "source": [
    "if __name__ == '__main__':\n",
    "    n = int(input())\n",
    "\n",
    "    #arr = list(map(int, input().rstrip().split()))\n",
    "\n",
    "    plusMinus1(arr)\n",
    "    plusMinus2(arr)\n",
    "    plusMinus3(arr)\n",
    "    "
   ]
  },
  {
   "cell_type": "code",
   "execution_count": null,
   "id": "30447b21-2597-4bb0-8c4d-723d58520745",
   "metadata": {},
   "outputs": [],
   "source": []
  }
 ],
 "metadata": {
  "kernelspec": {
   "display_name": "Python 3 (ipykernel)",
   "language": "python",
   "name": "python3"
  },
  "language_info": {
   "codemirror_mode": {
    "name": "ipython",
    "version": 3
   },
   "file_extension": ".py",
   "mimetype": "text/x-python",
   "name": "python",
   "nbconvert_exporter": "python",
   "pygments_lexer": "ipython3",
   "version": "3.9.7"
  }
 },
 "nbformat": 4,
 "nbformat_minor": 5
}
