{
 "cells": [
  {
   "cell_type": "markdown",
   "id": "9a97377b-17bf-4ef9-9eaf-dcde375fc6c6",
   "metadata": {},
   "source": [
    "***FULL DESCRIPTION***"
   ]
  },
  {
   "cell_type": "markdown",
   "id": "a994b9ac-e18b-4230-b9a2-a0aab3149447",
   "metadata": {},
   "source": [
    "https://www.hackerrank.com/challenges/three-month-preparation-kit-camel-case/problem?isFullScreen=true&h_l=interview&playlist_slugs%5B%5D=preparation-kits&playlist_slugs%5B%5D=three-month-preparation-kit&playlist_slugs%5B%5D=three-month-week-one&page=338"
   ]
  },
  {
   "cell_type": "markdown",
   "id": "d7578eef-8205-4a76-8bd0-1c7348d2c369",
   "metadata": {},
   "source": [
    "***IMPORTS***"
   ]
  },
  {
   "cell_type": "code",
   "execution_count": null,
   "id": "52fa801d-4dae-4f71-b246-80e426f30e1d",
   "metadata": {},
   "outputs": [],
   "source": [
    "import sys\n",
    "import math\n",
    "import os\n",
    "import random\n",
    "import re"
   ]
  },
  {
   "cell_type": "markdown",
   "id": "698d6b61-16f6-407b-b5c3-bd205f97464c",
   "metadata": {},
   "source": [
    "**INPUTS:**"
   ]
  },
  {
   "cell_type": "code",
   "execution_count": null,
   "id": "966f3b0b-b825-407d-87b9-010bddefdc74",
   "metadata": {},
   "outputs": [],
   "source": [
    "inputData = \"S;V;iPad C;M;mouse pad C;C;code swarm S;C;OrangeHighlighter\""
   ]
  },
  {
   "cell_type": "markdown",
   "id": "f2136852-c451-422a-ac37-dd7dcdaf3415",
   "metadata": {},
   "source": [
    "# Code Solution ONE:"
   ]
  },
  {
   "cell_type": "code",
   "execution_count": null,
   "id": "191e93ce-9545-418d-8ccc-1269d0fcd4c2",
   "metadata": {},
   "outputs": [],
   "source": [
    "# Read input lines and remove '\\n' and '\\r' characters to avoid bugs\n",
    "inputData = [line.rstrip('\\n\\r') for line in sys.stdin.readlines()]\n",
    "\n",
    "# Loop through all the input lines and print each resulting string\n",
    "for inputString in inputData:\n",
    "\n",
    "    # Extract the words without the S/C and M/C/V indicators\n",
    "    wordsString = inputString[4:]\n",
    "\n",
    "    # Split branch\n",
    "    if inputString[0] == 'S':\n",
    "\n",
    "        # Initialize an empty list to put all the words in\n",
    "        wordList = []\n",
    "        word = ''\n",
    "        # Add a '(' character at the end of the words string to indicate end of string and to reduce the number of if/else statements\n",
    "        wordsString += '('\n",
    "        # Loop through all the character indexes of the words string\n",
    "        for i in range(len(wordsString)):\n",
    "            # Add the current character to the current word\n",
    "            word += wordsString[i]\n",
    "            # When the next character is uppercase, that means we reached the last letter of a word, add that word to the list and reset the word variable\n",
    "            if wordsString[i + 1].isupper():\n",
    "                wordList.append(word)\n",
    "                word = ''\n",
    "            # When the next character is '(' that means we reached the last letter of the last word, add that word to the list and break from the loop\n",
    "            elif wordsString[i + 1] == '(':\n",
    "                wordList.append(word)\n",
    "                break\n",
    "        # Join all the words from our word list with spaces in between them and lowercase all of the letters\n",
    "        result = ' '.join(wordList).lower()\n",
    "\n",
    "    # Combine branch\n",
    "    else:\n",
    "\n",
    "        # Create a word list and populate it with all the words from our words string\n",
    "        wordList = wordsString.split(' ')\n",
    "        # If the words represent a class name, capitalize the first word\n",
    "        if inputString[2] == 'C':\n",
    "            wordList[0] = wordList[0].capitalize()\n",
    "        # Loop through all the words except the first one and capitalize them\n",
    "        for i in range(1, len(wordList)):\n",
    "            wordList[i] = wordList[i].capitalize()\n",
    "        # Join all the words together and put a pair of brackets at the end if the words represent a method name\n",
    "        result = ''.join(wordList)\n",
    "        if inputString[2] == 'M':\n",
    "            result += '()'\n",
    "\n",
    "    print(result)"
   ]
  },
  {
   "cell_type": "markdown",
   "id": "11c49b48-ca61-4e24-9cba-ea0528f9ba84",
   "metadata": {},
   "source": [
    "# Code Solution TWO:"
   ]
  },
  {
   "cell_type": "code",
   "execution_count": null,
   "id": "2b5a7c48-a1f1-4829-b39f-c1e81412568c",
   "metadata": {
    "tags": []
   },
   "outputs": [],
   "source": []
  },
  {
   "cell_type": "markdown",
   "id": "92f680e3-c02c-4922-8ae6-08f26ba20c94",
   "metadata": {},
   "source": [
    "# Code Solution THREE:"
   ]
  },
  {
   "cell_type": "code",
   "execution_count": null,
   "id": "b726bbeb-2d95-46c1-a7e9-8de9d0ab7143",
   "metadata": {},
   "outputs": [],
   "source": []
  }
 ],
 "metadata": {
  "kernelspec": {
   "display_name": "Python 3 (ipykernel)",
   "language": "python",
   "name": "python3"
  },
  "language_info": {
   "codemirror_mode": {
    "name": "ipython",
    "version": 3
   },
   "file_extension": ".py",
   "mimetype": "text/x-python",
   "name": "python",
   "nbconvert_exporter": "python",
   "pygments_lexer": "ipython3",
   "version": "3.9.7"
  }
 },
 "nbformat": 4,
 "nbformat_minor": 5
}
