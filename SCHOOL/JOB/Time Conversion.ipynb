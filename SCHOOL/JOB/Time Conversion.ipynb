{
 "cells": [
  {
   "cell_type": "markdown",
   "id": "9a97377b-17bf-4ef9-9eaf-dcde375fc6c6",
   "metadata": {},
   "source": [
    "***FULL DESCRIPTION***"
   ]
  },
  {
   "cell_type": "markdown",
   "id": "a994b9ac-e18b-4230-b9a2-a0aab3149447",
   "metadata": {},
   "source": [
    "https://www.hackerrank.com/challenges/three-month-preparation-kit-time-conversion/problem?isFullScreen=true&h_l=interview&playlist_slugs%5B%5D=preparation-kits&playlist_slugs%5B%5D=three-month-preparation-kit&playlist_slugs%5B%5D=three-month-week-one"
   ]
  },
  {
   "cell_type": "markdown",
   "id": "5ea4d154-7ecd-4b36-9e2a-87dd10edd679",
   "metadata": {},
   "source": [
    "***IMPORTS***"
   ]
  },
  {
   "cell_type": "code",
   "execution_count": 11,
   "id": "79c4c751-488c-4517-8545-c84315a467d8",
   "metadata": {},
   "outputs": [],
   "source": [
    "import sys\n",
    "import math\n",
    "import os\n",
    "import random\n",
    "import re\n",
    "from datetime import *"
   ]
  },
  {
   "cell_type": "markdown",
   "id": "698d6b61-16f6-407b-b5c3-bd205f97464c",
   "metadata": {},
   "source": [
    "**INPUTS:**"
   ]
  },
  {
   "cell_type": "code",
   "execution_count": 8,
   "id": "966f3b0b-b825-407d-87b9-010bddefdc74",
   "metadata": {},
   "outputs": [],
   "source": [
    "s = '07:05:45PM'"
   ]
  },
  {
   "cell_type": "markdown",
   "id": "f2136852-c451-422a-ac37-dd7dcdaf3415",
   "metadata": {},
   "source": [
    "# Code Solution ONE:"
   ]
  },
  {
   "cell_type": "code",
   "execution_count": 2,
   "id": "191e93ce-9545-418d-8ccc-1269d0fcd4c2",
   "metadata": {},
   "outputs": [],
   "source": [
    "def timeConversion1(s):\n",
    "    if s[-2:] == \"AM\" and s[:2] == \"12\":\n",
    "        return \"00\" + s[2:-2]\n",
    "    elif s[-2:] == \"AM\":\n",
    "        return s[:-2]\n",
    "    elif s[-2:] == \"PM\" and s[:2] == \"12\":\n",
    "        return s[:-2]\n",
    "    else:\n",
    "        ans = int(s[:2]) + 12\n",
    "        return str(str(ans) + s[2:8])"
   ]
  },
  {
   "cell_type": "markdown",
   "id": "11c49b48-ca61-4e24-9cba-ea0528f9ba84",
   "metadata": {},
   "source": [
    "# Code Solution TWO:"
   ]
  },
  {
   "cell_type": "code",
   "execution_count": 3,
   "id": "2b5a7c48-a1f1-4829-b39f-c1e81412568c",
   "metadata": {
    "tags": []
   },
   "outputs": [],
   "source": [
    "def timeConversion2(s):\n",
    "    return str(int(s[:2])%12+(0 if s[-2]==\"A\" else 12)).zfill(2)+s[2:8]"
   ]
  },
  {
   "cell_type": "markdown",
   "id": "92f680e3-c02c-4922-8ae6-08f26ba20c94",
   "metadata": {},
   "source": [
    "# Code Solution THREE:"
   ]
  },
  {
   "cell_type": "code",
   "execution_count": 4,
   "id": "b726bbeb-2d95-46c1-a7e9-8de9d0ab7143",
   "metadata": {},
   "outputs": [],
   "source": [
    "def timeConversion3(s):\n",
    "    input_time = datetime.strptime(s, \"%I:%M:%S%p\")\n",
    "    return input_time.strftime(\"%H:%M:%S\")"
   ]
  },
  {
   "cell_type": "code",
   "execution_count": 12,
   "id": "7c8fc311-f835-4914-bb40-532c6ca6ac18",
   "metadata": {},
   "outputs": [
    {
     "name": "stdin",
     "output_type": "stream",
     "text": [
      " 5\n"
     ]
    }
   ],
   "source": [
    "if __name__ == '__main__':\n",
    "    n = int(input())\n",
    "\n",
    "    #arr = list(map(int, input().rstrip().split()))\n",
    "\n",
    "    timeConversion1(s)\n",
    "    timeConversion2(s)\n",
    "    timeConversion3(s)"
   ]
  },
  {
   "cell_type": "code",
   "execution_count": null,
   "id": "1d2b6cf1-565f-40cb-ab5e-d1c1d91b0b5e",
   "metadata": {},
   "outputs": [],
   "source": []
  }
 ],
 "metadata": {
  "kernelspec": {
   "display_name": "Python 3 (ipykernel)",
   "language": "python",
   "name": "python3"
  },
  "language_info": {
   "codemirror_mode": {
    "name": "ipython",
    "version": 3
   },
   "file_extension": ".py",
   "mimetype": "text/x-python",
   "name": "python",
   "nbconvert_exporter": "python",
   "pygments_lexer": "ipython3",
   "version": "3.9.7"
  }
 },
 "nbformat": 4,
 "nbformat_minor": 5
}
