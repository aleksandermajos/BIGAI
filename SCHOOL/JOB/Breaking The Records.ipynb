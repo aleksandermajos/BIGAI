{
 "cells": [
  {
   "cell_type": "markdown",
   "id": "9a97377b-17bf-4ef9-9eaf-dcde375fc6c6",
   "metadata": {
    "pycharm": {
     "name": "#%% md\n"
    }
   },
   "source": [
    "***FULL DESCRIPTION***"
   ]
  },
  {
   "cell_type": "markdown",
   "id": "a994b9ac-e18b-4230-b9a2-a0aab3149447",
   "metadata": {
    "pycharm": {
     "name": "#%% md\n"
    }
   },
   "source": [
    "https://www.hackerrank.com/challenges/three-month-preparation-kit-breaking-best-and-worst-records/problem?isFullScreen=true&h_l=interview&playlist_slugs%5B%5D=preparation-kits&playlist_slugs%5B%5D=three-month-preparation-kit&playlist_slugs%5B%5D=three-month-week-one&page=11"
   ]
  },
  {
   "cell_type": "markdown",
   "id": "d7578eef-8205-4a76-8bd0-1c7348d2c369",
   "metadata": {
    "pycharm": {
     "name": "#%% md\n"
    }
   },
   "source": [
    "***IMPORTS***"
   ]
  },
  {
   "cell_type": "code",
   "execution_count": null,
   "id": "52fa801d-4dae-4f71-b246-80e426f30e1d",
   "metadata": {
    "pycharm": {
     "name": "#%%\n"
    }
   },
   "outputs": [],
   "source": [
    "import sys\n",
    "import math\n",
    "import os\n",
    "import random\n",
    "import re"
   ]
  },
  {
   "cell_type": "markdown",
   "id": "698d6b61-16f6-407b-b5c3-bd205f97464c",
   "metadata": {
    "pycharm": {
     "name": "#%% md\n"
    }
   },
   "source": [
    "**INPUTS:**"
   ]
  },
  {
   "cell_type": "code",
   "execution_count": 5,
   "id": "966f3b0b-b825-407d-87b9-010bddefdc74",
   "metadata": {
    "pycharm": {
     "name": "#%%\n"
    }
   },
   "outputs": [],
   "source": [
    "scores=[10 ,5, 20, 20, 4, 5, 2, 25, 1]"
   ]
  },
  {
   "cell_type": "markdown",
   "id": "f2136852-c451-422a-ac37-dd7dcdaf3415",
   "metadata": {
    "pycharm": {
     "name": "#%% md\n"
    }
   },
   "source": [
    "# Code Solution ONE:"
   ]
  },
  {
   "cell_type": "code",
   "execution_count": 1,
   "id": "191e93ce-9545-418d-8ccc-1269d0fcd4c2",
   "metadata": {
    "pycharm": {
     "name": "#%%\n"
    }
   },
   "outputs": [],
   "source": [
    "def breakingRecords1(scores):\n",
    "    minimum, maximum = scores[0], scores[0]\n",
    "    records = [0, 0]\n",
    "    for score in scores[1:]:\n",
    "        if score > maximum:\n",
    "            maximum = score\n",
    "            records[0] += 1\n",
    "        if score < minimum:\n",
    "            minimum = score\n",
    "            records[1] += 1\n",
    "\n",
    "    return records"
   ]
  },
  {
   "cell_type": "markdown",
   "id": "11c49b48-ca61-4e24-9cba-ea0528f9ba84",
   "metadata": {
    "pycharm": {
     "name": "#%% md\n"
    }
   },
   "source": [
    "# Code Solution TWO:"
   ]
  },
  {
   "cell_type": "code",
   "execution_count": 2,
   "id": "2b5a7c48-a1f1-4829-b39f-c1e81412568c",
   "metadata": {
    "tags": [],
    "pycharm": {
     "name": "#%%\n"
    }
   },
   "outputs": [],
   "source": [
    "def breakingRecords2(scores):\n",
    "    high = scores[0]\n",
    "    low = high\n",
    "    counter_highs = 0\n",
    "    counter_lows = 0\n",
    "    for score in scores:\n",
    "        if score > high:\n",
    "            high = score\n",
    "            counter_highs += 1\n",
    "        elif score < low:\n",
    "            low = score\n",
    "            counter_lows += 1\n",
    "    return [counter_highs, counter_lows]"
   ]
  },
  {
   "cell_type": "markdown",
   "id": "92f680e3-c02c-4922-8ae6-08f26ba20c94",
   "metadata": {
    "pycharm": {
     "name": "#%% md\n"
    }
   },
   "source": [
    "# Code Solution THREE:"
   ]
  },
  {
   "cell_type": "code",
   "execution_count": 3,
   "id": "b726bbeb-2d95-46c1-a7e9-8de9d0ab7143",
   "metadata": {
    "pycharm": {
     "name": "#%%\n"
    }
   },
   "outputs": [],
   "source": [
    "def breakingRecords3(scores):\n",
    "    ma = scores[0]\n",
    "    mac = 0\n",
    "    mi = scores[0]\n",
    "    mic = 0\n",
    "    for i in scores:\n",
    "        if i > ma:\n",
    "            mac += 1\n",
    "            ma = i\n",
    "        elif i < mi:\n",
    "            mic += 1\n",
    "            mi = i\n",
    "\n",
    "    rez = []\n",
    "    rez.append(mac)\n",
    "    rez.append(mic)\n",
    "\n",
    "    return rez"
   ]
  },
  {
   "cell_type": "code",
   "execution_count": 7,
   "id": "986cce57-18bb-4839-9467-92431a8227b1",
   "metadata": {
    "pycharm": {
     "name": "#%%\n"
    }
   },
   "outputs": [
    {
     "name": "stdin",
     "output_type": "stream",
     "text": [
      " 9\n"
     ]
    },
    {
     "name": "stdout",
     "output_type": "stream",
     "text": [
      "[2, 4]\n",
      "[2, 4]\n",
      "[2, 4]\n"
     ]
    }
   ],
   "source": [
    "if __name__ == '__main__':\n",
    "    n = int(input())\n",
    "    print(breakingRecords1(scores))\n",
    "    print(breakingRecords2(scores))\n",
    "    print(breakingRecords3(scores))"
   ]
  },
  {
   "cell_type": "code",
   "execution_count": null,
   "id": "ee385834-bdc5-4e3c-9884-7f70cfde0ccb",
   "metadata": {
    "pycharm": {
     "name": "#%%\n"
    }
   },
   "outputs": [],
   "source": []
  }
 ],
 "metadata": {
  "kernelspec": {
   "display_name": "Python 3 (ipykernel)",
   "language": "python",
   "name": "python3"
  },
  "language_info": {
   "codemirror_mode": {
    "name": "ipython",
    "version": 3
   },
   "file_extension": ".py",
   "mimetype": "text/x-python",
   "name": "python",
   "nbconvert_exporter": "python",
   "pygments_lexer": "ipython3",
   "version": "3.9.7"
  }
 },
 "nbformat": 4,
 "nbformat_minor": 5
}