{
 "cells": [
  {
   "cell_type": "code",
   "execution_count": 1,
   "id": "a484c865-060e-4869-9e82-eab98ecdf420",
   "metadata": {},
   "outputs": [
    {
     "name": "stderr",
     "output_type": "stream",
     "text": [
      "C:\\Users\\aleks\\anaconda3\\envs\\BIGAI\\lib\\site-packages\\numpy\\_distributor_init.py:30: UserWarning: loaded more than 1 DLL from .libs:\n",
      "C:\\Users\\aleks\\anaconda3\\envs\\BIGAI\\lib\\site-packages\\numpy\\.libs\\libopenblas64__v0.3.21-gcc_10_3_0.dll\n",
      "C:\\Users\\aleks\\anaconda3\\envs\\BIGAI\\lib\\site-packages\\numpy\\.libs\\libopenblas64__v0.3.23-gcc_10_3_0.dll\n",
      "  warnings.warn(\"loaded more than 1 DLL from .libs:\"\n"
     ]
    }
   ],
   "source": [
    "import tensorflow as tf\n",
    "import numpy as np\n",
    "from tensorflow import keras\n"
   ]
  },
  {
   "cell_type": "code",
   "execution_count": 2,
   "id": "f3f6325e-6ccf-4193-b798-48febd74e067",
   "metadata": {},
   "outputs": [],
   "source": [
    "# for repro\n",
    "np.random.seed(888)"
   ]
  },
  {
   "cell_type": "code",
   "execution_count": 3,
   "id": "15f33931-ff1f-46e2-a109-b71f68c22939",
   "metadata": {},
   "outputs": [],
   "source": [
    "epochs = 200\n",
    "batch_size = 128\n",
    "verbose = 1\n",
    "nb_classes = 10\n",
    "nb_hidden = 128\n",
    "val_split = 0.2\n",
    "dropout = 0.3"
   ]
  },
  {
   "cell_type": "code",
   "execution_count": 4,
   "id": "543815cb-ea3f-442f-b3ef-9ab5028bf7d6",
   "metadata": {},
   "outputs": [],
   "source": [
    "mnist = keras.datasets.mnist\n",
    "(X_train, Y_train), (X_test, Y_test) = mnist.load_data()"
   ]
  },
  {
   "cell_type": "code",
   "execution_count": 5,
   "id": "fc508b64-5680-4d8a-b1ab-63adaae25859",
   "metadata": {},
   "outputs": [
    {
     "name": "stdout",
     "output_type": "stream",
     "text": [
      "60000\n",
      "10000\n"
     ]
    }
   ],
   "source": [
    "print(X_train.shape[0])\n",
    "print(X_test.shape[0])"
   ]
  },
  {
   "cell_type": "code",
   "execution_count": 6,
   "id": "75115241-d5ca-4241-bc54-e8e085a8fa9d",
   "metadata": {},
   "outputs": [],
   "source": [
    "#Normalize\n",
    "X_train, X_test = X_train/255.0, X_test / 255.0"
   ]
  },
  {
   "cell_type": "code",
   "execution_count": 7,
   "id": "4d8217f1-aa9a-433f-9fbe-196c3b4fd205",
   "metadata": {},
   "outputs": [],
   "source": [
    "reshaped = 784\n",
    "X_train = X_train.reshape(60000, reshaped)\n",
    "X_test = X_test.reshape(10000, reshaped)\n",
    "Y_train = Y_train.astype('float32')\n",
    "Y_test = Y_test.astype('float32')"
   ]
  },
  {
   "cell_type": "code",
   "execution_count": 8,
   "id": "00809b16-f9ef-4cda-a45f-b83593ad8973",
   "metadata": {},
   "outputs": [
    {
     "name": "stdout",
     "output_type": "stream",
     "text": [
      "784\n",
      "784\n",
      "(60000,)\n",
      "(10000,)\n"
     ]
    }
   ],
   "source": [
    "print(X_train.shape[1])\n",
    "print(X_test.shape[1])\n",
    "print(Y_train.shape)\n",
    "print(Y_test.shape)\n",
    "\n"
   ]
  },
  {
   "cell_type": "code",
   "execution_count": 9,
   "id": "372d3738-7ec8-41b1-9b81-a54994b32983",
   "metadata": {},
   "outputs": [],
   "source": [
    "Y_train = tf.keras.utils.to_categorical(Y_train,nb_classes)\n",
    "Y_test = tf.keras.utils.to_categorical(Y_test,nb_classes)"
   ]
  },
  {
   "cell_type": "code",
   "execution_count": 10,
   "id": "1dc40595-fcbc-4cac-b7ad-f78ad703c2a8",
   "metadata": {},
   "outputs": [
    {
     "name": "stdout",
     "output_type": "stream",
     "text": [
      "(60000, 10)\n",
      "(10000, 10)\n"
     ]
    }
   ],
   "source": [
    "print(Y_train.shape)\n",
    "print(Y_test.shape)"
   ]
  },
  {
   "cell_type": "code",
   "execution_count": 11,
   "id": "1d88b8c5-c48c-4b62-92e7-f32585ad255b",
   "metadata": {},
   "outputs": [
    {
     "name": "stdout",
     "output_type": "stream",
     "text": [
      "Model: \"sequential\"\n",
      "_________________________________________________________________\n",
      " Layer (type)                Output Shape              Param #   \n",
      "=================================================================\n",
      " dense_layer_1 (Dense)       (None, 128)               100480    \n",
      "                                                                 \n",
      " dropout (Dropout)           (None, 128)               0         \n",
      "                                                                 \n",
      " dense_layer_2 (Dense)       (None, 128)               16512     \n",
      "                                                                 \n",
      " dropout_1 (Dropout)         (None, 128)               0         \n",
      "                                                                 \n",
      " dense_layer_3 (Dense)       (None, 10)                1290      \n",
      "                                                                 \n",
      "=================================================================\n",
      "Total params: 118,282\n",
      "Trainable params: 118,282\n",
      "Non-trainable params: 0\n",
      "_________________________________________________________________\n"
     ]
    }
   ],
   "source": [
    "model = tf.keras.models.Sequential()\n",
    "\n",
    "model.add(keras.layers.Dense(nb_hidden,\n",
    "                             input_shape=(reshaped,),\n",
    "                             #kernel_regularizer=tf.keras.regularizers.L1(0.01),\n",
    "                             #activity_regularizer=tf.keras.regularizers.L2(0.01),\n",
    "                             name='dense_layer_1',\n",
    "                             activation='relu'))\n",
    "model.add(keras.layers.Dropout(dropout))\n",
    "model.add(keras.layers.Dense(nb_hidden,\n",
    "                             name='dense_layer_2',\n",
    "                             activation='relu'))\n",
    "model.add(keras.layers.Dropout(dropout))\n",
    "model.add(keras.layers.Dense(nb_classes,\n",
    "                             input_shape=(reshaped,),\n",
    "                             name='dense_layer_3',\n",
    "                             activation='softmax'))\n",
    "model.summary()"
   ]
  },
  {
   "cell_type": "code",
   "execution_count": 12,
   "id": "fb4c78b2-55df-421b-8da6-6a1dc551ecdd",
   "metadata": {},
   "outputs": [],
   "source": [
    "model.compile(optimizer='Adam',loss='categorical_crossentropy',metrics=['accuracy'])"
   ]
  },
  {
   "cell_type": "code",
   "execution_count": null,
   "id": "d3a61f1b-b785-4303-b81a-9e7eb4ef5a3e",
   "metadata": {},
   "outputs": [
    {
     "name": "stdout",
     "output_type": "stream",
     "text": [
      "Epoch 1/200\n",
      "375/375 [==============================] - 4s 4ms/step - loss: 0.5197 - accuracy: 0.8411 - val_loss: 0.1891 - val_accuracy: 0.9442\n",
      "Epoch 2/200\n",
      "375/375 [==============================] - 1s 3ms/step - loss: 0.2377 - accuracy: 0.9300 - val_loss: 0.1404 - val_accuracy: 0.9590\n",
      "Epoch 3/200\n",
      "375/375 [==============================] - 1s 3ms/step - loss: 0.1812 - accuracy: 0.9454 - val_loss: 0.1157 - val_accuracy: 0.9657\n",
      "Epoch 4/200\n",
      "375/375 [==============================] - 1s 3ms/step - loss: 0.1505 - accuracy: 0.9546 - val_loss: 0.1046 - val_accuracy: 0.9703\n",
      "Epoch 5/200\n",
      "375/375 [==============================] - 1s 3ms/step - loss: 0.1308 - accuracy: 0.9598 - val_loss: 0.0965 - val_accuracy: 0.9706\n",
      "Epoch 6/200\n",
      "375/375 [==============================] - 1s 3ms/step - loss: 0.1153 - accuracy: 0.9651 - val_loss: 0.0913 - val_accuracy: 0.9732\n",
      "Epoch 7/200\n",
      "375/375 [==============================] - 1s 3ms/step - loss: 0.1061 - accuracy: 0.9672 - val_loss: 0.0894 - val_accuracy: 0.9749\n",
      "Epoch 8/200\n",
      "375/375 [==============================] - 1s 3ms/step - loss: 0.0963 - accuracy: 0.9704 - val_loss: 0.0865 - val_accuracy: 0.9739\n",
      "Epoch 9/200\n",
      "375/375 [==============================] - 1s 3ms/step - loss: 0.0902 - accuracy: 0.9716 - val_loss: 0.0840 - val_accuracy: 0.9758\n",
      "Epoch 10/200\n",
      "375/375 [==============================] - 1s 3ms/step - loss: 0.0845 - accuracy: 0.9726 - val_loss: 0.0824 - val_accuracy: 0.9767\n",
      "Epoch 11/200\n",
      "375/375 [==============================] - 1s 3ms/step - loss: 0.0800 - accuracy: 0.9744 - val_loss: 0.0864 - val_accuracy: 0.9748\n",
      "Epoch 12/200\n",
      "375/375 [==============================] - 1s 3ms/step - loss: 0.0730 - accuracy: 0.9761 - val_loss: 0.0837 - val_accuracy: 0.9758\n",
      "Epoch 13/200\n",
      "375/375 [==============================] - 1s 3ms/step - loss: 0.0699 - accuracy: 0.9779 - val_loss: 0.0864 - val_accuracy: 0.9772\n",
      "Epoch 14/200\n",
      "375/375 [==============================] - 1s 3ms/step - loss: 0.0658 - accuracy: 0.9789 - val_loss: 0.0803 - val_accuracy: 0.9777\n",
      "Epoch 15/200\n",
      "375/375 [==============================] - 1s 4ms/step - loss: 0.0631 - accuracy: 0.9793 - val_loss: 0.0805 - val_accuracy: 0.9776\n",
      "Epoch 16/200\n",
      "375/375 [==============================] - 1s 3ms/step - loss: 0.0618 - accuracy: 0.9794 - val_loss: 0.0819 - val_accuracy: 0.9777\n",
      "Epoch 17/200\n",
      "375/375 [==============================] - 1s 3ms/step - loss: 0.0602 - accuracy: 0.9806 - val_loss: 0.0867 - val_accuracy: 0.9763\n",
      "Epoch 18/200\n",
      "375/375 [==============================] - 1s 3ms/step - loss: 0.0580 - accuracy: 0.9806 - val_loss: 0.0835 - val_accuracy: 0.9781\n",
      "Epoch 19/200\n",
      "375/375 [==============================] - 1s 3ms/step - loss: 0.0539 - accuracy: 0.9825 - val_loss: 0.0829 - val_accuracy: 0.9775\n",
      "Epoch 20/200\n",
      "375/375 [==============================] - 1s 3ms/step - loss: 0.0528 - accuracy: 0.9829 - val_loss: 0.0841 - val_accuracy: 0.9781\n",
      "Epoch 21/200\n",
      "375/375 [==============================] - 1s 3ms/step - loss: 0.0521 - accuracy: 0.9828 - val_loss: 0.0802 - val_accuracy: 0.9783\n",
      "Epoch 22/200\n",
      "375/375 [==============================] - 1s 3ms/step - loss: 0.0526 - accuracy: 0.9824 - val_loss: 0.0883 - val_accuracy: 0.9787\n",
      "Epoch 23/200\n",
      "375/375 [==============================] - 1s 3ms/step - loss: 0.0468 - accuracy: 0.9845 - val_loss: 0.0864 - val_accuracy: 0.9780\n",
      "Epoch 24/200\n",
      "375/375 [==============================] - 1s 3ms/step - loss: 0.0466 - accuracy: 0.9847 - val_loss: 0.0894 - val_accuracy: 0.9778\n",
      "Epoch 25/200\n",
      "375/375 [==============================] - 1s 3ms/step - loss: 0.0438 - accuracy: 0.9856 - val_loss: 0.0890 - val_accuracy: 0.9787\n",
      "Epoch 26/200\n",
      "375/375 [==============================] - 1s 4ms/step - loss: 0.0448 - accuracy: 0.9842 - val_loss: 0.0855 - val_accuracy: 0.9795\n",
      "Epoch 27/200\n",
      "375/375 [==============================] - 1s 4ms/step - loss: 0.0430 - accuracy: 0.9855 - val_loss: 0.0825 - val_accuracy: 0.9795\n",
      "Epoch 28/200\n",
      "375/375 [==============================] - 1s 3ms/step - loss: 0.0435 - accuracy: 0.9858 - val_loss: 0.0840 - val_accuracy: 0.9792\n",
      "Epoch 29/200\n",
      "375/375 [==============================] - 1s 4ms/step - loss: 0.0410 - accuracy: 0.9872 - val_loss: 0.0837 - val_accuracy: 0.9790\n",
      "Epoch 30/200\n",
      "375/375 [==============================] - 1s 3ms/step - loss: 0.0390 - accuracy: 0.9871 - val_loss: 0.0870 - val_accuracy: 0.9795\n",
      "Epoch 31/200\n",
      "375/375 [==============================] - 1s 3ms/step - loss: 0.0424 - accuracy: 0.9865 - val_loss: 0.0855 - val_accuracy: 0.9805\n",
      "Epoch 32/200\n",
      "375/375 [==============================] - 1s 3ms/step - loss: 0.0415 - accuracy: 0.9864 - val_loss: 0.0826 - val_accuracy: 0.9789\n",
      "Epoch 33/200\n",
      "375/375 [==============================] - 1s 3ms/step - loss: 0.0369 - accuracy: 0.9877 - val_loss: 0.0908 - val_accuracy: 0.9797\n",
      "Epoch 34/200\n",
      "375/375 [==============================] - 1s 3ms/step - loss: 0.0388 - accuracy: 0.9867 - val_loss: 0.0857 - val_accuracy: 0.9801\n",
      "Epoch 35/200\n",
      "375/375 [==============================] - 1s 3ms/step - loss: 0.0357 - accuracy: 0.9884 - val_loss: 0.0883 - val_accuracy: 0.9798\n",
      "Epoch 36/200\n",
      "375/375 [==============================] - 1s 4ms/step - loss: 0.0347 - accuracy: 0.9883 - val_loss: 0.0918 - val_accuracy: 0.9790\n",
      "Epoch 37/200\n",
      "375/375 [==============================] - 1s 3ms/step - loss: 0.0392 - accuracy: 0.9873 - val_loss: 0.0873 - val_accuracy: 0.9802\n",
      "Epoch 38/200\n",
      "375/375 [==============================] - 1s 4ms/step - loss: 0.0383 - accuracy: 0.9869 - val_loss: 0.0873 - val_accuracy: 0.9789\n",
      "Epoch 39/200\n",
      "375/375 [==============================] - 1s 3ms/step - loss: 0.0345 - accuracy: 0.9883 - val_loss: 0.0915 - val_accuracy: 0.9792\n",
      "Epoch 40/200\n",
      "375/375 [==============================] - 1s 4ms/step - loss: 0.0360 - accuracy: 0.9872 - val_loss: 0.0889 - val_accuracy: 0.9794\n",
      "Epoch 41/200\n",
      "375/375 [==============================] - 1s 4ms/step - loss: 0.0322 - accuracy: 0.9892 - val_loss: 0.0864 - val_accuracy: 0.9803\n",
      "Epoch 42/200\n",
      "375/375 [==============================] - 1s 3ms/step - loss: 0.0339 - accuracy: 0.9886 - val_loss: 0.0808 - val_accuracy: 0.9807\n",
      "Epoch 43/200\n",
      "375/375 [==============================] - 1s 3ms/step - loss: 0.0350 - accuracy: 0.9887 - val_loss: 0.0888 - val_accuracy: 0.9798\n",
      "Epoch 44/200\n",
      "375/375 [==============================] - 1s 3ms/step - loss: 0.0327 - accuracy: 0.9894 - val_loss: 0.0883 - val_accuracy: 0.9809\n",
      "Epoch 45/200\n",
      "375/375 [==============================] - 1s 3ms/step - loss: 0.0343 - accuracy: 0.9885 - val_loss: 0.0869 - val_accuracy: 0.9796\n",
      "Epoch 46/200\n",
      "375/375 [==============================] - 1s 3ms/step - loss: 0.0305 - accuracy: 0.9899 - val_loss: 0.0926 - val_accuracy: 0.9796\n",
      "Epoch 47/200\n",
      "375/375 [==============================] - 1s 4ms/step - loss: 0.0304 - accuracy: 0.9902 - val_loss: 0.0924 - val_accuracy: 0.9796\n",
      "Epoch 48/200\n",
      "375/375 [==============================] - 1s 3ms/step - loss: 0.0311 - accuracy: 0.9898 - val_loss: 0.0974 - val_accuracy: 0.9791\n",
      "Epoch 49/200\n",
      "375/375 [==============================] - 1s 3ms/step - loss: 0.0319 - accuracy: 0.9896 - val_loss: 0.0961 - val_accuracy: 0.9787\n",
      "Epoch 50/200\n",
      "375/375 [==============================] - 1s 4ms/step - loss: 0.0333 - accuracy: 0.9891 - val_loss: 0.0882 - val_accuracy: 0.9793\n",
      "Epoch 51/200\n",
      "375/375 [==============================] - 1s 3ms/step - loss: 0.0307 - accuracy: 0.9893 - val_loss: 0.0918 - val_accuracy: 0.9803\n",
      "Epoch 52/200\n",
      "375/375 [==============================] - 1s 4ms/step - loss: 0.0282 - accuracy: 0.9903 - val_loss: 0.0970 - val_accuracy: 0.9786\n",
      "Epoch 53/200\n",
      "375/375 [==============================] - 1s 3ms/step - loss: 0.0309 - accuracy: 0.9899 - val_loss: 0.0889 - val_accuracy: 0.9796\n",
      "Epoch 54/200\n",
      "375/375 [==============================] - 1s 3ms/step - loss: 0.0279 - accuracy: 0.9906 - val_loss: 0.0890 - val_accuracy: 0.9802\n",
      "Epoch 55/200\n",
      "375/375 [==============================] - 1s 3ms/step - loss: 0.0302 - accuracy: 0.9908 - val_loss: 0.0927 - val_accuracy: 0.9794\n",
      "Epoch 56/200\n",
      "375/375 [==============================] - 1s 4ms/step - loss: 0.0292 - accuracy: 0.9904 - val_loss: 0.0998 - val_accuracy: 0.9795\n",
      "Epoch 57/200\n",
      "375/375 [==============================] - 1s 3ms/step - loss: 0.0288 - accuracy: 0.9901 - val_loss: 0.0952 - val_accuracy: 0.9787\n",
      "Epoch 58/200\n",
      "375/375 [==============================] - 1s 3ms/step - loss: 0.0295 - accuracy: 0.9906 - val_loss: 0.0987 - val_accuracy: 0.9789\n",
      "Epoch 59/200\n",
      "375/375 [==============================] - 1s 3ms/step - loss: 0.0299 - accuracy: 0.9900 - val_loss: 0.0931 - val_accuracy: 0.9793\n",
      "Epoch 60/200\n",
      "375/375 [==============================] - 1s 4ms/step - loss: 0.0261 - accuracy: 0.9916 - val_loss: 0.0956 - val_accuracy: 0.9802\n",
      "Epoch 61/200\n",
      "375/375 [==============================] - 1s 4ms/step - loss: 0.0285 - accuracy: 0.9905 - val_loss: 0.0942 - val_accuracy: 0.9806\n",
      "Epoch 62/200\n",
      "375/375 [==============================] - 1s 4ms/step - loss: 0.0274 - accuracy: 0.9910 - val_loss: 0.1039 - val_accuracy: 0.9786\n",
      "Epoch 63/200\n",
      "375/375 [==============================] - 1s 3ms/step - loss: 0.0277 - accuracy: 0.9912 - val_loss: 0.0991 - val_accuracy: 0.9790\n",
      "Epoch 64/200\n",
      "375/375 [==============================] - 1s 4ms/step - loss: 0.0282 - accuracy: 0.9906 - val_loss: 0.0943 - val_accuracy: 0.9799\n",
      "Epoch 65/200\n",
      "375/375 [==============================] - 1s 4ms/step - loss: 0.0259 - accuracy: 0.9911 - val_loss: 0.1028 - val_accuracy: 0.9788\n",
      "Epoch 66/200\n",
      "375/375 [==============================] - 1s 4ms/step - loss: 0.0291 - accuracy: 0.9904 - val_loss: 0.0995 - val_accuracy: 0.9795\n",
      "Epoch 67/200\n",
      "375/375 [==============================] - 1s 3ms/step - loss: 0.0273 - accuracy: 0.9909 - val_loss: 0.1018 - val_accuracy: 0.9794\n",
      "Epoch 68/200\n",
      "375/375 [==============================] - 1s 3ms/step - loss: 0.0268 - accuracy: 0.9908 - val_loss: 0.1019 - val_accuracy: 0.9790\n",
      "Epoch 69/200\n",
      "375/375 [==============================] - 2s 4ms/step - loss: 0.0255 - accuracy: 0.9922 - val_loss: 0.1039 - val_accuracy: 0.9786\n",
      "Epoch 70/200\n",
      "375/375 [==============================] - 1s 4ms/step - loss: 0.0252 - accuracy: 0.9919 - val_loss: 0.0976 - val_accuracy: 0.9800\n",
      "Epoch 71/200\n",
      "375/375 [==============================] - 1s 3ms/step - loss: 0.0274 - accuracy: 0.9913 - val_loss: 0.1063 - val_accuracy: 0.9792\n",
      "Epoch 72/200\n",
      "375/375 [==============================] - 1s 4ms/step - loss: 0.0275 - accuracy: 0.9909 - val_loss: 0.0949 - val_accuracy: 0.9793\n",
      "Epoch 73/200\n",
      "375/375 [==============================] - 1s 3ms/step - loss: 0.0235 - accuracy: 0.9922 - val_loss: 0.1010 - val_accuracy: 0.9793\n",
      "Epoch 74/200\n",
      "375/375 [==============================] - 1s 4ms/step - loss: 0.0250 - accuracy: 0.9917 - val_loss: 0.0987 - val_accuracy: 0.9797\n",
      "Epoch 75/200\n",
      "375/375 [==============================] - 1s 4ms/step - loss: 0.0250 - accuracy: 0.9917 - val_loss: 0.1027 - val_accuracy: 0.9782\n",
      "Epoch 76/200\n",
      "185/375 [=============>................] - ETA: 0s - loss: 0.0249 - accuracy: 0.9916"
     ]
    }
   ],
   "source": [
    "#training the moodel\n",
    "model.fit(X_train, Y_train,\n",
    "\t\tbatch_size=batch_size, epochs=epochs,\n",
    "\t\tverbose=verbose, validation_split=val_split)"
   ]
  },
  {
   "cell_type": "code",
   "execution_count": 34,
   "id": "77f4309d-4479-44f7-b7b8-059b0fc35a63",
   "metadata": {},
   "outputs": [
    {
     "name": "stdout",
     "output_type": "stream",
     "text": [
      "313/313 [==============================] - 1s 3ms/step - loss: 0.1590 - accuracy: 0.9778\n",
      "Test accuracy: 0.9778000116348267\n"
     ]
    }
   ],
   "source": [
    "test_loss, test_acc = model.evaluate(X_test,Y_test) \n",
    "print('Test accuracy:', test_acc)"
   ]
  },
  {
   "cell_type": "code",
   "execution_count": 35,
   "id": "3b6ed934-48c7-458b-b8db-a192d19f08e3",
   "metadata": {},
   "outputs": [],
   "source": [
    "predict = model.predict(X_test)"
   ]
  },
  {
   "cell_type": "code",
   "execution_count": 28,
   "id": "1ef19726-3af7-4c5b-b224-c49b3dae4b6a",
   "metadata": {},
   "outputs": [
    {
     "data": {
      "text/plain": [
       "(10000, 10)"
      ]
     },
     "execution_count": 28,
     "metadata": {},
     "output_type": "execute_result"
    }
   ],
   "source": [
    "predict.shape"
   ]
  },
  {
   "cell_type": "code",
   "execution_count": null,
   "id": "4e4a7548-afd8-46f8-bbfa-89db3cacd792",
   "metadata": {},
   "outputs": [],
   "source": []
  }
 ],
 "metadata": {
  "kernelspec": {
   "display_name": "Python 3 (ipykernel)",
   "language": "python",
   "name": "python3"
  },
  "language_info": {
   "codemirror_mode": {
    "name": "ipython",
    "version": 3
   },
   "file_extension": ".py",
   "mimetype": "text/x-python",
   "name": "python",
   "nbconvert_exporter": "python",
   "pygments_lexer": "ipython3",
   "version": "3.9.15"
  }
 },
 "nbformat": 4,
 "nbformat_minor": 5
}
