{
 "cells": [
  {
   "cell_type": "code",
   "execution_count": 1,
   "id": "706108bd",
   "metadata": {},
   "outputs": [
    {
     "data": {
      "text/plain": [
       "'2.11.0'"
      ]
     },
     "execution_count": 1,
     "metadata": {},
     "output_type": "execute_result"
    }
   ],
   "source": [
    "import tensorflow as tf\n",
    "tf.__version__"
   ]
  },
  {
   "cell_type": "code",
   "execution_count": 2,
   "id": "6f46a68d",
   "metadata": {},
   "outputs": [
    {
     "data": {
      "image/png": "[encoded data removed]",
      "text/plain": [
       "<Figure size 640x480 with 1 Axes>"
      ]
     },
     "metadata": {},
     "output_type": "display_data"
    }
   ],
   "source": [
    "import numpy as np\n",
    "import matplotlib.pyplot as plt\n",
    "\n",
    "X = np.array([-7.0, -4.0, -1.0, 2.0, 5.0, 8.0, 11.0, 14.0])\n",
    "y = y = np.array([3.0, 6.0, 9.0, 12.0, 15.0, 18.0, 21.0, 24.0])\n",
    "\n",
    "plt.scatter(X,y);\n",
    "plt.show()"
   ]
  },
  {
   "cell_type": "code",
   "execution_count": 3,
   "id": "105f90d3",
   "metadata": {},
   "outputs": [
    {
     "data": {
      "text/plain": [
       "(<tf.Tensor: shape=(3,), dtype=string, numpy=array([b'bedroom', b'bathroom', b'garage'], dtype=object)>,\n",
       " <tf.Tensor: shape=(1,), dtype=int32, numpy=array([939700], dtype=int32)>)"
      ]
     },
     "execution_count": 3,
     "metadata": {},
     "output_type": "execute_result"
    }
   ],
   "source": [
    "house_info = tf.constant(['bedroom', 'bathroom','garage'])\n",
    "house_price =tf.constant([939700])\n",
    "house_info, house_price"
   ]
  },
  {
   "cell_type": "code",
   "execution_count": 4,
   "id": "5f71e326",
   "metadata": {},
   "outputs": [
    {
     "data": {
      "text/plain": [
       "-7.0"
      ]
     },
     "execution_count": 4,
     "metadata": {},
     "output_type": "execute_result"
    }
   ],
   "source": [
    "X[0]"
   ]
  },
  {
   "cell_type": "code",
   "execution_count": 5,
   "id": "239fe397",
   "metadata": {},
   "outputs": [
    {
     "data": {
      "text/plain": [
       "()"
      ]
     },
     "execution_count": 5,
     "metadata": {},
     "output_type": "execute_result"
    }
   ],
   "source": [
    "X[0].shape"
   ]
  },
  {
   "cell_type": "code",
   "execution_count": 6,
   "id": "9bedfe38",
   "metadata": {},
   "outputs": [
    {
     "data": {
      "text/plain": [
       "(<tf.Tensor: shape=(8,), dtype=float32, numpy=array([-7., -4., -1.,  2.,  5.,  8., 11., 14.], dtype=float32)>,\n",
       " <tf.Tensor: shape=(8,), dtype=float32, numpy=array([ 3.,  6.,  9., 12., 15., 18., 21., 24.], dtype=float32)>)"
      ]
     },
     "execution_count": 6,
     "metadata": {},
     "output_type": "execute_result"
    }
   ],
   "source": [
    "X = tf.cast(tf.constant(X), dtype=tf.float32)\n",
    "y = tf.cast(tf.constant(y), dtype=tf.float32)\n",
    "X, y"
   ]
  },
  {
   "cell_type": "code",
   "execution_count": 7,
   "id": "00dd34eb",
   "metadata": {},
   "outputs": [
    {
     "name": "stderr",
     "output_type": "stream",
     "text": [
      "WARNING:absl:`lr` is deprecated, please use `learning_rate` instead, or use the legacy optimizer, e.g.,tf.keras.optimizers.legacy.Adam.\n"
     ]
    },
    {
     "name": "stdout",
     "output_type": "stream",
     "text": [
      "Epoch 1/100\n",
      "1/1 [==============================] - 1s 540ms/step - loss: 14.5255 - mae: 14.5255\n",
      "Epoch 2/100\n",
      "1/1 [==============================] - 0s 5ms/step - loss: 14.4565 - mae: 14.4565\n",
      "Epoch 3/100\n",
      "1/1 [==============================] - 0s 7ms/step - loss: 14.3874 - mae: 14.3874\n",
      "Epoch 4/100\n",
      "1/1 [==============================] - 0s 7ms/step - loss: 14.3184 - mae: 14.3184\n",
      "Epoch 5/100\n",
      "1/1 [==============================] - 0s 5ms/step - loss: 14.2494 - mae: 14.2494\n",
      "Epoch 6/100\n",
      "1/1 [==============================] - 0s 7ms/step - loss: 14.1803 - mae: 14.1803\n",
      "Epoch 7/100\n",
      "1/1 [==============================] - 0s 6ms/step - loss: 14.1113 - mae: 14.1113\n",
      "Epoch 8/100\n",
      "1/1 [==============================] - 0s 5ms/step - loss: 14.0423 - mae: 14.0423\n",
      "Epoch 9/100\n",
      "1/1 [==============================] - 0s 5ms/step - loss: 13.9732 - mae: 13.9732\n",
      "Epoch 10/100\n",
      "1/1 [==============================] - 0s 7ms/step - loss: 13.9042 - mae: 13.9042\n",
      "Epoch 11/100\n",
      "1/1 [==============================] - 0s 6ms/step - loss: 13.8351 - mae: 13.8351\n",
      "Epoch 12/100\n",
      "1/1 [==============================] - 0s 6ms/step - loss: 13.7660 - mae: 13.7660\n",
      "Epoch 13/100\n",
      "1/1 [==============================] - 0s 5ms/step - loss: 13.6968 - mae: 13.6968\n",
      "Epoch 14/100\n",
      "1/1 [==============================] - 0s 6ms/step - loss: 13.6276 - mae: 13.6276\n",
      "Epoch 15/100\n",
      "1/1 [==============================] - 0s 6ms/step - loss: 13.5584 - mae: 13.5584\n",
      "Epoch 16/100\n",
      "1/1 [==============================] - 0s 7ms/step - loss: 13.4892 - mae: 13.4892\n",
      "Epoch 17/100\n",
      "1/1 [==============================] - 0s 5ms/step - loss: 13.4198 - mae: 13.4198\n",
      "Epoch 18/100\n",
      "1/1 [==============================] - 0s 7ms/step - loss: 13.3505 - mae: 13.3505\n",
      "Epoch 19/100\n",
      "1/1 [==============================] - 0s 7ms/step - loss: 13.2811 - mae: 13.2811\n",
      "Epoch 20/100\n",
      "1/1 [==============================] - 0s 6ms/step - loss: 13.2116 - mae: 13.2116\n",
      "Epoch 21/100\n",
      "1/1 [==============================] - 0s 6ms/step - loss: 13.1420 - mae: 13.1420\n",
      "Epoch 22/100\n",
      "1/1 [==============================] - 0s 6ms/step - loss: 13.0724 - mae: 13.0724\n",
      "Epoch 23/100\n",
      "1/1 [==============================] - 0s 7ms/step - loss: 13.0026 - mae: 13.0026\n",
      "Epoch 24/100\n",
      "1/1 [==============================] - 0s 6ms/step - loss: 12.9328 - mae: 12.9328\n",
      "Epoch 25/100\n",
      "1/1 [==============================] - 0s 5ms/step - loss: 12.8629 - mae: 12.8629\n",
      "Epoch 26/100\n",
      "1/1 [==============================] - 0s 5ms/step - loss: 12.7929 - mae: 12.7929\n",
      "Epoch 27/100\n",
      "1/1 [==============================] - 0s 7ms/step - loss: 12.7228 - mae: 12.7228\n",
      "Epoch 28/100\n",
      "1/1 [==============================] - 0s 5ms/step - loss: 12.6525 - mae: 12.6525\n",
      "Epoch 29/100\n",
      "1/1 [==============================] - 0s 7ms/step - loss: 12.5822 - mae: 12.5822\n",
      "Epoch 30/100\n",
      "1/1 [==============================] - 0s 5ms/step - loss: 12.5117 - mae: 12.5117\n",
      "Epoch 31/100\n",
      "1/1 [==============================] - 0s 7ms/step - loss: 12.4410 - mae: 12.4410\n",
      "Epoch 32/100\n",
      "1/1 [==============================] - 0s 5ms/step - loss: 12.3703 - mae: 12.3703\n",
      "Epoch 33/100\n",
      "1/1 [==============================] - 0s 6ms/step - loss: 12.2994 - mae: 12.2994\n",
      "Epoch 34/100\n",
      "1/1 [==============================] - 0s 6ms/step - loss: 12.2283 - mae: 12.2283\n",
      "Epoch 35/100\n",
      "1/1 [==============================] - 0s 6ms/step - loss: 12.1570 - mae: 12.1570\n",
      "Epoch 36/100\n",
      "1/1 [==============================] - 0s 5ms/step - loss: 12.0856 - mae: 12.0856\n",
      "Epoch 37/100\n",
      "1/1 [==============================] - 0s 6ms/step - loss: 12.0140 - mae: 12.0140\n",
      "Epoch 38/100\n",
      "1/1 [==============================] - 0s 5ms/step - loss: 11.9423 - mae: 11.9423\n",
      "Epoch 39/100\n",
      "1/1 [==============================] - 0s 8ms/step - loss: 11.8703 - mae: 11.8703\n",
      "Epoch 40/100\n",
      "1/1 [==============================] - 0s 5ms/step - loss: 11.7982 - mae: 11.7982\n",
      "Epoch 41/100\n",
      "1/1 [==============================] - 0s 7ms/step - loss: 11.7258 - mae: 11.7258\n",
      "Epoch 42/100\n",
      "1/1 [==============================] - 0s 5ms/step - loss: 11.6532 - mae: 11.6532\n",
      "Epoch 43/100\n",
      "1/1 [==============================] - 0s 7ms/step - loss: 11.5804 - mae: 11.5804\n",
      "Epoch 44/100\n",
      "1/1 [==============================] - 0s 5ms/step - loss: 11.5074 - mae: 11.5074\n",
      "Epoch 45/100\n",
      "1/1 [==============================] - 0s 6ms/step - loss: 11.4342 - mae: 11.4342\n",
      "Epoch 46/100\n",
      "1/1 [==============================] - 0s 5ms/step - loss: 11.3607 - mae: 11.3607\n",
      "Epoch 47/100\n",
      "1/1 [==============================] - 0s 7ms/step - loss: 11.2869 - mae: 11.2869\n",
      "Epoch 48/100\n",
      "1/1 [==============================] - 0s 5ms/step - loss: 11.2130 - mae: 11.2130\n",
      "Epoch 49/100\n",
      "1/1 [==============================] - 0s 6ms/step - loss: 11.1387 - mae: 11.1387\n",
      "Epoch 50/100\n",
      "1/1 [==============================] - 0s 5ms/step - loss: 11.0642 - mae: 11.0642\n",
      "Epoch 51/100\n",
      "1/1 [==============================] - 0s 8ms/step - loss: 10.9894 - mae: 10.9894\n",
      "Epoch 52/100\n",
      "1/1 [==============================] - 0s 5ms/step - loss: 10.9143 - mae: 10.9143\n",
      "Epoch 53/100\n",
      "1/1 [==============================] - 0s 6ms/step - loss: 10.8390 - mae: 10.8390\n",
      "Epoch 54/100\n",
      "1/1 [==============================] - 0s 5ms/step - loss: 10.7633 - mae: 10.7633\n",
      "Epoch 55/100\n",
      "1/1 [==============================] - 0s 8ms/step - loss: 10.6874 - mae: 10.6874\n",
      "Epoch 56/100\n",
      "1/1 [==============================] - 0s 4ms/step - loss: 10.6111 - mae: 10.6111\n",
      "Epoch 57/100\n",
      "1/1 [==============================] - 0s 12ms/step - loss: 10.5345 - mae: 10.5345\n",
      "Epoch 58/100\n",
      "1/1 [==============================] - 0s 7ms/step - loss: 10.4576 - mae: 10.4576\n",
      "Epoch 59/100\n",
      "1/1 [==============================] - 0s 6ms/step - loss: 10.3804 - mae: 10.3804\n",
      "Epoch 60/100\n",
      "1/1 [==============================] - 0s 7ms/step - loss: 10.3028 - mae: 10.3028\n",
      "Epoch 61/100\n",
      "1/1 [==============================] - 0s 5ms/step - loss: 10.2249 - mae: 10.2249\n",
      "Epoch 62/100\n",
      "1/1 [==============================] - 0s 5ms/step - loss: 10.1467 - mae: 10.1467\n",
      "Epoch 63/100\n",
      "1/1 [==============================] - 0s 6ms/step - loss: 10.0681 - mae: 10.0681\n",
      "Epoch 64/100\n",
      "1/1 [==============================] - 0s 6ms/step - loss: 9.9891 - mae: 9.9891\n",
      "Epoch 65/100\n",
      "1/1 [==============================] - 0s 6ms/step - loss: 9.9098 - mae: 9.9098\n",
      "Epoch 66/100\n",
      "1/1 [==============================] - 0s 5ms/step - loss: 9.8301 - mae: 9.8301\n",
      "Epoch 67/100\n",
      "1/1 [==============================] - 0s 6ms/step - loss: 9.7500 - mae: 9.7500\n",
      "Epoch 68/100\n",
      "1/1 [==============================] - 0s 5ms/step - loss: 9.6696 - mae: 9.6696\n",
      "Epoch 69/100\n",
      "1/1 [==============================] - 0s 6ms/step - loss: 9.5887 - mae: 9.5887\n",
      "Epoch 70/100\n",
      "1/1 [==============================] - 0s 5ms/step - loss: 9.5075 - mae: 9.5075\n",
      "Epoch 71/100\n",
      "1/1 [==============================] - 0s 8ms/step - loss: 9.4258 - mae: 9.4258\n",
      "Epoch 72/100\n",
      "1/1 [==============================] - 0s 5ms/step - loss: 9.3438 - mae: 9.3438\n",
      "Epoch 73/100\n",
      "1/1 [==============================] - 0s 7ms/step - loss: 9.2613 - mae: 9.2613\n",
      "Epoch 74/100\n",
      "1/1 [==============================] - 0s 5ms/step - loss: 9.1784 - mae: 9.1784\n",
      "Epoch 75/100\n",
      "1/1 [==============================] - 0s 5ms/step - loss: 9.0951 - mae: 9.0951\n",
      "Epoch 76/100\n",
      "1/1 [==============================] - 0s 5ms/step - loss: 9.0113 - mae: 9.0113\n",
      "Epoch 77/100\n",
      "1/1 [==============================] - 0s 4ms/step - loss: 8.9271 - mae: 8.9271\n",
      "Epoch 78/100\n",
      "1/1 [==============================] - 0s 5ms/step - loss: 8.8425 - mae: 8.8425\n",
      "Epoch 79/100\n",
      "1/1 [==============================] - 0s 5ms/step - loss: 8.7574 - mae: 8.7574\n",
      "Epoch 80/100\n",
      "1/1 [==============================] - 0s 6ms/step - loss: 8.6718 - mae: 8.6718\n",
      "Epoch 81/100\n",
      "1/1 [==============================] - 0s 5ms/step - loss: 8.5858 - mae: 8.5858\n",
      "Epoch 82/100\n",
      "1/1 [==============================] - 0s 7ms/step - loss: 8.4993 - mae: 8.4993\n",
      "Epoch 83/100\n",
      "1/1 [==============================] - 0s 5ms/step - loss: 8.4124 - mae: 8.4124\n",
      "Epoch 84/100\n",
      "1/1 [==============================] - 0s 7ms/step - loss: 8.3249 - mae: 8.3249\n",
      "Epoch 85/100\n",
      "1/1 [==============================] - 0s 6ms/step - loss: 8.2370 - mae: 8.2370\n",
      "Epoch 86/100\n",
      "1/1 [==============================] - 0s 7ms/step - loss: 8.1486 - mae: 8.1486\n",
      "Epoch 87/100\n",
      "1/1 [==============================] - 0s 6ms/step - loss: 8.0597 - mae: 8.0597\n",
      "Epoch 88/100\n",
      "1/1 [==============================] - 0s 6ms/step - loss: 7.9703 - mae: 7.9703\n",
      "Epoch 89/100\n",
      "1/1 [==============================] - 0s 6ms/step - loss: 7.8803 - mae: 7.8803\n",
      "Epoch 90/100\n",
      "1/1 [==============================] - 0s 8ms/step - loss: 7.7899 - mae: 7.7899\n",
      "Epoch 91/100\n",
      "1/1 [==============================] - 0s 5ms/step - loss: 7.6989 - mae: 7.6989\n",
      "Epoch 92/100\n",
      "1/1 [==============================] - 0s 5ms/step - loss: 7.6074 - mae: 7.6074\n",
      "Epoch 93/100\n",
      "1/1 [==============================] - 0s 6ms/step - loss: 7.5154 - mae: 7.5154\n",
      "Epoch 94/100\n",
      "1/1 [==============================] - 0s 7ms/step - loss: 7.4228 - mae: 7.4228\n",
      "Epoch 95/100\n",
      "1/1 [==============================] - 0s 5ms/step - loss: 7.3297 - mae: 7.3297\n",
      "Epoch 96/100\n",
      "1/1 [==============================] - 0s 6ms/step - loss: 7.2361 - mae: 7.2361\n",
      "Epoch 97/100\n",
      "1/1 [==============================] - 0s 5ms/step - loss: 7.1419 - mae: 7.1419\n",
      "Epoch 98/100\n",
      "1/1 [==============================] - 0s 7ms/step - loss: 7.0471 - mae: 7.0471\n",
      "Epoch 99/100\n",
      "1/1 [==============================] - 0s 5ms/step - loss: 6.9518 - mae: 6.9518\n",
      "Epoch 100/100\n",
      "1/1 [==============================] - 0s 6ms/step - loss: 6.8559 - mae: 6.8559\n"
     ]
    },
    {
     "data": {
      "text/plain": [
       "<keras.callbacks.History at 0x7fc3167af310>"
      ]
     },
     "execution_count": 7,
     "metadata": {},
     "output_type": "execute_result"
    }
   ],
   "source": [
    "tf.random.set_seed(42)\n",
    "\n",
    "model = tf.keras.Sequential([\n",
    "    tf.keras.layers.Dense(50, activation=None), \n",
    "    tf.keras.layers.Dense(1)\n",
    "])\n",
    "model.compile(loss=tf.keras.losses.mae,\n",
    "             optimizer=tf.keras.optimizers.Adam(lr=0.01),\n",
    "             metrics=['mae'])\n",
    "model.fit(tf.expand_dims(X, axis=-1), y, epochs=100)"
   ]
  },
  {
   "cell_type": "code",
   "execution_count": 8,
   "id": "94d3cb66",
   "metadata": {},
   "outputs": [
    {
     "name": "stdout",
     "output_type": "stream",
     "text": [
      "1/1 [==============================] - 0s 87ms/step\n"
     ]
    },
    {
     "data": {
      "text/plain": [
       "array([[27.93823]], dtype=float32)"
      ]
     },
     "execution_count": 8,
     "metadata": {},
     "output_type": "execute_result"
    }
   ],
   "source": [
    "model.predict([17])"
   ]
  },
  {
   "cell_type": "code",
   "execution_count": 9,
   "id": "407212b6",
   "metadata": {},
   "outputs": [],
   "source": [
    "X = np.arange(-100,100,4)"
   ]
  },
  {
   "cell_type": "code",
   "execution_count": 10,
   "id": "c0b699cd",
   "metadata": {},
   "outputs": [],
   "source": [
    "y=np.arange(-90,110,4)"
   ]
  },
  {
   "cell_type": "code",
   "execution_count": 11,
   "id": "1f2c4f5b",
   "metadata": {},
   "outputs": [
    {
     "data": {
      "image/png": "[encoded data removed]",
      "text/plain": [
       "<Figure size 640x480 with 1 Axes>"
      ]
     },
     "metadata": {},
     "output_type": "display_data"
    }
   ],
   "source": [
    "import matplotlib.pyplot as plt\n",
    "plt.scatter(X, y)\n",
    "plt.show()"
   ]
  },
  {
   "cell_type": "code",
   "execution_count": 12,
   "id": "b8d37cbe",
   "metadata": {},
   "outputs": [
    {
     "data": {
      "text/plain": [
       "50"
      ]
     },
     "execution_count": 12,
     "metadata": {},
     "output_type": "execute_result"
    }
   ],
   "source": [
    "len(X)"
   ]
  },
  {
   "cell_type": "code",
   "execution_count": 13,
   "id": "837b6423",
   "metadata": {},
   "outputs": [
    {
     "data": {
      "text/plain": [
       "array([-100,  -96,  -92,  -88,  -84,  -80,  -76,  -72,  -68,  -64,  -60,\n",
       "        -56,  -52,  -48,  -44,  -40,  -36,  -32,  -28,  -24,  -20,  -16,\n",
       "        -12,   -8,   -4,    0,    4,    8,   12,   16,   20,   24,   28,\n",
       "         32,   36,   40,   44,   48,   52,   56,   60,   64,   68,   72,\n",
       "         76,   80,   84,   88,   92,   96])"
      ]
     },
     "execution_count": 13,
     "metadata": {},
     "output_type": "execute_result"
    }
   ],
   "source": [
    "X"
   ]
  },
  {
   "cell_type": "code",
   "execution_count": 14,
   "id": "bae7bcd8",
   "metadata": {},
   "outputs": [],
   "source": [
    "X_train = X[:40]"
   ]
  },
  {
   "cell_type": "code",
   "execution_count": 15,
   "id": "a7dd84d1",
   "metadata": {},
   "outputs": [],
   "source": [
    "X_test = X[40:]"
   ]
  },
  {
   "cell_type": "code",
   "execution_count": 16,
   "id": "995a3bf9",
   "metadata": {},
   "outputs": [],
   "source": [
    "y_train = y[:40]"
   ]
  },
  {
   "cell_type": "code",
   "execution_count": 17,
   "id": "54c5ab15",
   "metadata": {},
   "outputs": [],
   "source": [
    "y_test = y[40:]"
   ]
  },
  {
   "cell_type": "code",
   "execution_count": 18,
   "id": "41177d84",
   "metadata": {},
   "outputs": [
    {
     "data": {
      "text/plain": [
       "<matplotlib.legend.Legend at 0x7fc3366201c0>"
      ]
     },
     "execution_count": 18,
     "metadata": {},
     "output_type": "execute_result"
    }
   ],
   "source": [
    "plt.figure(figsize=(10,7))\n",
    "plt.scatter(X_train, y_train, c='b', label='Training data')\n",
    "plt.scatter(X_test, y_test, c='g', label='Test data')\n",
    "plt.legend()"
   ]
  },
  {
   "cell_type": "code",
   "execution_count": 19,
   "id": "9b0f308e",
   "metadata": {},
   "outputs": [
    {
     "data": {
      "image/png": "[encoded data removed]",
      "text/plain": [
       "<Figure size 1000x700 with 1 Axes>"
      ]
     },
     "metadata": {},
     "output_type": "display_data"
    }
   ],
   "source": [
    "plt.show()"
   ]
  },
  {
   "cell_type": "code",
   "execution_count": 57,
   "id": "f89dcd38",
   "metadata": {},
   "outputs": [],
   "source": [
    "tf.random.set_seed(42)\n",
    "\n",
    "model = tf.keras.Sequential([tf.keras.layers.Dense(1, input_shape=[1])])\n",
    "model.compile(loss=tf.keras.losses.mae,\n",
    "             optimizer=tf.keras.optimizers.Adam(),\n",
    "             metrics=['mae'])\n"
   ]
  },
  {
   "cell_type": "code",
   "execution_count": 58,
   "id": "4409d5bc",
   "metadata": {},
   "outputs": [
    {
     "name": "stdout",
     "output_type": "stream",
     "text": [
      "Model: \"sequential_3\"\n",
      "_________________________________________________________________\n",
      " Layer (type)                Output Shape              Param #   \n",
      "=================================================================\n",
      " dense_4 (Dense)             (None, 1)                 2         \n",
      "                                                                 \n",
      "=================================================================\n",
      "Total params: 2\n",
      "Trainable params: 2\n",
      "Non-trainable params: 0\n",
      "_________________________________________________________________\n"
     ]
    }
   ],
   "source": [
    "model.summary()"
   ]
  },
  {
   "cell_type": "code",
   "execution_count": 59,
   "id": "249c9e72",
   "metadata": {},
   "outputs": [
    {
     "data": {
      "text/plain": [
       "<keras.callbacks.History at 0x7fc31d6351f0>"
      ]
     },
     "execution_count": 59,
     "metadata": {},
     "output_type": "execute_result"
    }
   ],
   "source": [
    "model.fit(X_train, y_train, epochs=140, verbose=0)"
   ]
  },
  {
   "cell_type": "code",
   "execution_count": 60,
   "id": "92232ff1",
   "metadata": {},
   "outputs": [
    {
     "data": {
      "image/png": "[encoded data removed]",
      "text/plain": [
       "<IPython.core.display.Image object>"
      ]
     },
     "execution_count": 60,
     "metadata": {},
     "output_type": "execute_result"
    }
   ],
   "source": [
    "from tensorflow.keras.utils import plot_model\n",
    "\n",
    "plot_model(model, show_shapes=True)"
   ]
  },
  {
   "cell_type": "code",
   "execution_count": 61,
   "id": "bb24ed69",
   "metadata": {},
   "outputs": [
    {
     "name": "stdout",
     "output_type": "stream",
     "text": [
      "Requirement already satisfied: pydot in /Users/aleksander/.conda/envs/BIGAI/lib/python3.9/site-packages (1.4.2)\n",
      "Requirement already satisfied: pyparsing>=2.1.4 in /Users/aleksander/.conda/envs/BIGAI/lib/python3.9/site-packages (from pydot) (3.0.9)\n"
     ]
    }
   ],
   "source": [
    "!pip install pydot"
   ]
  },
  {
   "cell_type": "code",
   "execution_count": 62,
   "id": "6b045f4f",
   "metadata": {},
   "outputs": [
    {
     "name": "stdout",
     "output_type": "stream",
     "text": [
      "1/1 [==============================] - 0s 37ms/step\n"
     ]
    }
   ],
   "source": [
    "y_pred = model.predict(X_test)"
   ]
  },
  {
   "cell_type": "code",
   "execution_count": 63,
   "id": "0d28d23a",
   "metadata": {},
   "outputs": [
    {
     "data": {
      "text/plain": [
       "array([[27.932932],\n",
       "       [29.802109],\n",
       "       [31.671286],\n",
       "       [33.540466],\n",
       "       [35.409645],\n",
       "       [37.27882 ],\n",
       "       [39.148   ],\n",
       "       [41.017178],\n",
       "       [42.886356],\n",
       "       [44.75553 ]], dtype=float32)"
      ]
     },
     "execution_count": 63,
     "metadata": {},
     "output_type": "execute_result"
    }
   ],
   "source": [
    "y_pred"
   ]
  },
  {
   "cell_type": "code",
   "execution_count": 64,
   "id": "58506aef",
   "metadata": {},
   "outputs": [
    {
     "data": {
      "text/plain": [
       "array([60, 64, 68, 72, 76, 80, 84, 88, 92, 96])"
      ]
     },
     "execution_count": 64,
     "metadata": {},
     "output_type": "execute_result"
    }
   ],
   "source": [
    "X_test"
   ]
  },
  {
   "cell_type": "code",
   "execution_count": 65,
   "id": "1b55c173",
   "metadata": {},
   "outputs": [
    {
     "data": {
      "image/png": "[encoded data removed]",
      "text/plain": [
       "<Figure size 1000x700 with 1 Axes>"
      ]
     },
     "metadata": {},
     "output_type": "display_data"
    }
   ],
   "source": [
    "def plot_predictions(train_data=X_train, \n",
    "                     train_labels=y_train, \n",
    "                     test_data=X_test, \n",
    "                     test_labels=y_test, \n",
    "                     predictions=y_pred):\n",
    "  \"\"\"\n",
    "  Plots training data, test data and compares predictions.\n",
    "  \"\"\"\n",
    "  plt.figure(figsize=(10, 7))\n",
    "  # Plot training data in blue\n",
    "  plt.scatter(train_data, train_labels, c=\"b\", label=\"Training data\")\n",
    "  # Plot test data in green\n",
    "  plt.scatter(test_data, test_labels, c=\"g\", label=\"Testing data\")\n",
    "  # Plot the predictions in red (predictions were made on the test data)\n",
    "  plt.scatter(test_data, predictions, c=\"r\", label=\"Predictions\")\n",
    "  # Show the legend\n",
    "  plt.legend();\n",
    "plt.show()\n"
   ]
  },
  {
   "cell_type": "code",
   "execution_count": 66,
   "id": "41ba1517",
   "metadata": {},
   "outputs": [],
   "source": [
    "plot_predictions(train_data=X_train,\n",
    "                 train_labels=y_train,\n",
    "                 test_data=X_test,\n",
    "                 test_labels=y_test,\n",
    "                 predictions=y_pred)"
   ]
  },
  {
   "cell_type": "code",
   "execution_count": 67,
   "id": "b2cc905a",
   "metadata": {},
   "outputs": [
    {
     "name": "stdout",
     "output_type": "stream",
     "text": [
      "1/1 [==============================] - 0s 96ms/step - loss: 51.6558 - mae: 51.6558\n"
     ]
    },
    {
     "data": {
      "text/plain": [
       "[51.65576934814453, 51.65576934814453]"
      ]
     },
     "execution_count": 67,
     "metadata": {},
     "output_type": "execute_result"
    }
   ],
   "source": [
    "model.evaluate(X_test, y_test)"
   ]
  },
  {
   "cell_type": "code",
   "execution_count": 68,
   "id": "fe5bc214",
   "metadata": {},
   "outputs": [
    {
     "data": {
      "text/plain": [
       "(10, 1)"
      ]
     },
     "execution_count": 68,
     "metadata": {},
     "output_type": "execute_result"
    }
   ],
   "source": [
    "y_pred.shape"
   ]
  },
  {
   "cell_type": "code",
   "execution_count": 69,
   "id": "8811055b",
   "metadata": {},
   "outputs": [
    {
     "data": {
      "text/plain": [
       "(10,)"
      ]
     },
     "execution_count": 69,
     "metadata": {},
     "output_type": "execute_result"
    }
   ],
   "source": [
    "y_pred.squeeze().shape"
   ]
  },
  {
   "cell_type": "code",
   "execution_count": 70,
   "id": "c2331b06",
   "metadata": {},
   "outputs": [],
   "source": [
    "mae = tf.metrics.mean_absolute_error(y_true=y_test, y_pred=y_pred.squeeze())"
   ]
  },
  {
   "cell_type": "code",
   "execution_count": 71,
   "id": "3d42e03e",
   "metadata": {},
   "outputs": [
    {
     "data": {
      "text/plain": [
       "51.65577"
      ]
     },
     "execution_count": 71,
     "metadata": {},
     "output_type": "execute_result"
    }
   ],
   "source": [
    "mae.numpy()"
   ]
  },
  {
   "cell_type": "code",
   "execution_count": 72,
   "id": "92db928e",
   "metadata": {},
   "outputs": [],
   "source": [
    "mse = tf.metrics.mse(y_true=y_test,y_pred=y_pred.squeeze())"
   ]
  },
  {
   "cell_type": "code",
   "execution_count": 73,
   "id": "c847f1ce",
   "metadata": {},
   "outputs": [
    {
     "data": {
      "text/plain": [
       "<tf.Tensor: shape=(), dtype=float32, numpy=2705.7766>"
      ]
     },
     "execution_count": 73,
     "metadata": {},
     "output_type": "execute_result"
    }
   ],
   "source": [
    "mse"
   ]
  },
  {
   "cell_type": "code",
   "execution_count": null,
   "id": "68aff8ee",
   "metadata": {},
   "outputs": [],
   "source": []
  }
 ],
 "metadata": {
  "kernelspec": {
   "display_name": "Python 3",
   "language": "python",
   "name": "python3"
  },
  "language_info": {
   "codemirror_mode": {
    "name": "ipython",
    "version": 3
   },
   "file_extension": ".py",
   "mimetype": "text/x-python",
   "name": "python",
   "nbconvert_exporter": "python",
   "pygments_lexer": "ipython3",
   "version": "3.9.13"
  }
 },
 "nbformat": 4,
 "nbformat_minor": 5
}
