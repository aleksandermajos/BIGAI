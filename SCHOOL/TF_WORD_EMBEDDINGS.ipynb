{
 "cells": [
  {
   "cell_type": "code",
   "execution_count": 2,
   "id": "edac7815",
   "metadata": {},
   "outputs": [],
   "source": [
    "import gensim.downloader as api\n",
    "from gensim.models import Word2Vec\n",
    "dataset = api.load('text8')\n",
    "model = Word2Vec(dataset)\n",
    "model.save('text8-word2vec.bin')"
   ]
  },
  {
   "cell_type": "code",
   "execution_count": 6,
   "id": "52f56b44-5f01-4814-aae3-fd5a31d7fd0b",
   "metadata": {},
   "outputs": [],
   "source": [
    "from gensim.models import KeyedVectors\n",
    "model = KeyedVectors.load('text8-word2vec.bin')\n",
    "word_vectors = model.wv"
   ]
  },
  {
   "cell_type": "code",
   "execution_count": 8,
   "id": "b75f6d3d-2bbd-4c32-82cc-78070ce5a10a",
   "metadata": {},
   "outputs": [
    {
     "name": "stdout",
     "output_type": "stream",
     "text": [
      "0.727 prince\n",
      "0.725 queen\n",
      "0.709 emperor\n",
      "0.703 throne\n",
      "0.682 kings\n",
      "...\n"
     ]
    }
   ],
   "source": [
    "def print_most_similar(word_conf_pairs, k):\n",
    "    for i, (word, conf) in enumerate(word_conf_pairs):\n",
    "            print(\"{:.3f} {:s}\".format(conf, word))\n",
    "            if i >= k-1:\n",
    "                break\n",
    "    if k < len(word_conf_pairs):\n",
    "         print(\"...\")\n",
    "print_most_similar(word_vectors.most_similar(\"king\"), 5)"
   ]
  },
  {
   "cell_type": "code",
   "execution_count": 9,
   "id": "9bf6322a-6700-4263-b852-e84b649d7d7d",
   "metadata": {},
   "outputs": [
    {
     "name": "stdout",
     "output_type": "stream",
     "text": [
      "0.779 germany\n",
      "...\n"
     ]
    }
   ],
   "source": [
    "print_most_similar(word_vectors.most_similar(\n",
    "   positive=[\"france\", \"berlin\"], negative=[\"paris\"]), 1\n",
    ")"
   ]
  },
  {
   "cell_type": "code",
   "execution_count": 10,
   "id": "c6874f0c-a9ba-4192-8432-abdb0188014d",
   "metadata": {},
   "outputs": [
    {
     "name": "stdout",
     "output_type": "stream",
     "text": [
      "0.941 germany\n",
      "...\n"
     ]
    }
   ],
   "source": [
    "print_most_similar(word_vectors.most_similar_cosmul(\n",
    "   positive=[\"france\", \"berlin\"], negative=[\"paris\"]), 1\n",
    ")"
   ]
  },
  {
   "cell_type": "code",
   "execution_count": 11,
   "id": "ea3b788d-49b0-4df2-a932-f955ca450d49",
   "metadata": {},
   "outputs": [
    {
     "name": "stdout",
     "output_type": "stream",
     "text": [
      "singapore\n"
     ]
    }
   ],
   "source": [
    "print(word_vectors.doesnt_match([\"hindus\", \"parsis\", \"singapore\", \"christians\"]))"
   ]
  },
  {
   "cell_type": "code",
   "execution_count": 12,
   "id": "d5c62096-611b-4524-9f3c-c43deccbca60",
   "metadata": {},
   "outputs": [
    {
     "name": "stdout",
     "output_type": "stream",
     "text": [
      "similarity(man, woman) = 0.735\n",
      "similarity(man, dog) = 0.445\n",
      "similarity(man, whale) = 0.268\n",
      "similarity(man, tree) = 0.296\n"
     ]
    }
   ],
   "source": [
    "for word in [\"woman\", \"dog\", \"whale\", \"tree\"]:\n",
    "   print(\"similarity({:s}, {:s}) = {:.3f}\".format(\n",
    "       \"man\", word,\n",
    "       word_vectors.similarity(\"man\", word)\n",
    "   ))"
   ]
  },
  {
   "cell_type": "code",
   "execution_count": 13,
   "id": "b64593a3-0cef-4a4e-a858-a8f0b42a24b8",
   "metadata": {},
   "outputs": [
    {
     "name": "stdout",
     "output_type": "stream",
     "text": [
      "0.878 malaysia\n",
      "0.840 indonesia\n",
      "0.814 zambia\n",
      "0.809 uganda\n",
      "0.808 thailand\n",
      "...\n",
      "None\n"
     ]
    }
   ],
   "source": [
    "print(print_most_similar(\n",
    "   word_vectors.similar_by_word(\"singapore\"), 5)\n",
    ")"
   ]
  },
  {
   "cell_type": "code",
   "execution_count": 14,
   "id": "e5946028-8d9b-4eb3-b233-cd1b89d865ab",
   "metadata": {},
   "outputs": [
    {
     "name": "stdout",
     "output_type": "stream",
     "text": [
      "\n",
      "# output vector obtained directly, shape: (100,)\n"
     ]
    }
   ],
   "source": [
    "vec_song = word_vectors[\"song\"]\n",
    "print(\"\\n# output vector obtained directly, shape:\", vec_song.shape)"
   ]
  },
  {
   "cell_type": "code",
   "execution_count": null,
   "id": "74bb98fe-d527-4dc4-918b-053aaae11df8",
   "metadata": {},
   "outputs": [],
   "source": []
  }
 ],
 "metadata": {
  "kernelspec": {
   "display_name": "Python 3 (ipykernel)",
   "language": "python",
   "name": "python3"
  },
  "language_info": {
   "codemirror_mode": {
    "name": "ipython",
    "version": 3
   },
   "file_extension": ".py",
   "mimetype": "text/x-python",
   "name": "python",
   "nbconvert_exporter": "python",
   "pygments_lexer": "ipython3",
   "version": "3.9.15"
  }
 },
 "nbformat": 4,
 "nbformat_minor": 5
}
