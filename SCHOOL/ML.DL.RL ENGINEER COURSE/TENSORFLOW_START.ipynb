{
 "cells": [
  {
   "cell_type": "code",
   "execution_count": 1,
   "id": "1abb8411",
   "metadata": {},
   "outputs": [
    {
     "name": "stdout",
     "output_type": "stream",
     "text": [
      "2.11.0\n"
     ]
    }
   ],
   "source": [
    "import tensorflow as tf\n",
    "print(tf.__version__)"
   ]
  },
  {
   "cell_type": "code",
   "execution_count": 2,
   "id": "76a5b7e4",
   "metadata": {},
   "outputs": [
    {
     "data": {
      "text/plain": [
       "<tf.Tensor: shape=(), dtype=int32, numpy=7>"
      ]
     },
     "execution_count": 2,
     "metadata": {},
     "output_type": "execute_result"
    }
   ],
   "source": [
    "scalar = tf.constant(7)\n",
    "scalar"
   ]
  },
  {
   "cell_type": "code",
   "execution_count": 3,
   "id": "e2b98dd7",
   "metadata": {},
   "outputs": [
    {
     "data": {
      "text/plain": [
       "\u001b[0;31mSignature:\u001b[0m  \u001b[0mtf\u001b[0m\u001b[0;34m.\u001b[0m\u001b[0mconstant\u001b[0m\u001b[0;34m(\u001b[0m\u001b[0mvalue\u001b[0m\u001b[0;34m,\u001b[0m \u001b[0mdtype\u001b[0m\u001b[0;34m=\u001b[0m\u001b[0;32mNone\u001b[0m\u001b[0;34m,\u001b[0m \u001b[0mshape\u001b[0m\u001b[0;34m=\u001b[0m\u001b[0;32mNone\u001b[0m\u001b[0;34m,\u001b[0m \u001b[0mname\u001b[0m\u001b[0;34m=\u001b[0m\u001b[0;34m'Const'\u001b[0m\u001b[0;34m)\u001b[0m\u001b[0;34m\u001b[0m\u001b[0;34m\u001b[0m\u001b[0m\n",
       "\u001b[0;31mDocstring:\u001b[0m\n",
       "Creates a constant tensor from a tensor-like object.\n",
       "\n",
       "Note: All eager `tf.Tensor` values are immutable (in contrast to\n",
       "`tf.Variable`). There is nothing especially _constant_ about the value\n",
       "returned from `tf.constant`. This function is not fundamentally different from\n",
       "`tf.convert_to_tensor`. The name `tf.constant` comes from the `value` being\n",
       "embedded in a `Const` node in the `tf.Graph`. `tf.constant` is useful\n",
       "for asserting that the value can be embedded that way.\n",
       "\n",
       "If the argument `dtype` is not specified, then the type is inferred from\n",
       "the type of `value`.\n",
       "\n",
       ">>> # Constant 1-D Tensor from a python list.\n",
       ">>> tf.constant([1, 2, 3, 4, 5, 6])\n",
       "<tf.Tensor: shape=(6,), dtype=int32,\n",
       "    numpy=array([1, 2, 3, 4, 5, 6], dtype=int32)>\n",
       ">>> # Or a numpy array\n",
       ">>> a = np.array([[1, 2, 3], [4, 5, 6]])\n",
       ">>> tf.constant(a)\n",
       "<tf.Tensor: shape=(2, 3), dtype=int64, numpy=\n",
       "  array([[1, 2, 3],\n",
       "         [4, 5, 6]])>\n",
       "\n",
       "If `dtype` is specified, the resulting tensor values are cast to the requested\n",
       "`dtype`.\n",
       "\n",
       ">>> tf.constant([1, 2, 3, 4, 5, 6], dtype=tf.float64)\n",
       "<tf.Tensor: shape=(6,), dtype=float64,\n",
       "    numpy=array([1., 2., 3., 4., 5., 6.])>\n",
       "\n",
       "If `shape` is set, the `value` is reshaped to match. Scalars are expanded to\n",
       "fill the `shape`:\n",
       "\n",
       ">>> tf.constant(0, shape=(2, 3))\n",
       "  <tf.Tensor: shape=(2, 3), dtype=int32, numpy=\n",
       "  array([[0, 0, 0],\n",
       "         [0, 0, 0]], dtype=int32)>\n",
       ">>> tf.constant([1, 2, 3, 4, 5, 6], shape=[2, 3])\n",
       "<tf.Tensor: shape=(2, 3), dtype=int32, numpy=\n",
       "  array([[1, 2, 3],\n",
       "         [4, 5, 6]], dtype=int32)>\n",
       "\n",
       "`tf.constant` has no effect if an eager Tensor is passed as the `value`, it\n",
       "even transmits gradients:\n",
       "\n",
       ">>> v = tf.Variable([0.0])\n",
       ">>> with tf.GradientTape() as g:\n",
       "...     loss = tf.constant(v + v)\n",
       ">>> g.gradient(loss, v).numpy()\n",
       "array([2.], dtype=float32)\n",
       "\n",
       "But, since `tf.constant` embeds the value in the `tf.Graph` this fails for\n",
       "symbolic tensors:\n",
       "\n",
       ">>> with tf.compat.v1.Graph().as_default():\n",
       "...   i = tf.compat.v1.placeholder(shape=[None, None], dtype=tf.float32)\n",
       "...   t = tf.constant(i)\n",
       "Traceback (most recent call last):\n",
       "...\n",
       "TypeError: ...\n",
       "\n",
       "`tf.constant` will create tensors on the current device. Inputs which are\n",
       "already tensors maintain their placements unchanged.\n",
       "\n",
       "Related Ops:\n",
       "\n",
       "* `tf.convert_to_tensor` is similar but:\n",
       "  * It has no `shape` argument.\n",
       "  * Symbolic tensors are allowed to pass through.\n",
       "\n",
       "  >>> with tf.compat.v1.Graph().as_default():\n",
       "  ...   i = tf.compat.v1.placeholder(shape=[None, None], dtype=tf.float32)\n",
       "  ...   t = tf.convert_to_tensor(i)\n",
       "\n",
       "* `tf.fill`: differs in a few ways:\n",
       "  *   `tf.constant` supports arbitrary constants, not just uniform scalar\n",
       "      Tensors like `tf.fill`.\n",
       "  *   `tf.fill` creates an Op in the graph that is expanded at runtime, so it\n",
       "      can efficiently represent large tensors.\n",
       "  *   Since `tf.fill` does not embed the value, it can produce dynamically\n",
       "      sized outputs.\n",
       "\n",
       "Args:\n",
       "  value: A constant value (or list) of output type `dtype`.\n",
       "  dtype: The type of the elements of the resulting tensor.\n",
       "  shape: Optional dimensions of resulting tensor.\n",
       "  name: Optional name for the tensor.\n",
       "\n",
       "Returns:\n",
       "  A Constant Tensor.\n",
       "\n",
       "Raises:\n",
       "  TypeError: if shape is incorrectly specified or unsupported.\n",
       "  ValueError: if called on a symbolic tensor.\n",
       "\u001b[0;31mFile:\u001b[0m      ~/.conda/envs/BIGAI/lib/python3.9/site-packages/tensorflow/python/framework/constant_op.py\n",
       "\u001b[0;31mType:\u001b[0m      function\n"
      ]
     },
     "metadata": {},
     "output_type": "display_data"
    }
   ],
   "source": [
    "? tf.constant"
   ]
  },
  {
   "cell_type": "code",
   "execution_count": 4,
   "id": "350472bc",
   "metadata": {},
   "outputs": [
    {
     "data": {
      "text/plain": [
       "0"
      ]
     },
     "execution_count": 4,
     "metadata": {},
     "output_type": "execute_result"
    }
   ],
   "source": [
    "scalar.ndim"
   ]
  },
  {
   "cell_type": "code",
   "execution_count": 5,
   "id": "ec4cf45f",
   "metadata": {},
   "outputs": [],
   "source": [
    "vector = tf.constant([10,10])"
   ]
  },
  {
   "cell_type": "code",
   "execution_count": 6,
   "id": "b47c35e3",
   "metadata": {},
   "outputs": [
    {
     "data": {
      "text/plain": [
       "1"
      ]
     },
     "execution_count": 6,
     "metadata": {},
     "output_type": "execute_result"
    }
   ],
   "source": [
    "vector.ndim"
   ]
  },
  {
   "cell_type": "code",
   "execution_count": 11,
   "id": "db1f2bc2",
   "metadata": {},
   "outputs": [],
   "source": [
    "matrix =tf.constant([[10,7],[8,10]])"
   ]
  },
  {
   "cell_type": "code",
   "execution_count": 12,
   "id": "6781db6d",
   "metadata": {},
   "outputs": [
    {
     "data": {
      "text/plain": [
       "<tf.Tensor: shape=(2, 2), dtype=int32, numpy=\n",
       "array([[10,  7],\n",
       "       [ 8, 10]], dtype=int32)>"
      ]
     },
     "execution_count": 12,
     "metadata": {},
     "output_type": "execute_result"
    }
   ],
   "source": [
    "matrix"
   ]
  },
  {
   "cell_type": "code",
   "execution_count": 13,
   "id": "34e78e1d",
   "metadata": {},
   "outputs": [
    {
     "data": {
      "text/plain": [
       "2"
      ]
     },
     "execution_count": 13,
     "metadata": {},
     "output_type": "execute_result"
    }
   ],
   "source": [
    "matrix.ndim"
   ]
  },
  {
   "cell_type": "code",
   "execution_count": 15,
   "id": "534099f1",
   "metadata": {},
   "outputs": [],
   "source": [
    "matrix_two = tf.constant([[10.,7.],[3.,2.],[8.,9.]],dtype=tf.float16)"
   ]
  },
  {
   "cell_type": "code",
   "execution_count": 16,
   "id": "2460a24e",
   "metadata": {},
   "outputs": [
    {
     "data": {
      "text/plain": [
       "<tf.Tensor: shape=(3, 2), dtype=float16, numpy=\n",
       "array([[10.,  7.],\n",
       "       [ 3.,  2.],\n",
       "       [ 8.,  9.]], dtype=float16)>"
      ]
     },
     "execution_count": 16,
     "metadata": {},
     "output_type": "execute_result"
    }
   ],
   "source": [
    "matrix_two"
   ]
  },
  {
   "cell_type": "code",
   "execution_count": 17,
   "id": "7f4b870b",
   "metadata": {},
   "outputs": [
    {
     "data": {
      "text/plain": [
       "2"
      ]
     },
     "execution_count": 17,
     "metadata": {},
     "output_type": "execute_result"
    }
   ],
   "source": [
    "matrix_two.ndim"
   ]
  },
  {
   "cell_type": "code",
   "execution_count": 18,
   "id": "06852b9f",
   "metadata": {},
   "outputs": [],
   "source": [
    "tensor = tf.constant([[[1, 2, 3],\n",
    "                       [4, 5, 6]],\n",
    "                      [[7, 8, 9],\n",
    "                       [10, 11, 12]],\n",
    "                      [[13, 14, 15],\n",
    "                       [16, 17, 18]]])"
   ]
  },
  {
   "cell_type": "code",
   "execution_count": 19,
   "id": "350789af",
   "metadata": {},
   "outputs": [
    {
     "data": {
      "text/plain": [
       "<tf.Tensor: shape=(3, 2, 3), dtype=int32, numpy=\n",
       "array([[[ 1,  2,  3],\n",
       "        [ 4,  5,  6]],\n",
       "\n",
       "       [[ 7,  8,  9],\n",
       "        [10, 11, 12]],\n",
       "\n",
       "       [[13, 14, 15],\n",
       "        [16, 17, 18]]], dtype=int32)>"
      ]
     },
     "execution_count": 19,
     "metadata": {},
     "output_type": "execute_result"
    }
   ],
   "source": [
    "tensor"
   ]
  },
  {
   "cell_type": "code",
   "execution_count": 20,
   "id": "707fbf42",
   "metadata": {},
   "outputs": [
    {
     "data": {
      "text/plain": [
       "3"
      ]
     },
     "execution_count": 20,
     "metadata": {},
     "output_type": "execute_result"
    }
   ],
   "source": [
    "tensor.ndim"
   ]
  },
  {
   "cell_type": "code",
   "execution_count": 21,
   "id": "083ee924",
   "metadata": {},
   "outputs": [],
   "source": [
    "changable_tensor = tf.Variable([10,7])\n",
    "unchangable_tensor = tf.constant([10,7])"
   ]
  },
  {
   "cell_type": "code",
   "execution_count": 23,
   "id": "fd37deaa",
   "metadata": {},
   "outputs": [
    {
     "data": {
      "text/plain": [
       "(<tf.Variable 'Variable:0' shape=(2,) dtype=int32, numpy=array([10,  7], dtype=int32)>,\n",
       " <tf.Tensor: shape=(2,), dtype=int32, numpy=array([10,  7], dtype=int32)>)"
      ]
     },
     "execution_count": 23,
     "metadata": {},
     "output_type": "execute_result"
    }
   ],
   "source": [
    "changable_tensor, unchangable_tensor"
   ]
  },
  {
   "cell_type": "code",
   "execution_count": 24,
   "id": "b661025e",
   "metadata": {},
   "outputs": [
    {
     "data": {
      "text/plain": [
       "<tf.Variable 'UnreadVariable' shape=(2,) dtype=int32, numpy=array([7, 7], dtype=int32)>"
      ]
     },
     "execution_count": 24,
     "metadata": {},
     "output_type": "execute_result"
    }
   ],
   "source": [
    "changable_tensor[0].assign(7)"
   ]
  },
  {
   "cell_type": "code",
   "execution_count": 27,
   "id": "0e8629d8",
   "metadata": {},
   "outputs": [
    {
     "data": {
      "text/plain": [
       "<tf.Variable 'Variable:0' shape=(2,) dtype=int32, numpy=array([7, 7], dtype=int32)>"
      ]
     },
     "execution_count": 27,
     "metadata": {},
     "output_type": "execute_result"
    }
   ],
   "source": [
    "changable_tensor"
   ]
  },
  {
   "cell_type": "code",
   "execution_count": 30,
   "id": "edc05e24",
   "metadata": {},
   "outputs": [
    {
     "data": {
      "text/plain": [
       "(<tf.Tensor: shape=(3, 2), dtype=float32, numpy=\n",
       " array([[-0.7565803 , -0.06854702],\n",
       "        [ 0.07595026, -1.2573844 ],\n",
       "        [-0.23193763, -1.8107855 ]], dtype=float32)>,\n",
       " <tf.Tensor: shape=(3, 2), dtype=float32, numpy=\n",
       " array([[-0.7565803 , -0.06854702],\n",
       "        [ 0.07595026, -1.2573844 ],\n",
       "        [-0.23193763, -1.8107855 ]], dtype=float32)>,\n",
       " <tf.Tensor: shape=(3, 2), dtype=bool, numpy=\n",
       " array([[ True,  True],\n",
       "        [ True,  True],\n",
       "        [ True,  True]])>)"
      ]
     },
     "execution_count": 30,
     "metadata": {},
     "output_type": "execute_result"
    }
   ],
   "source": [
    "random_1 = tf.random.Generator.from_seed(42)\n",
    "random_1 = random_1.normal(shape=(3,2))\n",
    "random_2 = tf.random.Generator.from_seed(42)\n",
    "random_2 = random_2.normal(shape=(3,2))\n",
    "\n",
    "random_1, random_2, random_1==random_2\n"
   ]
  },
  {
   "cell_type": "code",
   "execution_count": 38,
   "id": "c4f9581f",
   "metadata": {},
   "outputs": [
    {
     "data": {
      "text/plain": [
       "<tf.Tensor: shape=(3, 2), dtype=int32, numpy=\n",
       "array([[10,  7],\n",
       "       [ 3,  4],\n",
       "       [ 2,  5]], dtype=int32)>"
      ]
     },
     "execution_count": 38,
     "metadata": {},
     "output_type": "execute_result"
    }
   ],
   "source": [
    "not_shuffled = tf.constant([[10, 7],\n",
    "                            [3, 4],\n",
    "                            [2, 5]])\n",
    "not_shuffled"
   ]
  },
  {
   "cell_type": "code",
   "execution_count": 34,
   "id": "68b2d4bd",
   "metadata": {},
   "outputs": [
    {
     "data": {
      "text/plain": [
       "<tf.Tensor: shape=(3, 2), dtype=int32, numpy=\n",
       "array([[ 2,  5],\n",
       "       [10,  7],\n",
       "       [ 3,  4]], dtype=int32)>"
      ]
     },
     "execution_count": 34,
     "metadata": {},
     "output_type": "execute_result"
    }
   ],
   "source": [
    "tf.random.shuffle(not_shuffled)"
   ]
  },
  {
   "cell_type": "code",
   "execution_count": 39,
   "id": "ad8e67db",
   "metadata": {},
   "outputs": [
    {
     "data": {
      "text/plain": [
       "<tf.Tensor: shape=(3, 2), dtype=int32, numpy=\n",
       "array([[10,  7],\n",
       "       [ 3,  4],\n",
       "       [ 2,  5]], dtype=int32)>"
      ]
     },
     "execution_count": 39,
     "metadata": {},
     "output_type": "execute_result"
    }
   ],
   "source": [
    "tf.random.set_seed(42)\n",
    "tf.random.shuffle(not_shuffled)\n",
    "not_shuffled"
   ]
  },
  {
   "cell_type": "code",
   "execution_count": 41,
   "id": "0a6054a3",
   "metadata": {},
   "outputs": [
    {
     "data": {
      "text/plain": [
       "<tf.Tensor: shape=(10, 7), dtype=float32, numpy=\n",
       "array([[1., 1., 1., 1., 1., 1., 1.],\n",
       "       [1., 1., 1., 1., 1., 1., 1.],\n",
       "       [1., 1., 1., 1., 1., 1., 1.],\n",
       "       [1., 1., 1., 1., 1., 1., 1.],\n",
       "       [1., 1., 1., 1., 1., 1., 1.],\n",
       "       [1., 1., 1., 1., 1., 1., 1.],\n",
       "       [1., 1., 1., 1., 1., 1., 1.],\n",
       "       [1., 1., 1., 1., 1., 1., 1.],\n",
       "       [1., 1., 1., 1., 1., 1., 1.],\n",
       "       [1., 1., 1., 1., 1., 1., 1.]], dtype=float32)>"
      ]
     },
     "execution_count": 41,
     "metadata": {},
     "output_type": "execute_result"
    }
   ],
   "source": [
    "tf.ones([10,7])"
   ]
  },
  {
   "cell_type": "code",
   "execution_count": 42,
   "id": "e2042da7",
   "metadata": {},
   "outputs": [
    {
     "data": {
      "text/plain": [
       "<tf.Tensor: shape=(3, 2), dtype=float32, numpy=\n",
       "array([[0., 0.],\n",
       "       [0., 0.],\n",
       "       [0., 0.]], dtype=float32)>"
      ]
     },
     "execution_count": 42,
     "metadata": {},
     "output_type": "execute_result"
    }
   ],
   "source": [
    "tf.zeros(shape=(3,2))"
   ]
  },
  {
   "cell_type": "code",
   "execution_count": 50,
   "id": "1017c588",
   "metadata": {},
   "outputs": [],
   "source": [
    "import numpy as np\n",
    "numpy_A = np.arange(1,25,dtype=np.int32)\n",
    "tf_A = tf.constant(numpy_A,shape=[4,2,3])"
   ]
  },
  {
   "cell_type": "code",
   "execution_count": 51,
   "id": "f4ab2ed6",
   "metadata": {},
   "outputs": [
    {
     "data": {
      "text/plain": [
       "<tf.Tensor: shape=(4, 2, 3), dtype=int32, numpy=\n",
       "array([[[ 1,  2,  3],\n",
       "        [ 4,  5,  6]],\n",
       "\n",
       "       [[ 7,  8,  9],\n",
       "        [10, 11, 12]],\n",
       "\n",
       "       [[13, 14, 15],\n",
       "        [16, 17, 18]],\n",
       "\n",
       "       [[19, 20, 21],\n",
       "        [22, 23, 24]]], dtype=int32)>"
      ]
     },
     "execution_count": 51,
     "metadata": {},
     "output_type": "execute_result"
    }
   ],
   "source": [
    "tf_A"
   ]
  },
  {
   "cell_type": "code",
   "execution_count": 52,
   "id": "46983261",
   "metadata": {},
   "outputs": [
    {
     "data": {
      "text/plain": [
       "array([ 1,  2,  3,  4,  5,  6,  7,  8,  9, 10, 11, 12, 13, 14, 15, 16, 17,\n",
       "       18, 19, 20, 21, 22, 23, 24], dtype=int32)"
      ]
     },
     "execution_count": 52,
     "metadata": {},
     "output_type": "execute_result"
    }
   ],
   "source": [
    "numpy_A"
   ]
  },
  {
   "cell_type": "code",
   "execution_count": 53,
   "id": "219d80bc",
   "metadata": {},
   "outputs": [
    {
     "data": {
      "text/plain": [
       "3"
      ]
     },
     "execution_count": 53,
     "metadata": {},
     "output_type": "execute_result"
    }
   ],
   "source": [
    "tf_A.ndim"
   ]
  },
  {
   "cell_type": "code",
   "execution_count": null,
   "id": "cec4b2fb",
   "metadata": {},
   "outputs": [],
   "source": []
  }
 ],
 "metadata": {
  "kernelspec": {
   "display_name": "Python 3",
   "language": "python",
   "name": "python3"
  },
  "language_info": {
   "codemirror_mode": {
    "name": "ipython",
    "version": 3
   },
   "file_extension": ".py",
   "mimetype": "text/x-python",
   "name": "python",
   "nbconvert_exporter": "python",
   "pygments_lexer": "ipython3",
   "version": "3.9.13"
  }
 },
 "nbformat": 4,
 "nbformat_minor": 5
}
