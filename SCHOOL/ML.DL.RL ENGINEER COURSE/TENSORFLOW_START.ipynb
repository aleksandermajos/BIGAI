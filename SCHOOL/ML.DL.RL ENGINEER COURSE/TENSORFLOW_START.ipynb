{
 "cells": [
  {
   "cell_type": "code",
   "execution_count": 1,
   "id": "c38f96a8",
   "metadata": {},
   "outputs": [
    {
     "name": "stdout",
     "output_type": "stream",
     "text": [
      "2.11.0\n"
     ]
    }
   ],
   "source": [
    "import tensorflow as tf\n",
    "print(tf.__version__)"
   ]
  },
  {
   "cell_type": "code",
   "execution_count": 2,
   "id": "118f193d",
   "metadata": {},
   "outputs": [
    {
     "data": {
      "text/plain": [
       "<tf.Tensor: shape=(), dtype=int32, numpy=7>"
      ]
     },
     "execution_count": 2,
     "metadata": {},
     "output_type": "execute_result"
    }
   ],
   "source": [
    "scalar = tf.constant(7)\n",
    "scalar"
   ]
  },
  {
   "cell_type": "code",
   "execution_count": 3,
   "id": "9e1b0d81",
   "metadata": {},
   "outputs": [
    {
     "data": {
      "text/plain": [
       "\u001b[0;31mSignature:\u001b[0m  \u001b[0mtf\u001b[0m\u001b[0;34m.\u001b[0m\u001b[0mconstant\u001b[0m\u001b[0;34m(\u001b[0m\u001b[0mvalue\u001b[0m\u001b[0;34m,\u001b[0m \u001b[0mdtype\u001b[0m\u001b[0;34m=\u001b[0m\u001b[0;32mNone\u001b[0m\u001b[0;34m,\u001b[0m \u001b[0mshape\u001b[0m\u001b[0;34m=\u001b[0m\u001b[0;32mNone\u001b[0m\u001b[0;34m,\u001b[0m \u001b[0mname\u001b[0m\u001b[0;34m=\u001b[0m\u001b[0;34m'Const'\u001b[0m\u001b[0;34m)\u001b[0m\u001b[0;34m\u001b[0m\u001b[0;34m\u001b[0m\u001b[0m\n",
       "\u001b[0;31mDocstring:\u001b[0m\n",
       "Creates a constant tensor from a tensor-like object.\n",
       "\n",
       "Note: All eager `tf.Tensor` values are immutable (in contrast to\n",
       "`tf.Variable`). There is nothing especially _constant_ about the value\n",
       "returned from `tf.constant`. This function is not fundamentally different from\n",
       "`tf.convert_to_tensor`. The name `tf.constant` comes from the `value` being\n",
       "embedded in a `Const` node in the `tf.Graph`. `tf.constant` is useful\n",
       "for asserting that the value can be embedded that way.\n",
       "\n",
       "If the argument `dtype` is not specified, then the type is inferred from\n",
       "the type of `value`.\n",
       "\n",
       ">>> # Constant 1-D Tensor from a python list.\n",
       ">>> tf.constant([1, 2, 3, 4, 5, 6])\n",
       "<tf.Tensor: shape=(6,), dtype=int32,\n",
       "    numpy=array([1, 2, 3, 4, 5, 6], dtype=int32)>\n",
       ">>> # Or a numpy array\n",
       ">>> a = np.array([[1, 2, 3], [4, 5, 6]])\n",
       ">>> tf.constant(a)\n",
       "<tf.Tensor: shape=(2, 3), dtype=int64, numpy=\n",
       "  array([[1, 2, 3],\n",
       "         [4, 5, 6]])>\n",
       "\n",
       "If `dtype` is specified, the resulting tensor values are cast to the requested\n",
       "`dtype`.\n",
       "\n",
       ">>> tf.constant([1, 2, 3, 4, 5, 6], dtype=tf.float64)\n",
       "<tf.Tensor: shape=(6,), dtype=float64,\n",
       "    numpy=array([1., 2., 3., 4., 5., 6.])>\n",
       "\n",
       "If `shape` is set, the `value` is reshaped to match. Scalars are expanded to\n",
       "fill the `shape`:\n",
       "\n",
       ">>> tf.constant(0, shape=(2, 3))\n",
       "  <tf.Tensor: shape=(2, 3), dtype=int32, numpy=\n",
       "  array([[0, 0, 0],\n",
       "         [0, 0, 0]], dtype=int32)>\n",
       ">>> tf.constant([1, 2, 3, 4, 5, 6], shape=[2, 3])\n",
       "<tf.Tensor: shape=(2, 3), dtype=int32, numpy=\n",
       "  array([[1, 2, 3],\n",
       "         [4, 5, 6]], dtype=int32)>\n",
       "\n",
       "`tf.constant` has no effect if an eager Tensor is passed as the `value`, it\n",
       "even transmits gradients:\n",
       "\n",
       ">>> v = tf.Variable([0.0])\n",
       ">>> with tf.GradientTape() as g:\n",
       "...     loss = tf.constant(v + v)\n",
       ">>> g.gradient(loss, v).numpy()\n",
       "array([2.], dtype=float32)\n",
       "\n",
       "But, since `tf.constant` embeds the value in the `tf.Graph` this fails for\n",
       "symbolic tensors:\n",
       "\n",
       ">>> with tf.compat.v1.Graph().as_default():\n",
       "...   i = tf.compat.v1.placeholder(shape=[None, None], dtype=tf.float32)\n",
       "...   t = tf.constant(i)\n",
       "Traceback (most recent call last):\n",
       "...\n",
       "TypeError: ...\n",
       "\n",
       "`tf.constant` will create tensors on the current device. Inputs which are\n",
       "already tensors maintain their placements unchanged.\n",
       "\n",
       "Related Ops:\n",
       "\n",
       "* `tf.convert_to_tensor` is similar but:\n",
       "  * It has no `shape` argument.\n",
       "  * Symbolic tensors are allowed to pass through.\n",
       "\n",
       "  >>> with tf.compat.v1.Graph().as_default():\n",
       "  ...   i = tf.compat.v1.placeholder(shape=[None, None], dtype=tf.float32)\n",
       "  ...   t = tf.convert_to_tensor(i)\n",
       "\n",
       "* `tf.fill`: differs in a few ways:\n",
       "  *   `tf.constant` supports arbitrary constants, not just uniform scalar\n",
       "      Tensors like `tf.fill`.\n",
       "  *   `tf.fill` creates an Op in the graph that is expanded at runtime, so it\n",
       "      can efficiently represent large tensors.\n",
       "  *   Since `tf.fill` does not embed the value, it can produce dynamically\n",
       "      sized outputs.\n",
       "\n",
       "Args:\n",
       "  value: A constant value (or list) of output type `dtype`.\n",
       "  dtype: The type of the elements of the resulting tensor.\n",
       "  shape: Optional dimensions of resulting tensor.\n",
       "  name: Optional name for the tensor.\n",
       "\n",
       "Returns:\n",
       "  A Constant Tensor.\n",
       "\n",
       "Raises:\n",
       "  TypeError: if shape is incorrectly specified or unsupported.\n",
       "  ValueError: if called on a symbolic tensor.\n",
       "\u001b[0;31mFile:\u001b[0m      ~/.conda/envs/BIGAI/lib/python3.9/site-packages/tensorflow/python/framework/constant_op.py\n",
       "\u001b[0;31mType:\u001b[0m      function\n"
      ]
     },
     "metadata": {},
     "output_type": "display_data"
    }
   ],
   "source": [
    "? tf.constant"
   ]
  },
  {
   "cell_type": "code",
   "execution_count": 4,
   "id": "b568c601",
   "metadata": {},
   "outputs": [
    {
     "data": {
      "text/plain": [
       "0"
      ]
     },
     "execution_count": 4,
     "metadata": {},
     "output_type": "execute_result"
    }
   ],
   "source": [
    "scalar.ndim"
   ]
  },
  {
   "cell_type": "code",
   "execution_count": 5,
   "id": "d6476084",
   "metadata": {},
   "outputs": [],
   "source": [
    "vector = tf.constant([10,10])"
   ]
  },
  {
   "cell_type": "code",
   "execution_count": 6,
   "id": "69b685dd",
   "metadata": {},
   "outputs": [
    {
     "data": {
      "text/plain": [
       "1"
      ]
     },
     "execution_count": 6,
     "metadata": {},
     "output_type": "execute_result"
    }
   ],
   "source": [
    "vector.ndim"
   ]
  },
  {
   "cell_type": "code",
   "execution_count": 11,
   "id": "46cf13c3",
   "metadata": {},
   "outputs": [],
   "source": [
    "matrix =tf.constant([[10,7],[8,10]])"
   ]
  },
  {
   "cell_type": "code",
   "execution_count": 12,
   "id": "2c04c8c8",
   "metadata": {},
   "outputs": [
    {
     "data": {
      "text/plain": [
       "<tf.Tensor: shape=(2, 2), dtype=int32, numpy=\n",
       "array([[10,  7],\n",
       "       [ 8, 10]], dtype=int32)>"
      ]
     },
     "execution_count": 12,
     "metadata": {},
     "output_type": "execute_result"
    }
   ],
   "source": [
    "matrix"
   ]
  },
  {
   "cell_type": "code",
   "execution_count": 13,
   "id": "e6da5feb",
   "metadata": {},
   "outputs": [
    {
     "data": {
      "text/plain": [
       "2"
      ]
     },
     "execution_count": 13,
     "metadata": {},
     "output_type": "execute_result"
    }
   ],
   "source": [
    "matrix.ndim"
   ]
  },
  {
   "cell_type": "code",
   "execution_count": 15,
   "id": "dc834df6",
   "metadata": {},
   "outputs": [],
   "source": [
    "matrix_two = tf.constant([[10.,7.],[3.,2.],[8.,9.]],dtype=tf.float16)"
   ]
  },
  {
   "cell_type": "code",
   "execution_count": 16,
   "id": "5471ddc3",
   "metadata": {},
   "outputs": [
    {
     "data": {
      "text/plain": [
       "<tf.Tensor: shape=(3, 2), dtype=float16, numpy=\n",
       "array([[10.,  7.],\n",
       "       [ 3.,  2.],\n",
       "       [ 8.,  9.]], dtype=float16)>"
      ]
     },
     "execution_count": 16,
     "metadata": {},
     "output_type": "execute_result"
    }
   ],
   "source": [
    "matrix_two"
   ]
  },
  {
   "cell_type": "code",
   "execution_count": 17,
   "id": "de66ac81",
   "metadata": {},
   "outputs": [
    {
     "data": {
      "text/plain": [
       "2"
      ]
     },
     "execution_count": 17,
     "metadata": {},
     "output_type": "execute_result"
    }
   ],
   "source": [
    "matrix_two.ndim"
   ]
  },
  {
   "cell_type": "code",
   "execution_count": 18,
   "id": "861eb74e",
   "metadata": {},
   "outputs": [],
   "source": [
    "tensor = tf.constant([[[1, 2, 3],\n",
    "                       [4, 5, 6]],\n",
    "                      [[7, 8, 9],\n",
    "                       [10, 11, 12]],\n",
    "                      [[13, 14, 15],\n",
    "                       [16, 17, 18]]])"
   ]
  },
  {
   "cell_type": "code",
   "execution_count": 19,
   "id": "47976c66",
   "metadata": {},
   "outputs": [
    {
     "data": {
      "text/plain": [
       "<tf.Tensor: shape=(3, 2, 3), dtype=int32, numpy=\n",
       "array([[[ 1,  2,  3],\n",
       "        [ 4,  5,  6]],\n",
       "\n",
       "       [[ 7,  8,  9],\n",
       "        [10, 11, 12]],\n",
       "\n",
       "       [[13, 14, 15],\n",
       "        [16, 17, 18]]], dtype=int32)>"
      ]
     },
     "execution_count": 19,
     "metadata": {},
     "output_type": "execute_result"
    }
   ],
   "source": [
    "tensor"
   ]
  },
  {
   "cell_type": "code",
   "execution_count": 20,
   "id": "0c26dc05",
   "metadata": {},
   "outputs": [
    {
     "data": {
      "text/plain": [
       "3"
      ]
     },
     "execution_count": 20,
     "metadata": {},
     "output_type": "execute_result"
    }
   ],
   "source": [
    "tensor.ndim"
   ]
  },
  {
   "cell_type": "code",
   "execution_count": null,
   "id": "7d9bf7a3",
   "metadata": {},
   "outputs": [],
   "source": []
  }
 ],
 "metadata": {
  "kernelspec": {
   "display_name": "Python 3",
   "language": "python",
   "name": "python3"
  },
  "language_info": {
   "codemirror_mode": {
    "name": "ipython",
    "version": 3
   },
   "file_extension": ".py",
   "mimetype": "text/x-python",
   "name": "python",
   "nbconvert_exporter": "python",
   "pygments_lexer": "ipython3",
   "version": "3.9.13"
  }
 },
 "nbformat": 4,
 "nbformat_minor": 5
}
