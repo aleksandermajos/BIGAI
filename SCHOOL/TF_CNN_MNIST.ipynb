{
 "cells": [
  {
   "cell_type": "code",
   "execution_count": 1,
   "id": "eb14bda8",
   "metadata": {},
   "outputs": [
    {
     "name": "stdout",
     "output_type": "stream",
     "text": [
      "[PhysicalDevice(name='/physical_device:CPU:0', device_type='CPU'), PhysicalDevice(name='/physical_device:GPU:0', device_type='GPU')]\n"
     ]
    }
   ],
   "source": [
    "import tensorflow as tf\n",
    "devices = tf.config.list_physical_devices()\n",
    "print(devices)"
   ]
  },
  {
   "cell_type": "code",
   "execution_count": 2,
   "id": "59503d09",
   "metadata": {},
   "outputs": [],
   "source": [
    "import tensorflow as tf\n",
    "from tensorflow.keras import datasets, layers, models, optimizers\n"
   ]
  },
  {
   "cell_type": "code",
   "execution_count": 22,
   "id": "4d7e689f-dd62-4743-96d0-76680220e792",
   "metadata": {},
   "outputs": [],
   "source": [
    "EPOCHS = 18\n",
    "BATCH_SIZE = 128\n",
    "VERBOSE = 1\n",
    "OPTIMIZER = tf.keras.optimizers.Adam()\n",
    "VALIDATION_SPLIT=0.90\n",
    "IMG_ROWS, IMG_COLS = 28, 28 # input image dimensions\n",
    "INPUT_SHAPE = (IMG_ROWS, IMG_COLS, 1)\n",
    "NB_CLASSES = 10"
   ]
  },
  {
   "cell_type": "code",
   "execution_count": 23,
   "id": "cfb678e7-a418-43cb-aa6c-0798c9bbe503",
   "metadata": {},
   "outputs": [],
   "source": [
    "def build(input_shape, classes):\n",
    "    \n",
    "    model = models.Sequential()\n",
    "    model.add(layers.Convolution2D(20, (5,5), activation='relu',\n",
    "                                   input_shape=input_shape))\n",
    "    model.add(layers.MaxPooling2D(pool_size=(2,2), strides=(2,2)))\n",
    "    model.add(layers.Convolution2D(50, (5,5), activation='relu',\n",
    "                                   input_shape=input_shape))\n",
    "    model.add(layers.MaxPooling2D(pool_size=(2,2), strides=(2,2)))\n",
    "    model.add(layers.Flatten())\n",
    "    model.add(layers.Dense(500, activation = 'relu'))\n",
    "    model.add(layers.Dense(classes, activation='softmax'))\n",
    "    \n",
    "    return model"
   ]
  },
  {
   "cell_type": "code",
   "execution_count": 24,
   "id": "5262c7bd-ec92-4bfe-aa95-12777b18cc36",
   "metadata": {},
   "outputs": [],
   "source": [
    "(X_train, y_train), (X_test, y_test) = datasets.mnist.load_data()"
   ]
  },
  {
   "cell_type": "code",
   "execution_count": 25,
   "id": "6fff8358-8d1e-4a73-a6a5-9ca282a7cea7",
   "metadata": {},
   "outputs": [],
   "source": [
    "X_train = X_train.reshape((60000, 28, 28, 1))\n",
    "X_test = X_test.reshape((10000, 28, 28, 1))\n",
    "# normalize\n",
    "X_train, X_test = X_train / 255.0, X_test / 255.0\n",
    "# cast\n",
    "X_train = X_train.astype('float32')\n",
    "X_test = X_test.astype('float32')\n",
    "# convert class vectors to binary class matrices\n",
    "y_train = tf.keras.utils.to_categorical(y_train, NB_CLASSES)\n",
    "y_test = tf.keras.utils.to_categorical(y_test, NB_CLASSES)\n",
    "# initialize the optimizer and model"
   ]
  },
  {
   "cell_type": "code",
   "execution_count": 26,
   "id": "7c342aaf-8f07-46b6-9339-0e2457dd07f6",
   "metadata": {},
   "outputs": [
    {
     "name": "stdout",
     "output_type": "stream",
     "text": [
      "Model: \"sequential_1\"\n",
      "_________________________________________________________________\n",
      " Layer (type)                Output Shape              Param #   \n",
      "=================================================================\n",
      " conv2d_2 (Conv2D)           (None, 24, 24, 20)        520       \n",
      "                                                                 \n",
      " max_pooling2d_2 (MaxPooling  (None, 12, 12, 20)       0         \n",
      " 2D)                                                             \n",
      "                                                                 \n",
      " conv2d_3 (Conv2D)           (None, 8, 8, 50)          25050     \n",
      "                                                                 \n",
      " max_pooling2d_3 (MaxPooling  (None, 4, 4, 50)         0         \n",
      " 2D)                                                             \n",
      "                                                                 \n",
      " flatten_1 (Flatten)         (None, 800)               0         \n",
      "                                                                 \n",
      " dense_2 (Dense)             (None, 500)               400500    \n",
      "                                                                 \n",
      " dense_3 (Dense)             (None, 10)                5010      \n",
      "                                                                 \n",
      "=================================================================\n",
      "Total params: 431,080\n",
      "Trainable params: 431,080\n",
      "Non-trainable params: 0\n",
      "_________________________________________________________________\n"
     ]
    }
   ],
   "source": [
    "model = build(input_shape=INPUT_SHAPE, classes=NB_CLASSES)\n",
    "model.compile(loss=\"categorical_crossentropy\", optimizer=OPTIMIZER,\n",
    "    metrics=[\"accuracy\"])\n",
    "model.summary()"
   ]
  },
  {
   "cell_type": "code",
   "execution_count": 27,
   "id": "bc205740-b964-43d9-bdc6-41dac391dcc2",
   "metadata": {},
   "outputs": [],
   "source": [
    "callbacks = [tf.keras.callbacks.TensorBoard(log_dir='./logs/fit')]"
   ]
  },
  {
   "cell_type": "code",
   "execution_count": 28,
   "id": "6f363765-6e89-44d8-80bf-00e177350bd3",
   "metadata": {},
   "outputs": [
    {
     "name": "stdout",
     "output_type": "stream",
     "text": [
      "Epoch 1/18\n",
      "47/47 [==============================] - 2s 35ms/step - loss: 0.8002 - accuracy: 0.7840 - val_loss: 0.2951 - val_accuracy: 0.9102\n",
      "Epoch 2/18\n",
      "47/47 [==============================] - 1s 27ms/step - loss: 0.1924 - accuracy: 0.9433 - val_loss: 0.1874 - val_accuracy: 0.9443\n",
      "Epoch 3/18\n",
      "47/47 [==============================] - 1s 28ms/step - loss: 0.1256 - accuracy: 0.9642 - val_loss: 0.1252 - val_accuracy: 0.9609\n",
      "Epoch 4/18\n",
      "47/47 [==============================] - 1s 28ms/step - loss: 0.0896 - accuracy: 0.9727 - val_loss: 0.1299 - val_accuracy: 0.9605\n",
      "Epoch 5/18\n",
      "47/47 [==============================] - 1s 29ms/step - loss: 0.0680 - accuracy: 0.9800 - val_loss: 0.1096 - val_accuracy: 0.9651\n",
      "Epoch 6/18\n",
      "47/47 [==============================] - 1s 29ms/step - loss: 0.0518 - accuracy: 0.9848 - val_loss: 0.1099 - val_accuracy: 0.9660\n",
      "Epoch 7/18\n",
      "47/47 [==============================] - 1s 28ms/step - loss: 0.0362 - accuracy: 0.9897 - val_loss: 0.0952 - val_accuracy: 0.9704\n",
      "Epoch 8/18\n",
      "47/47 [==============================] - 1s 27ms/step - loss: 0.0238 - accuracy: 0.9943 - val_loss: 0.0939 - val_accuracy: 0.9719\n",
      "Epoch 9/18\n",
      "47/47 [==============================] - 1s 29ms/step - loss: 0.0188 - accuracy: 0.9945 - val_loss: 0.0945 - val_accuracy: 0.9720\n",
      "Epoch 10/18\n",
      "47/47 [==============================] - 1s 28ms/step - loss: 0.0136 - accuracy: 0.9958 - val_loss: 0.0912 - val_accuracy: 0.9737\n",
      "Epoch 11/18\n",
      "47/47 [==============================] - 1s 28ms/step - loss: 0.0102 - accuracy: 0.9973 - val_loss: 0.0968 - val_accuracy: 0.9739\n",
      "Epoch 12/18\n",
      "47/47 [==============================] - 1s 28ms/step - loss: 0.0076 - accuracy: 0.9988 - val_loss: 0.0938 - val_accuracy: 0.9744\n",
      "Epoch 13/18\n",
      "47/47 [==============================] - 1s 29ms/step - loss: 0.0051 - accuracy: 0.9988 - val_loss: 0.1007 - val_accuracy: 0.9736\n",
      "Epoch 14/18\n",
      "47/47 [==============================] - 1s 27ms/step - loss: 0.0077 - accuracy: 0.9978 - val_loss: 0.0988 - val_accuracy: 0.9747\n",
      "Epoch 15/18\n",
      "47/47 [==============================] - 1s 28ms/step - loss: 0.0055 - accuracy: 0.9987 - val_loss: 0.0934 - val_accuracy: 0.9754\n",
      "Epoch 16/18\n",
      "47/47 [==============================] - 1s 29ms/step - loss: 0.0035 - accuracy: 0.9995 - val_loss: 0.0978 - val_accuracy: 0.9756\n",
      "Epoch 17/18\n",
      "47/47 [==============================] - 1s 28ms/step - loss: 0.0012 - accuracy: 1.0000 - val_loss: 0.0939 - val_accuracy: 0.9770\n",
      "Epoch 18/18\n",
      "47/47 [==============================] - 1s 28ms/step - loss: 6.7686e-04 - accuracy: 1.0000 - val_loss: 0.0975 - val_accuracy: 0.9768\n",
      "313/313 [==============================] - 1s 3ms/step - loss: 0.0710 - accuracy: 0.9824\n",
      "\n",
      "Test score: 0.07100605964660645\n",
      "Test accuracy: 0.9824000000953674\n"
     ]
    }
   ],
   "source": [
    "history = model.fit(X_train, y_train,batch_size=BATCH_SIZE, epochs=EPOCHS,verbose=VERBOSE,validation_split=VALIDATION_SPLIT,callbacks=callbacks)\n",
    "score = model.evaluate(X_test, y_test, verbose=VERBOSE)\n",
    "print('\\nTest score:', score[0])\n",
    "print('Test accuracy:', score[1])"
   ]
  },
  {
   "cell_type": "code",
   "execution_count": 29,
   "id": "f44ea64f-d513-4e24-b618-f8367956cfcf",
   "metadata": {},
   "outputs": [
    {
     "name": "stdout",
     "output_type": "stream",
     "text": [
      "The tensorboard extension is already loaded. To reload it, use:\n",
      "  %reload_ext tensorboard\n"
     ]
    }
   ],
   "source": [
    "%load_ext tensorboard"
   ]
  },
  {
   "cell_type": "code",
   "execution_count": 30,
   "id": "baae48bf-3d81-42a3-a265-e1aedbe3c807",
   "metadata": {},
   "outputs": [
    {
     "data": {
      "text/plain": [
       "Reusing TensorBoard on port 6006 (pid 4596), started 0:18:09 ago. (Use '!kill 4596' to kill it.)"
      ]
     },
     "metadata": {},
     "output_type": "display_data"
    },
    {
     "data": {
      "text/html": [
       "\n",
       "      <iframe id=\"tensorboard-frame-3f8fe7a8e51a24ec\" width=\"100%\" height=\"800\" frameborder=\"0\">\n",
       "      </iframe>\n",
       "      <script>\n",
       "        (function() {\n",
       "          const frame = document.getElementById(\"tensorboard-frame-3f8fe7a8e51a24ec\");\n",
       "          const url = new URL(\"/\", window.location);\n",
       "          const port = 6006;\n",
       "          if (port) {\n",
       "            url.port = port;\n",
       "          }\n",
       "          frame.src = url;\n",
       "        })();\n",
       "      </script>\n",
       "    "
      ],
      "text/plain": [
       "<IPython.core.display.HTML object>"
      ]
     },
     "metadata": {},
     "output_type": "display_data"
    }
   ],
   "source": [
    "%tensorboard --logdir logs/fit"
   ]
  },
  {
   "cell_type": "code",
   "execution_count": null,
   "id": "15e51321-8ef0-4719-8db6-0ab55e1343c7",
   "metadata": {},
   "outputs": [],
   "source": []
  }
 ],
 "metadata": {
  "kernelspec": {
   "display_name": "Python 3 (ipykernel)",
   "language": "python",
   "name": "python3"
  },
  "language_info": {
   "codemirror_mode": {
    "name": "ipython",
    "version": 3
   },
   "file_extension": ".py",
   "mimetype": "text/x-python",
   "name": "python",
   "nbconvert_exporter": "python",
   "pygments_lexer": "ipython3",
   "version": "3.11.7"
  }
 },
 "nbformat": 4,
 "nbformat_minor": 5
}
