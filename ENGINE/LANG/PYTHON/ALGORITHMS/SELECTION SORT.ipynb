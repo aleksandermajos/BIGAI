{
 "cells": [
  {
   "cell_type": "code",
   "execution_count": 1,
   "id": "95527de7-b417-4486-a652-aff992c45cd0",
   "metadata": {},
   "outputs": [],
   "source": [
    "def findSmallest(arr):\n",
    "    smallest = arr[0]\n",
    "    smallest_index = 0\n",
    "    for i in range(1, len(arr)):\n",
    "        if arr[i] < smallest:\n",
    "            smallest_index = i\n",
    "            smallest = arr[i]\n",
    "    return smallest_index"
   ]
  },
  {
   "cell_type": "code",
   "execution_count": 2,
   "id": "a2a9ab00-95a8-488f-8a00-f63873c7bc32",
   "metadata": {},
   "outputs": [],
   "source": [
    "def selectionSort(arr):\n",
    "    newArr = []\n",
    "    for i in range(len(arr)):\n",
    "        smallest = findSmallest(arr)\n",
    "        newArr.append(arr.pop(smallest))\n",
    "    return newArr\n",
    "    "
   ]
  },
  {
   "cell_type": "code",
   "execution_count": 4,
   "id": "57b9aa98-45c4-43eb-a1ea-95e1888981c1",
   "metadata": {},
   "outputs": [
    {
     "name": "stdout",
     "output_type": "stream",
     "text": [
      "[2, 3, 5, 6, 10]\n"
     ]
    }
   ],
   "source": [
    "print(selectionSort([5,3,6,2,10]))"
   ]
  },
  {
   "cell_type": "code",
   "execution_count": null,
   "id": "64adc7d2-b072-4046-9e37-7a94a8296c44",
   "metadata": {},
   "outputs": [],
   "source": []
  }
 ],
 "metadata": {
  "kernelspec": {
   "display_name": "Python 3 (ipykernel)",
   "language": "python",
   "name": "python3"
  },
  "language_info": {
   "codemirror_mode": {
    "name": "ipython",
    "version": 3
   },
   "file_extension": ".py",
   "mimetype": "text/x-python",
   "name": "python",
   "nbconvert_exporter": "python",
   "pygments_lexer": "ipython3",
   "version": "3.9.7"
  }
 },
 "nbformat": 4,
 "nbformat_minor": 5
}
