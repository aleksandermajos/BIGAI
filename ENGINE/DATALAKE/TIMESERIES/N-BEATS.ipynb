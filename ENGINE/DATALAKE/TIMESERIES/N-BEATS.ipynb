{
 "cells": [
  {
   "cell_type": "code",
   "execution_count": 1,
   "id": "useful-archives",
   "metadata": {},
   "outputs": [],
   "source": [
    "from Oanda_Data import OandaData\n",
    "from ENGINE.DATALAKE.TIMESERIES.OHLC_Manipulate import OHLC_DF_to_REGRESSION_C, OHLC_DF_to_CLASSIFICATION_C\n",
    "from ENGINE.DATALAKE.TIMESERIES.Data_to_PytorchForecasting import DF_to_TSDataSet\n",
    "import pandas as pd\n",
    "import pytorch_lightning as pl\n",
    "from pytorch_lightning.callbacks import EarlyStopping\n",
    "import torch\n",
    "\n",
    "from pytorch_forecasting import Baseline, NBeats, TimeSeriesDataSet\n",
    "from pytorch_forecasting.data import NaNLabelEncoder\n",
    "from pytorch_forecasting.data.examples import generate_ar_data\n",
    "from pytorch_forecasting.metrics import SMAPE"
   ]
  },
  {
   "cell_type": "code",
   "execution_count": 2,
   "id": "logical-diana",
   "metadata": {},
   "outputs": [],
   "source": [
    "OD = OandaData()\n",
    "data = OD.GetData(\"2020-01-01T00:00:00Z\", \"2021-04-21T00:00:00Z\", \"EUR_USD\", \"M15\", \"DF\")\n",
    "df = OHLC_DF_to_REGRESSION_C(data)\n",
    "training, train_dataloader, val_dataloader = DF_to_TSDataSet(df,max_encoder_length=60,max_prediction_length=1)\n",
    "actuals = torch.cat([y[0] for x, y in iter(val_dataloader)])"
   ]
  },
  {
   "cell_type": "code",
   "execution_count": 3,
   "id": "ethical-wellington",
   "metadata": {},
   "outputs": [
    {
     "name": "stdout",
     "output_type": "stream",
     "text": [
      "tensor(0.0002)\n"
     ]
    }
   ],
   "source": [
    "baseline_predictions = Baseline().predict(val_dataloader)\n",
    "value = SMAPE()(baseline_predictions, actuals)\n",
    "print(value)"
   ]
  },
  {
   "cell_type": "code",
   "execution_count": 4,
   "id": "laughing-essay",
   "metadata": {},
   "outputs": [
    {
     "name": "stderr",
     "output_type": "stream",
     "text": [
      "GPU available: True, used: True\n",
      "TPU available: False, using: 0 TPU cores\n"
     ]
    }
   ],
   "source": [
    "early_stop_callback = EarlyStopping(monitor=\"val_loss\", min_delta=1e-4, patience=10, verbose=False, mode=\"min\")\n",
    "trainer = pl.Trainer(\n",
    "    max_epochs=100,\n",
    "    gpus=[0],\n",
    "    weights_summary=\"top\",\n",
    "    gradient_clip_val=0.1,\n",
    "    callbacks=[early_stop_callback],\n",
    "    limit_train_batches=15,\n",
    "    # limit_val_batches=1,\n",
    "    # fast_dev_run=True,\n",
    "    # logger=logger,\n",
    "    # profiler=True,\n",
    ")"
   ]
  },
  {
   "cell_type": "code",
   "execution_count": 5,
   "id": "consolidated-cycling",
   "metadata": {},
   "outputs": [
    {
     "name": "stdout",
     "output_type": "stream",
     "text": [
      "Number of parameters in network: 1683.6k\n"
     ]
    }
   ],
   "source": [
    "net = NBeats.from_dataset(\n",
    "    training, learning_rate=0.0014125375446227544, log_interval=10, log_val_interval=1, log_gradient_flow=False, weight_decay=1e-2\n",
    ")\n",
    "print(f\"Number of parameters in network: {net.size()/1e3:.1f}k\")"
   ]
  },
  {
   "cell_type": "code",
   "execution_count": 6,
   "id": "technical-doubt",
   "metadata": {},
   "outputs": [
    {
     "name": "stderr",
     "output_type": "stream",
     "text": [
      "LOCAL_RANK: 0 - CUDA_VISIBLE_DEVICES: [0,1]\n",
      "\n",
      "  | Name            | Type       | Params\n",
      "-----------------------------------------------\n",
      "0 | loss            | MASE       | 0     \n",
      "1 | logging_metrics | ModuleList | 0     \n",
      "2 | net_blocks      | ModuleList | 1.7 M \n",
      "-----------------------------------------------\n",
      "1.7 M     Trainable params\n",
      "0         Non-trainable params\n",
      "1.7 M     Total params\n",
      "6.735     Total estimated model params size (MB)\n"
     ]
    },
    {
     "data": {
      "application/vnd.jupyter.widget-view+json": {
       "model_id": "",
       "version_major": 2,
       "version_minor": 0
      },
      "text/plain": [
       "HBox(children=(HTML(value='Validation sanity check'), FloatProgress(value=1.0, bar_style='info', layout=Layout…"
      ]
     },
     "metadata": {},
     "output_type": "display_data"
    },
    {
     "data": {
      "application/vnd.jupyter.widget-view+json": {
       "model_id": "00a8b19c66654170ad49f3176b4ca96f",
       "version_major": 2,
       "version_minor": 0
      },
      "text/plain": [
       "HBox(children=(HTML(value='Training'), FloatProgress(value=1.0, bar_style='info', layout=Layout(flex='2'), max…"
      ]
     },
     "metadata": {},
     "output_type": "display_data"
    },
    {
     "data": {
      "application/vnd.jupyter.widget-view+json": {
       "model_id": "",
       "version_major": 2,
       "version_minor": 0
      },
      "text/plain": [
       "HBox(children=(HTML(value='Validating'), FloatProgress(value=1.0, bar_style='info', layout=Layout(flex='2'), m…"
      ]
     },
     "metadata": {},
     "output_type": "display_data"
    },
    {
     "data": {
      "application/vnd.jupyter.widget-view+json": {
       "model_id": "",
       "version_major": 2,
       "version_minor": 0
      },
      "text/plain": [
       "HBox(children=(HTML(value='Validating'), FloatProgress(value=1.0, bar_style='info', layout=Layout(flex='2'), m…"
      ]
     },
     "metadata": {},
     "output_type": "display_data"
    },
    {
     "data": {
      "application/vnd.jupyter.widget-view+json": {
       "model_id": "",
       "version_major": 2,
       "version_minor": 0
      },
      "text/plain": [
       "HBox(children=(HTML(value='Validating'), FloatProgress(value=1.0, bar_style='info', layout=Layout(flex='2'), m…"
      ]
     },
     "metadata": {},
     "output_type": "display_data"
    },
    {
     "data": {
      "application/vnd.jupyter.widget-view+json": {
       "model_id": "",
       "version_major": 2,
       "version_minor": 0
      },
      "text/plain": [
       "HBox(children=(HTML(value='Validating'), FloatProgress(value=1.0, bar_style='info', layout=Layout(flex='2'), m…"
      ]
     },
     "metadata": {},
     "output_type": "display_data"
    },
    {
     "data": {
      "application/vnd.jupyter.widget-view+json": {
       "model_id": "",
       "version_major": 2,
       "version_minor": 0
      },
      "text/plain": [
       "HBox(children=(HTML(value='Validating'), FloatProgress(value=1.0, bar_style='info', layout=Layout(flex='2'), m…"
      ]
     },
     "metadata": {},
     "output_type": "display_data"
    },
    {
     "data": {
      "application/vnd.jupyter.widget-view+json": {
       "model_id": "",
       "version_major": 2,
       "version_minor": 0
      },
      "text/plain": [
       "HBox(children=(HTML(value='Validating'), FloatProgress(value=1.0, bar_style='info', layout=Layout(flex='2'), m…"
      ]
     },
     "metadata": {},
     "output_type": "display_data"
    },
    {
     "data": {
      "application/vnd.jupyter.widget-view+json": {
       "model_id": "",
       "version_major": 2,
       "version_minor": 0
      },
      "text/plain": [
       "HBox(children=(HTML(value='Validating'), FloatProgress(value=1.0, bar_style='info', layout=Layout(flex='2'), m…"
      ]
     },
     "metadata": {},
     "output_type": "display_data"
    },
    {
     "data": {
      "application/vnd.jupyter.widget-view+json": {
       "model_id": "",
       "version_major": 2,
       "version_minor": 0
      },
      "text/plain": [
       "HBox(children=(HTML(value='Validating'), FloatProgress(value=1.0, bar_style='info', layout=Layout(flex='2'), m…"
      ]
     },
     "metadata": {},
     "output_type": "display_data"
    },
    {
     "data": {
      "application/vnd.jupyter.widget-view+json": {
       "model_id": "",
       "version_major": 2,
       "version_minor": 0
      },
      "text/plain": [
       "HBox(children=(HTML(value='Validating'), FloatProgress(value=1.0, bar_style='info', layout=Layout(flex='2'), m…"
      ]
     },
     "metadata": {},
     "output_type": "display_data"
    },
    {
     "data": {
      "application/vnd.jupyter.widget-view+json": {
       "model_id": "",
       "version_major": 2,
       "version_minor": 0
      },
      "text/plain": [
       "HBox(children=(HTML(value='Validating'), FloatProgress(value=1.0, bar_style='info', layout=Layout(flex='2'), m…"
      ]
     },
     "metadata": {},
     "output_type": "display_data"
    },
    {
     "data": {
      "application/vnd.jupyter.widget-view+json": {
       "model_id": "",
       "version_major": 2,
       "version_minor": 0
      },
      "text/plain": [
       "HBox(children=(HTML(value='Validating'), FloatProgress(value=1.0, bar_style='info', layout=Layout(flex='2'), m…"
      ]
     },
     "metadata": {},
     "output_type": "display_data"
    },
    {
     "data": {
      "application/vnd.jupyter.widget-view+json": {
       "model_id": "",
       "version_major": 2,
       "version_minor": 0
      },
      "text/plain": [
       "HBox(children=(HTML(value='Validating'), FloatProgress(value=1.0, bar_style='info', layout=Layout(flex='2'), m…"
      ]
     },
     "metadata": {},
     "output_type": "display_data"
    },
    {
     "data": {
      "application/vnd.jupyter.widget-view+json": {
       "model_id": "",
       "version_major": 2,
       "version_minor": 0
      },
      "text/plain": [
       "HBox(children=(HTML(value='Validating'), FloatProgress(value=1.0, bar_style='info', layout=Layout(flex='2'), m…"
      ]
     },
     "metadata": {},
     "output_type": "display_data"
    },
    {
     "data": {
      "application/vnd.jupyter.widget-view+json": {
       "model_id": "",
       "version_major": 2,
       "version_minor": 0
      },
      "text/plain": [
       "HBox(children=(HTML(value='Validating'), FloatProgress(value=1.0, bar_style='info', layout=Layout(flex='2'), m…"
      ]
     },
     "metadata": {},
     "output_type": "display_data"
    },
    {
     "data": {
      "application/vnd.jupyter.widget-view+json": {
       "model_id": "",
       "version_major": 2,
       "version_minor": 0
      },
      "text/plain": [
       "HBox(children=(HTML(value='Validating'), FloatProgress(value=1.0, bar_style='info', layout=Layout(flex='2'), m…"
      ]
     },
     "metadata": {},
     "output_type": "display_data"
    },
    {
     "data": {
      "application/vnd.jupyter.widget-view+json": {
       "model_id": "",
       "version_major": 2,
       "version_minor": 0
      },
      "text/plain": [
       "HBox(children=(HTML(value='Validating'), FloatProgress(value=1.0, bar_style='info', layout=Layout(flex='2'), m…"
      ]
     },
     "metadata": {},
     "output_type": "display_data"
    },
    {
     "data": {
      "application/vnd.jupyter.widget-view+json": {
       "model_id": "",
       "version_major": 2,
       "version_minor": 0
      },
      "text/plain": [
       "HBox(children=(HTML(value='Validating'), FloatProgress(value=1.0, bar_style='info', layout=Layout(flex='2'), m…"
      ]
     },
     "metadata": {},
     "output_type": "display_data"
    },
    {
     "data": {
      "application/vnd.jupyter.widget-view+json": {
       "model_id": "",
       "version_major": 2,
       "version_minor": 0
      },
      "text/plain": [
       "HBox(children=(HTML(value='Validating'), FloatProgress(value=1.0, bar_style='info', layout=Layout(flex='2'), m…"
      ]
     },
     "metadata": {},
     "output_type": "display_data"
    },
    {
     "data": {
      "application/vnd.jupyter.widget-view+json": {
       "model_id": "",
       "version_major": 2,
       "version_minor": 0
      },
      "text/plain": [
       "HBox(children=(HTML(value='Validating'), FloatProgress(value=1.0, bar_style='info', layout=Layout(flex='2'), m…"
      ]
     },
     "metadata": {},
     "output_type": "display_data"
    },
    {
     "data": {
      "application/vnd.jupyter.widget-view+json": {
       "model_id": "",
       "version_major": 2,
       "version_minor": 0
      },
      "text/plain": [
       "HBox(children=(HTML(value='Validating'), FloatProgress(value=1.0, bar_style='info', layout=Layout(flex='2'), m…"
      ]
     },
     "metadata": {},
     "output_type": "display_data"
    },
    {
     "data": {
      "application/vnd.jupyter.widget-view+json": {
       "model_id": "",
       "version_major": 2,
       "version_minor": 0
      },
      "text/plain": [
       "HBox(children=(HTML(value='Validating'), FloatProgress(value=1.0, bar_style='info', layout=Layout(flex='2'), m…"
      ]
     },
     "metadata": {},
     "output_type": "display_data"
    },
    {
     "data": {
      "application/vnd.jupyter.widget-view+json": {
       "model_id": "",
       "version_major": 2,
       "version_minor": 0
      },
      "text/plain": [
       "HBox(children=(HTML(value='Validating'), FloatProgress(value=1.0, bar_style='info', layout=Layout(flex='2'), m…"
      ]
     },
     "metadata": {},
     "output_type": "display_data"
    },
    {
     "data": {
      "application/vnd.jupyter.widget-view+json": {
       "model_id": "",
       "version_major": 2,
       "version_minor": 0
      },
      "text/plain": [
       "HBox(children=(HTML(value='Validating'), FloatProgress(value=1.0, bar_style='info', layout=Layout(flex='2'), m…"
      ]
     },
     "metadata": {},
     "output_type": "display_data"
    },
    {
     "data": {
      "application/vnd.jupyter.widget-view+json": {
       "model_id": "",
       "version_major": 2,
       "version_minor": 0
      },
      "text/plain": [
       "HBox(children=(HTML(value='Validating'), FloatProgress(value=1.0, bar_style='info', layout=Layout(flex='2'), m…"
      ]
     },
     "metadata": {},
     "output_type": "display_data"
    },
    {
     "data": {
      "application/vnd.jupyter.widget-view+json": {
       "model_id": "",
       "version_major": 2,
       "version_minor": 0
      },
      "text/plain": [
       "HBox(children=(HTML(value='Validating'), FloatProgress(value=1.0, bar_style='info', layout=Layout(flex='2'), m…"
      ]
     },
     "metadata": {},
     "output_type": "display_data"
    },
    {
     "data": {
      "application/vnd.jupyter.widget-view+json": {
       "model_id": "",
       "version_major": 2,
       "version_minor": 0
      },
      "text/plain": [
       "HBox(children=(HTML(value='Validating'), FloatProgress(value=1.0, bar_style='info', layout=Layout(flex='2'), m…"
      ]
     },
     "metadata": {},
     "output_type": "display_data"
    },
    {
     "data": {
      "application/vnd.jupyter.widget-view+json": {
       "model_id": "",
       "version_major": 2,
       "version_minor": 0
      },
      "text/plain": [
       "HBox(children=(HTML(value='Validating'), FloatProgress(value=1.0, bar_style='info', layout=Layout(flex='2'), m…"
      ]
     },
     "metadata": {},
     "output_type": "display_data"
    },
    {
     "data": {
      "application/vnd.jupyter.widget-view+json": {
       "model_id": "",
       "version_major": 2,
       "version_minor": 0
      },
      "text/plain": [
       "HBox(children=(HTML(value='Validating'), FloatProgress(value=1.0, bar_style='info', layout=Layout(flex='2'), m…"
      ]
     },
     "metadata": {},
     "output_type": "display_data"
    },
    {
     "data": {
      "application/vnd.jupyter.widget-view+json": {
       "model_id": "",
       "version_major": 2,
       "version_minor": 0
      },
      "text/plain": [
       "HBox(children=(HTML(value='Validating'), FloatProgress(value=1.0, bar_style='info', layout=Layout(flex='2'), m…"
      ]
     },
     "metadata": {},
     "output_type": "display_data"
    },
    {
     "data": {
      "application/vnd.jupyter.widget-view+json": {
       "model_id": "",
       "version_major": 2,
       "version_minor": 0
      },
      "text/plain": [
       "HBox(children=(HTML(value='Validating'), FloatProgress(value=1.0, bar_style='info', layout=Layout(flex='2'), m…"
      ]
     },
     "metadata": {},
     "output_type": "display_data"
    },
    {
     "data": {
      "application/vnd.jupyter.widget-view+json": {
       "model_id": "",
       "version_major": 2,
       "version_minor": 0
      },
      "text/plain": [
       "HBox(children=(HTML(value='Validating'), FloatProgress(value=1.0, bar_style='info', layout=Layout(flex='2'), m…"
      ]
     },
     "metadata": {},
     "output_type": "display_data"
    },
    {
     "data": {
      "application/vnd.jupyter.widget-view+json": {
       "model_id": "",
       "version_major": 2,
       "version_minor": 0
      },
      "text/plain": [
       "HBox(children=(HTML(value='Validating'), FloatProgress(value=1.0, bar_style='info', layout=Layout(flex='2'), m…"
      ]
     },
     "metadata": {},
     "output_type": "display_data"
    },
    {
     "name": "stdout",
     "output_type": "stream",
     "text": [
      "\n"
     ]
    },
    {
     "data": {
      "text/plain": [
       "1"
      ]
     },
     "execution_count": 6,
     "metadata": {},
     "output_type": "execute_result"
    }
   ],
   "source": [
    "trainer.fit(\n",
    "    net,\n",
    "    train_dataloader=train_dataloader,\n",
    "    val_dataloaders=val_dataloader,\n",
    ")"
   ]
  },
  {
   "cell_type": "code",
   "execution_count": 7,
   "id": "sixth-sector",
   "metadata": {},
   "outputs": [],
   "source": [
    "best_model_path = trainer.checkpoint_callback.best_model_path\n",
    "best_model = NBeats.load_from_checkpoint(best_model_path)"
   ]
  },
  {
   "cell_type": "code",
   "execution_count": 8,
   "id": "regional-manor",
   "metadata": {},
   "outputs": [
    {
     "name": "stdout",
     "output_type": "stream",
     "text": [
      "tensor(0.0001)\n"
     ]
    }
   ],
   "source": [
    "actuals = torch.cat([y[0] for x, y in iter(val_dataloader)])\n",
    "predictions = best_model.predict(val_dataloader)\n",
    "value = (actuals - predictions).abs().mean()\n",
    "print(value)"
   ]
  },
  {
   "cell_type": "code",
   "execution_count": 9,
   "id": "spatial-distance",
   "metadata": {},
   "outputs": [],
   "source": [
    "raw_predictions, x = best_model.predict(val_dataloader, mode=\"raw\", return_x=True)"
   ]
  },
  {
   "cell_type": "code",
   "execution_count": 10,
   "id": "absent-gibson",
   "metadata": {},
   "outputs": [
    {
     "data": {
      "text/plain": [
       "{'prediction': tensor([[1.2033],\n",
       "         [1.2033]]),\n",
       " 'target_scale': tensor([[1.2042e+00, 1.1647e-03],\n",
       "         [1.2041e+00, 1.1075e-03]]),\n",
       " 'backcast': tensor([[-0.5622, -0.5632, -0.5641, -0.5652, -0.5663, -0.5674, -0.5686, -0.5699,\n",
       "          -0.5712, -0.5726, -0.5740, -0.5755, -0.5770, -0.5786, -0.5802, -0.5819,\n",
       "          -0.5837, -0.5855, -0.5874, -0.5893, -0.5912, -0.5933, -0.5953, -0.5975,\n",
       "          -0.5996, -0.6019, -0.6042, -0.6065, -0.6089, -0.6114, -0.6139, -0.6164,\n",
       "          -0.6191, -0.6217, -0.6245, -0.6272, -0.6301, -0.6330, -0.6359, -0.6389,\n",
       "          -0.6420, -0.6451, -0.6482, -0.6514, -0.6547, -0.6580, -0.6614, -0.6648,\n",
       "          -0.6683, -0.6719, -0.6755, -0.6791, -0.6828, -0.6866, -0.6904, -0.6943,\n",
       "          -0.6982, -0.7021, -0.7062, -0.7103],\n",
       "         [-0.5677, -0.5680, -0.5683, -0.5687, -0.5692, -0.5698, -0.5704, -0.5710,\n",
       "          -0.5717, -0.5725, -0.5733, -0.5742, -0.5752, -0.5762, -0.5772, -0.5784,\n",
       "          -0.5795, -0.5808, -0.5821, -0.5834, -0.5848, -0.5863, -0.5878, -0.5894,\n",
       "          -0.5911, -0.5928, -0.5945, -0.5964, -0.5982, -0.6002, -0.6022, -0.6042,\n",
       "          -0.6063, -0.6085, -0.6107, -0.6130, -0.6154, -0.6178, -0.6203, -0.6228,\n",
       "          -0.6254, -0.6280, -0.6307, -0.6334, -0.6363, -0.6391, -0.6421, -0.6451,\n",
       "          -0.6481, -0.6512, -0.6544, -0.6576, -0.6609, -0.6642, -0.6676, -0.6711,\n",
       "          -0.6746, -0.6781, -0.6818, -0.6855]]),\n",
       " 'trend': tensor([[-0.5622, -0.5632, -0.5641, -0.5652, -0.5663, -0.5674, -0.5686, -0.5699,\n",
       "          -0.5712, -0.5726, -0.5740, -0.5755, -0.5770, -0.5786, -0.5802, -0.5819,\n",
       "          -0.5837, -0.5855, -0.5874, -0.5893, -0.5912, -0.5933, -0.5953, -0.5975,\n",
       "          -0.5996, -0.6019, -0.6042, -0.6065, -0.6089, -0.6114, -0.6139, -0.6164,\n",
       "          -0.6191, -0.6217, -0.6245, -0.6272, -0.6301, -0.6330, -0.6359, -0.6389,\n",
       "          -0.6420, -0.6451, -0.6482, -0.6514, -0.6547, -0.6580, -0.6614, -0.6648,\n",
       "          -0.6683, -0.6719, -0.6755, -0.6791, -0.6828, -0.6866, -0.6904, -0.6943,\n",
       "          -0.6982, -0.7021, -0.7062, -0.7103, -0.7144],\n",
       "         [-0.5677, -0.5680, -0.5683, -0.5687, -0.5692, -0.5698, -0.5704, -0.5710,\n",
       "          -0.5717, -0.5725, -0.5733, -0.5742, -0.5752, -0.5762, -0.5772, -0.5784,\n",
       "          -0.5795, -0.5808, -0.5821, -0.5834, -0.5848, -0.5863, -0.5878, -0.5894,\n",
       "          -0.5911, -0.5928, -0.5945, -0.5964, -0.5982, -0.6002, -0.6022, -0.6042,\n",
       "          -0.6063, -0.6085, -0.6107, -0.6130, -0.6154, -0.6178, -0.6203, -0.6228,\n",
       "          -0.6254, -0.6280, -0.6307, -0.6334, -0.6363, -0.6391, -0.6421, -0.6451,\n",
       "          -0.6481, -0.6512, -0.6544, -0.6576, -0.6609, -0.6642, -0.6676, -0.6711,\n",
       "          -0.6746, -0.6781, -0.6818, -0.6855, -0.6892]]),\n",
       " 'seasonality': tensor([[0., 0., 0., 0., 0., 0., 0., 0., 0., 0., 0., 0., 0., 0., 0., 0., 0., 0., 0., 0., 0., 0., 0., 0.,\n",
       "          0., 0., 0., 0., 0., 0., 0., 0., 0., 0., 0., 0., 0., 0., 0., 0., 0., 0., 0., 0., 0., 0., 0., 0.,\n",
       "          0., 0., 0., 0., 0., 0., 0., 0., 0., 0., 0., 0., 0.],\n",
       "         [0., 0., 0., 0., 0., 0., 0., 0., 0., 0., 0., 0., 0., 0., 0., 0., 0., 0., 0., 0., 0., 0., 0., 0.,\n",
       "          0., 0., 0., 0., 0., 0., 0., 0., 0., 0., 0., 0., 0., 0., 0., 0., 0., 0., 0., 0., 0., 0., 0., 0.,\n",
       "          0., 0., 0., 0., 0., 0., 0., 0., 0., 0., 0., 0., 0.]]),\n",
       " 'generic': tensor([[0., 0., 0., 0., 0., 0., 0., 0., 0., 0., 0., 0., 0., 0., 0., 0., 0., 0., 0., 0., 0., 0., 0., 0.,\n",
       "          0., 0., 0., 0., 0., 0., 0., 0., 0., 0., 0., 0., 0., 0., 0., 0., 0., 0., 0., 0., 0., 0., 0., 0.,\n",
       "          0., 0., 0., 0., 0., 0., 0., 0., 0., 0., 0., 0., 0.],\n",
       "         [0., 0., 0., 0., 0., 0., 0., 0., 0., 0., 0., 0., 0., 0., 0., 0., 0., 0., 0., 0., 0., 0., 0., 0.,\n",
       "          0., 0., 0., 0., 0., 0., 0., 0., 0., 0., 0., 0., 0., 0., 0., 0., 0., 0., 0., 0., 0., 0., 0., 0.,\n",
       "          0., 0., 0., 0., 0., 0., 0., 0., 0., 0., 0., 0., 0.]])}"
      ]
     },
     "execution_count": 10,
     "metadata": {},
     "output_type": "execute_result"
    }
   ],
   "source": [
    "raw_predictions"
   ]
  },
  {
   "cell_type": "code",
   "execution_count": 11,
   "id": "english-finnish",
   "metadata": {},
   "outputs": [
    {
     "data": {
      "image/png": "[encoded data removed]",
      "text/plain": [
       "<Figure size 432x288 with 1 Axes>"
      ]
     },
     "metadata": {
      "needs_background": "light"
     },
     "output_type": "display_data"
    }
   ],
   "source": [
    "for idx in range(1):  # plot 10 examples\n",
    "    best_model.plot_prediction(x, raw_predictions, idx=idx, add_loss_to_title=True);"
   ]
  },
  {
   "cell_type": "code",
   "execution_count": 14,
   "id": "double-guarantee",
   "metadata": {},
   "outputs": [],
   "source": [
    "data_future = data = OD.GetData(\"2021-04-22T00:00:00Z\", \"2021-05-04T00:00:00Z\", \"EUR_USD\", \"M15\", \"DF\")"
   ]
  },
  {
   "cell_type": "code",
   "execution_count": 16,
   "id": "south-center",
   "metadata": {},
   "outputs": [],
   "source": [
    "df_future = OHLC_DF_to_REGRESSION_C(data_future)"
   ]
  },
  {
   "cell_type": "code",
   "execution_count": 19,
   "id": "numerous-vulnerability",
   "metadata": {},
   "outputs": [],
   "source": [
    "df_future.insert(0,'series','True')\n",
    "\n",
    "max_encoder_length = 60\n",
    "max_prediction_length = 1\n",
    "\n",
    "training_cutoff = df_future[\"time_idx\"].max() - max_prediction_length\n",
    "context_length = max_encoder_length\n",
    "prediction_length = max_prediction_length\n",
    "\n",
    "TSDS = TimeSeriesDataSet(\n",
    "    df_future[lambda x: x.time_idx <= training_cutoff],\n",
    "    time_idx=\"time_idx\",\n",
    "    target=\"pred\",\n",
    "    group_ids=[\"series\"],\n",
    "    time_varying_unknown_reals=[\"pred\"],\n",
    "    max_encoder_length=context_length,\n",
    "    max_prediction_length=prediction_length)\n"
   ]
  },
  {
   "cell_type": "code",
   "execution_count": 21,
   "id": "compound-reminder",
   "metadata": {},
   "outputs": [],
   "source": [
    "batch_size = 1\n",
    "val_dataloader = TSDS.to_dataloader(train=False, batch_size=batch_size, num_workers=0)"
   ]
  },
  {
   "cell_type": "code",
   "execution_count": 22,
   "id": "wireless-italy",
   "metadata": {},
   "outputs": [
    {
     "data": {
      "text/plain": [
       "<torch.utils.data.dataloader.DataLoader at 0x2afcd02abe0>"
      ]
     },
     "execution_count": 22,
     "metadata": {},
     "output_type": "execute_result"
    }
   ],
   "source": [
    "val_dataloader"
   ]
  },
  {
   "cell_type": "code",
   "execution_count": 24,
   "id": "rational-driving",
   "metadata": {},
   "outputs": [
    {
     "name": "stdout",
     "output_type": "stream",
     "text": [
      "tensor(0.0004)\n"
     ]
    }
   ],
   "source": [
    "actuals = torch.cat([y[0] for x, y in iter(val_dataloader)])\n",
    "predictions = best_model.predict(val_dataloader)\n",
    "value = (actuals - predictions).abs().mean()\n",
    "print(value)"
   ]
  },
  {
   "cell_type": "code",
   "execution_count": 26,
   "id": "fatty-forth",
   "metadata": {},
   "outputs": [],
   "source": [
    "raw_predictions, x = best_model.predict(val_dataloader, mode=\"raw\", return_x=True)"
   ]
  },
  {
   "cell_type": "code",
   "execution_count": 28,
   "id": "outside-elimination",
   "metadata": {},
   "outputs": [
    {
     "data": {
      "image/png": "[encoded data removed]",
      "text/plain": [
       "<Figure size 432x288 with 1 Axes>"
      ]
     },
     "metadata": {
      "needs_background": "light"
     },
     "output_type": "display_data"
    },
    {
     "data": {
      "image/png": "[encoded data removed]",
      "text/plain": [
       "<Figure size 432x288 with 1 Axes>"
      ]
     },
     "metadata": {
      "needs_background": "light"
     },
     "output_type": "display_data"
    },
    {
     "data": {
      "image/png": "[encoded data removed]",
      "text/plain": [
       "<Figure size 432x288 with 1 Axes>"
      ]
     },
     "metadata": {
      "needs_background": "light"
     },
     "output_type": "display_data"
    },
    {
     "data": {
      "image/png": "[encoded data removed]",
      "text/plain": [
       "<Figure size 432x288 with 1 Axes>"
      ]
     },
     "metadata": {
      "needs_background": "light"
     },
     "output_type": "display_data"
    },
    {
     "data": {
      "image/png": "[encoded data removed]",
      "text/plain": [
       "<Figure size 432x288 with 1 Axes>"
      ]
     },
     "metadata": {
      "needs_background": "light"
     },
     "output_type": "display_data"
    },
    {
     "data": {
      "image/png": "[encoded data removed]",
      "text/plain": [
       "<Figure size 432x288 with 1 Axes>"
      ]
     },
     "metadata": {
      "needs_background": "light"
     },
     "output_type": "display_data"
    },
    {
     "data": {
      "image/png": "[encoded data removed]",
      "text/plain": [
       "<Figure size 432x288 with 1 Axes>"
      ]
     },
     "metadata": {
      "needs_background": "light"
     },
     "output_type": "display_data"
    },
    {
     "data": {
      "image/png": "[encoded data removed]",
      "text/plain": [
       "<Figure size 432x288 with 1 Axes>"
      ]
     },
     "metadata": {
      "needs_background": "light"
     },
     "output_type": "display_data"
    },
    {
     "data": {
      "image/png": "[encoded data removed]",
      "text/plain": [
       "<Figure size 432x288 with 1 Axes>"
      ]
     },
     "metadata": {
      "needs_background": "light"
     },
     "output_type": "display_data"
    },
    {
     "data": {
      "image/png": "[encoded data removed]",
      "text/plain": [
       "<Figure size 432x288 with 1 Axes>"
      ]
     },
     "metadata": {
      "needs_background": "light"
     },
     "output_type": "display_data"
    }
   ],
   "source": [
    "for idx in range(10):  # plot 10 examples\n",
    "    best_model.plot_prediction(x, raw_predictions, idx=idx, add_loss_to_title=True);"
   ]
  },
  {
   "cell_type": "code",
   "execution_count": 30,
   "id": "emotional-archives",
   "metadata": {},
   "outputs": [
    {
     "data": {
      "text/plain": [
       "tensor([[1.2010],\n",
       "        [1.2017],\n",
       "        [1.2011],\n",
       "        [1.2013],\n",
       "        [1.2013],\n",
       "        [1.2010],\n",
       "        [1.2009],\n",
       "        [1.2005],\n",
       "        [1.2010],\n",
       "        [1.2010],\n",
       "        [1.2009],\n",
       "        [1.1999],\n",
       "        [1.2000],\n",
       "        [1.2005],\n",
       "        [1.2008],\n",
       "        [1.2007],\n",
       "        [1.2011],\n",
       "        [1.2013],\n",
       "        [1.2014],\n",
       "        [1.2015],\n",
       "        [1.2016],\n",
       "        [1.2015],\n",
       "        [1.2015],\n",
       "        [1.2016],\n",
       "        [1.2016],\n",
       "        [1.2017],\n",
       "        [1.2017],\n",
       "        [1.2016],\n",
       "        [1.2016],\n",
       "        [1.2015],\n",
       "        [1.2015],\n",
       "        [1.2017],\n",
       "        [1.2016],\n",
       "        [1.2015],\n",
       "        [1.2014],\n",
       "        [1.2017],\n",
       "        [1.2018],\n",
       "        [1.2016],\n",
       "        [1.2021],\n",
       "        [1.2022],\n",
       "        [1.2022],\n",
       "        [1.2025],\n",
       "        [1.2026],\n",
       "        [1.2021],\n",
       "        [1.2020],\n",
       "        [1.2022],\n",
       "        [1.2022],\n",
       "        [1.2023],\n",
       "        [1.2023],\n",
       "        [1.2022],\n",
       "        [1.2022],\n",
       "        [1.2023],\n",
       "        [1.2024],\n",
       "        [1.2025],\n",
       "        [1.2027],\n",
       "        [1.2028],\n",
       "        [1.2026],\n",
       "        [1.2028],\n",
       "        [1.2029],\n",
       "        [1.2027],\n",
       "        [1.2026],\n",
       "        [1.2028],\n",
       "        [1.2035],\n",
       "        [1.2042],\n",
       "        [1.2050],\n",
       "        [1.2052],\n",
       "        [1.2054],\n",
       "        [1.2054],\n",
       "        [1.2058],\n",
       "        [1.2058],\n",
       "        [1.2059],\n",
       "        [1.2056],\n",
       "        [1.2057],\n",
       "        [1.2060],\n",
       "        [1.2056],\n",
       "        [1.2056],\n",
       "        [1.2053],\n",
       "        [1.2051],\n",
       "        [1.2057],\n",
       "        [1.2057],\n",
       "        [1.2058],\n",
       "        [1.2059],\n",
       "        [1.2058],\n",
       "        [1.2066],\n",
       "        [1.2069],\n",
       "        [1.2072],\n",
       "        [1.2072],\n",
       "        [1.2064],\n",
       "        [1.2065],\n",
       "        [1.2067],\n",
       "        [1.2062],\n",
       "        [1.2057],\n",
       "        [1.2060],\n",
       "        [1.2056],\n",
       "        [1.2049],\n",
       "        [1.2054],\n",
       "        [1.2062],\n",
       "        [1.2065],\n",
       "        [1.2068],\n",
       "        [1.2070],\n",
       "        [1.2071],\n",
       "        [1.2072],\n",
       "        [1.2077],\n",
       "        [1.2079],\n",
       "        [1.2079],\n",
       "        [1.2083],\n",
       "        [1.2086],\n",
       "        [1.2087],\n",
       "        [1.2089],\n",
       "        [1.2090],\n",
       "        [1.2093],\n",
       "        [1.2094],\n",
       "        [1.2097],\n",
       "        [1.2099],\n",
       "        [1.2100],\n",
       "        [1.2096],\n",
       "        [1.2096],\n",
       "        [1.2096],\n",
       "        [1.2097],\n",
       "        [1.2093],\n",
       "        [1.2093],\n",
       "        [1.2096],\n",
       "        [1.2095],\n",
       "        [1.2092],\n",
       "        [1.2093],\n",
       "        [1.2092],\n",
       "        [1.2092],\n",
       "        [1.2093],\n",
       "        [1.2092],\n",
       "        [1.2094],\n",
       "        [1.2090],\n",
       "        [1.2095],\n",
       "        [1.2096],\n",
       "        [1.2105],\n",
       "        [1.2103],\n",
       "        [1.2106],\n",
       "        [1.2109],\n",
       "        [1.2105],\n",
       "        [1.2110],\n",
       "        [1.2111],\n",
       "        [1.2111],\n",
       "        [1.2111],\n",
       "        [1.2113],\n",
       "        [1.2115],\n",
       "        [1.2111],\n",
       "        [1.2113],\n",
       "        [1.2110],\n",
       "        [1.2111],\n",
       "        [1.2112],\n",
       "        [1.2113],\n",
       "        [1.2108],\n",
       "        [1.2109],\n",
       "        [1.2108],\n",
       "        [1.2112],\n",
       "        [1.2107],\n",
       "        [1.2112],\n",
       "        [1.2113],\n",
       "        [1.2104],\n",
       "        [1.2093],\n",
       "        [1.2101],\n",
       "        [1.2097],\n",
       "        [1.2091],\n",
       "        [1.2097],\n",
       "        [1.2098],\n",
       "        [1.2096],\n",
       "        [1.2098],\n",
       "        [1.2100],\n",
       "        [1.2104],\n",
       "        [1.2103],\n",
       "        [1.2101],\n",
       "        [1.2096],\n",
       "        [1.2094],\n",
       "        [1.2099],\n",
       "        [1.2094],\n",
       "        [1.2092],\n",
       "        [1.2089],\n",
       "        [1.2092],\n",
       "        [1.2085],\n",
       "        [1.2083],\n",
       "        [1.2085],\n",
       "        [1.2080],\n",
       "        [1.2083],\n",
       "        [1.2081],\n",
       "        [1.2077],\n",
       "        [1.2077],\n",
       "        [1.2071],\n",
       "        [1.2067],\n",
       "        [1.2069],\n",
       "        [1.2071],\n",
       "        [1.2079],\n",
       "        [1.2082],\n",
       "        [1.2075],\n",
       "        [1.2080],\n",
       "        [1.2082],\n",
       "        [1.2083],\n",
       "        [1.2082],\n",
       "        [1.2085],\n",
       "        [1.2087],\n",
       "        [1.2089],\n",
       "        [1.2087],\n",
       "        [1.2085],\n",
       "        [1.2084],\n",
       "        [1.2086],\n",
       "        [1.2088],\n",
       "        [1.2091],\n",
       "        [1.2089],\n",
       "        [1.2092],\n",
       "        [1.2093],\n",
       "        [1.2090],\n",
       "        [1.2089],\n",
       "        [1.2090],\n",
       "        [1.2088],\n",
       "        [1.2087],\n",
       "        [1.2090],\n",
       "        [1.2086],\n",
       "        [1.2087],\n",
       "        [1.2087],\n",
       "        [1.2086],\n",
       "        [1.2086],\n",
       "        [1.2087],\n",
       "        [1.2086],\n",
       "        [1.2084],\n",
       "        [1.2082],\n",
       "        [1.2082],\n",
       "        [1.2081],\n",
       "        [1.2081],\n",
       "        [1.2079],\n",
       "        [1.2084],\n",
       "        [1.2080],\n",
       "        [1.2077],\n",
       "        [1.2079],\n",
       "        [1.2074],\n",
       "        [1.2072],\n",
       "        [1.2072],\n",
       "        [1.2073],\n",
       "        [1.2074],\n",
       "        [1.2068],\n",
       "        [1.2068],\n",
       "        [1.2066],\n",
       "        [1.2070],\n",
       "        [1.2069],\n",
       "        [1.2072],\n",
       "        [1.2069],\n",
       "        [1.2071],\n",
       "        [1.2073],\n",
       "        [1.2074],\n",
       "        [1.2073],\n",
       "        [1.2071],\n",
       "        [1.2073],\n",
       "        [1.2076],\n",
       "        [1.2075],\n",
       "        [1.2076],\n",
       "        [1.2071],\n",
       "        [1.2067],\n",
       "        [1.2070],\n",
       "        [1.2069],\n",
       "        [1.2070],\n",
       "        [1.2071],\n",
       "        [1.2070],\n",
       "        [1.2059],\n",
       "        [1.2063],\n",
       "        [1.2062],\n",
       "        [1.2058],\n",
       "        [1.2057],\n",
       "        [1.2066],\n",
       "        [1.2065],\n",
       "        [1.2065],\n",
       "        [1.2070],\n",
       "        [1.2073],\n",
       "        [1.2076],\n",
       "        [1.2084],\n",
       "        [1.2081],\n",
       "        [1.2080],\n",
       "        [1.2084],\n",
       "        [1.2088],\n",
       "        [1.2088],\n",
       "        [1.2083],\n",
       "        [1.2078],\n",
       "        [1.2082],\n",
       "        [1.2085],\n",
       "        [1.2078],\n",
       "        [1.2076],\n",
       "        [1.2085],\n",
       "        [1.2089],\n",
       "        [1.2083],\n",
       "        [1.2078],\n",
       "        [1.2081],\n",
       "        [1.2081],\n",
       "        [1.2076],\n",
       "        [1.2078],\n",
       "        [1.2078],\n",
       "        [1.2074],\n",
       "        [1.2071],\n",
       "        [1.2074],\n",
       "        [1.2071],\n",
       "        [1.2078],\n",
       "        [1.2079],\n",
       "        [1.2078],\n",
       "        [1.2080],\n",
       "        [1.2080],\n",
       "        [1.2089],\n",
       "        [1.2086],\n",
       "        [1.2088],\n",
       "        [1.2088],\n",
       "        [1.2087],\n",
       "        [1.2086],\n",
       "        [1.2089],\n",
       "        [1.2089],\n",
       "        [1.2088],\n",
       "        [1.2089],\n",
       "        [1.2092],\n",
       "        [1.2090],\n",
       "        [1.2091],\n",
       "        [1.2091],\n",
       "        [1.2089],\n",
       "        [1.2089],\n",
       "        [1.2088],\n",
       "        [1.2088],\n",
       "        [1.2089],\n",
       "        [1.2090],\n",
       "        [1.2088],\n",
       "        [1.2089],\n",
       "        [1.2089],\n",
       "        [1.2083],\n",
       "        [1.2082],\n",
       "        [1.2081],\n",
       "        [1.2079],\n",
       "        [1.2078],\n",
       "        [1.2078],\n",
       "        [1.2078],\n",
       "        [1.2079],\n",
       "        [1.2081],\n",
       "        [1.2082],\n",
       "        [1.2081],\n",
       "        [1.2079],\n",
       "        [1.2078],\n",
       "        [1.2078],\n",
       "        [1.2077],\n",
       "        [1.2076],\n",
       "        [1.2075],\n",
       "        [1.2076],\n",
       "        [1.2075],\n",
       "        [1.2073],\n",
       "        [1.2073],\n",
       "        [1.2072],\n",
       "        [1.2072],\n",
       "        [1.2071],\n",
       "        [1.2077],\n",
       "        [1.2066],\n",
       "        [1.2064],\n",
       "        [1.2060],\n",
       "        [1.2063],\n",
       "        [1.2063],\n",
       "        [1.2067],\n",
       "        [1.2074],\n",
       "        [1.2077],\n",
       "        [1.2075],\n",
       "        [1.2075],\n",
       "        [1.2075],\n",
       "        [1.2071],\n",
       "        [1.2070],\n",
       "        [1.2072],\n",
       "        [1.2066],\n",
       "        [1.2073],\n",
       "        [1.2072],\n",
       "        [1.2067],\n",
       "        [1.2067],\n",
       "        [1.2069],\n",
       "        [1.2065],\n",
       "        [1.2073],\n",
       "        [1.2073],\n",
       "        [1.2070],\n",
       "        [1.2064],\n",
       "        [1.2071],\n",
       "        [1.2068],\n",
       "        [1.2073],\n",
       "        [1.2068],\n",
       "        [1.2067],\n",
       "        [1.2072],\n",
       "        [1.2087],\n",
       "        [1.2094],\n",
       "        [1.2095],\n",
       "        [1.2089],\n",
       "        [1.2095],\n",
       "        [1.2097],\n",
       "        [1.2098],\n",
       "        [1.2098],\n",
       "        [1.2093],\n",
       "        [1.2093],\n",
       "        [1.2090],\n",
       "        [1.2090],\n",
       "        [1.2087],\n",
       "        [1.2082],\n",
       "        [1.2081],\n",
       "        [1.2085],\n",
       "        [1.2089],\n",
       "        [1.2102],\n",
       "        [1.2129],\n",
       "        [1.2124],\n",
       "        [1.2115],\n",
       "        [1.2119],\n",
       "        [1.2125],\n",
       "        [1.2130],\n",
       "        [1.2124],\n",
       "        [1.2123],\n",
       "        [1.2123],\n",
       "        [1.2126],\n",
       "        [1.2124],\n",
       "        [1.2124],\n",
       "        [1.2126],\n",
       "        [1.2125],\n",
       "        [1.2126],\n",
       "        [1.2128],\n",
       "        [1.2129],\n",
       "        [1.2132],\n",
       "        [1.2132],\n",
       "        [1.2131],\n",
       "        [1.2133],\n",
       "        [1.2135],\n",
       "        [1.2136],\n",
       "        [1.2135],\n",
       "        [1.2137],\n",
       "        [1.2142],\n",
       "        [1.2142],\n",
       "        [1.2145],\n",
       "        [1.2149],\n",
       "        [1.2147],\n",
       "        [1.2144],\n",
       "        [1.2141],\n",
       "        [1.2139],\n",
       "        [1.2137],\n",
       "        [1.2136],\n",
       "        [1.2134],\n",
       "        [1.2126],\n",
       "        [1.2126],\n",
       "        [1.2128],\n",
       "        [1.2129],\n",
       "        [1.2130],\n",
       "        [1.2132],\n",
       "        [1.2135],\n",
       "        [1.2133],\n",
       "        [1.2134],\n",
       "        [1.2135],\n",
       "        [1.2131],\n",
       "        [1.2127],\n",
       "        [1.2121],\n",
       "        [1.2121],\n",
       "        [1.2121],\n",
       "        [1.2121],\n",
       "        [1.2121],\n",
       "        [1.2116],\n",
       "        [1.2120],\n",
       "        [1.2114],\n",
       "        [1.2114],\n",
       "        [1.2116],\n",
       "        [1.2121],\n",
       "        [1.2115],\n",
       "        [1.2118],\n",
       "        [1.2119],\n",
       "        [1.2122],\n",
       "        [1.2118],\n",
       "        [1.2118],\n",
       "        [1.2123],\n",
       "        [1.2127],\n",
       "        [1.2132],\n",
       "        [1.2133],\n",
       "        [1.2129],\n",
       "        [1.2128],\n",
       "        [1.2124],\n",
       "        [1.2135],\n",
       "        [1.2123],\n",
       "        [1.2119],\n",
       "        [1.2122],\n",
       "        [1.2121],\n",
       "        [1.2109],\n",
       "        [1.2116],\n",
       "        [1.2115],\n",
       "        [1.2107],\n",
       "        [1.2111],\n",
       "        [1.2117],\n",
       "        [1.2116],\n",
       "        [1.2108],\n",
       "        [1.2110],\n",
       "        [1.2112],\n",
       "        [1.2115],\n",
       "        [1.2118],\n",
       "        [1.2118],\n",
       "        [1.2121],\n",
       "        [1.2120],\n",
       "        [1.2117],\n",
       "        [1.2119],\n",
       "        [1.2113],\n",
       "        [1.2116],\n",
       "        [1.2121],\n",
       "        [1.2126],\n",
       "        [1.2124],\n",
       "        [1.2123],\n",
       "        [1.2127],\n",
       "        [1.2129],\n",
       "        [1.2127],\n",
       "        [1.2123],\n",
       "        [1.2120],\n",
       "        [1.2120],\n",
       "        [1.2124],\n",
       "        [1.2122],\n",
       "        [1.2122],\n",
       "        [1.2123],\n",
       "        [1.2121],\n",
       "        [1.2120],\n",
       "        [1.2122],\n",
       "        [1.2122],\n",
       "        [1.2122],\n",
       "        [1.2124],\n",
       "        [1.2124],\n",
       "        [1.2125],\n",
       "        [1.2123],\n",
       "        [1.2126],\n",
       "        [1.2124],\n",
       "        [1.2122],\n",
       "        [1.2123],\n",
       "        [1.2123],\n",
       "        [1.2120],\n",
       "        [1.2121],\n",
       "        [1.2118],\n",
       "        [1.2119],\n",
       "        [1.2119],\n",
       "        [1.2121],\n",
       "        [1.2121],\n",
       "        [1.2117],\n",
       "        [1.2117],\n",
       "        [1.2118],\n",
       "        [1.2118],\n",
       "        [1.2119],\n",
       "        [1.2119],\n",
       "        [1.2117],\n",
       "        [1.2117],\n",
       "        [1.2117],\n",
       "        [1.2118],\n",
       "        [1.2118],\n",
       "        [1.2114],\n",
       "        [1.2113],\n",
       "        [1.2112],\n",
       "        [1.2111],\n",
       "        [1.2109],\n",
       "        [1.2108],\n",
       "        [1.2107],\n",
       "        [1.2102],\n",
       "        [1.2102],\n",
       "        [1.2098],\n",
       "        [1.2098],\n",
       "        [1.2095],\n",
       "        [1.2096],\n",
       "        [1.2095],\n",
       "        [1.2095],\n",
       "        [1.2095],\n",
       "        [1.2096],\n",
       "        [1.2092],\n",
       "        [1.2086],\n",
       "        [1.2080],\n",
       "        [1.2084],\n",
       "        [1.2088],\n",
       "        [1.2087],\n",
       "        [1.2081],\n",
       "        [1.2081],\n",
       "        [1.2084],\n",
       "        [1.2087],\n",
       "        [1.2084],\n",
       "        [1.2090],\n",
       "        [1.2086],\n",
       "        [1.2083],\n",
       "        [1.2075],\n",
       "        [1.2061],\n",
       "        [1.2072],\n",
       "        [1.2076],\n",
       "        [1.2040],\n",
       "        [1.2035],\n",
       "        [1.2031],\n",
       "        [1.2034],\n",
       "        [1.2030],\n",
       "        [1.2035],\n",
       "        [1.2034],\n",
       "        [1.2032],\n",
       "        [1.2027],\n",
       "        [1.2025],\n",
       "        [1.2026],\n",
       "        [1.2022],\n",
       "        [1.2022],\n",
       "        [1.2024],\n",
       "        [1.2026],\n",
       "        [1.2026],\n",
       "        [1.2022],\n",
       "        [1.2020],\n",
       "        [1.2019],\n",
       "        [1.2019],\n",
       "        [1.2023],\n",
       "        [1.2022],\n",
       "        [1.2023],\n",
       "        [1.2021],\n",
       "        [1.2020],\n",
       "        [1.2030],\n",
       "        [1.2028],\n",
       "        [1.2030],\n",
       "        [1.2030],\n",
       "        [1.2025],\n",
       "        [1.2026],\n",
       "        [1.2026],\n",
       "        [1.2027],\n",
       "        [1.2026],\n",
       "        [1.2028],\n",
       "        [1.2029],\n",
       "        [1.2027],\n",
       "        [1.2027],\n",
       "        [1.2031],\n",
       "        [1.2031],\n",
       "        [1.2034],\n",
       "        [1.2031],\n",
       "        [1.2033],\n",
       "        [1.2032],\n",
       "        [1.2028],\n",
       "        [1.2022],\n",
       "        [1.2023],\n",
       "        [1.2022],\n",
       "        [1.2020],\n",
       "        [1.2023],\n",
       "        [1.2022],\n",
       "        [1.2023],\n",
       "        [1.2023],\n",
       "        [1.2022],\n",
       "        [1.2018],\n",
       "        [1.2020],\n",
       "        [1.2021],\n",
       "        [1.2022],\n",
       "        [1.2018],\n",
       "        [1.2021],\n",
       "        [1.2022],\n",
       "        [1.2018],\n",
       "        [1.2022],\n",
       "        [1.2022],\n",
       "        [1.2038],\n",
       "        [1.2039],\n",
       "        [1.2034],\n",
       "        [1.2039],\n",
       "        [1.2036],\n",
       "        [1.2034],\n",
       "        [1.2035],\n",
       "        [1.2044],\n",
       "        [1.2047],\n",
       "        [1.2054],\n",
       "        [1.2052],\n",
       "        [1.2048],\n",
       "        [1.2051],\n",
       "        [1.2050],\n",
       "        [1.2055],\n",
       "        [1.2052],\n",
       "        [1.2057],\n",
       "        [1.2054],\n",
       "        [1.2052],\n",
       "        [1.2051],\n",
       "        [1.2046],\n",
       "        [1.2043],\n",
       "        [1.2052],\n",
       "        [1.2047],\n",
       "        [1.2043],\n",
       "        [1.2048],\n",
       "        [1.2053],\n",
       "        [1.2051],\n",
       "        [1.2058],\n",
       "        [1.2069],\n",
       "        [1.2068],\n",
       "        [1.2071],\n",
       "        [1.2073],\n",
       "        [1.2067],\n",
       "        [1.2066],\n",
       "        [1.2062],\n",
       "        [1.2059],\n",
       "        [1.2056],\n",
       "        [1.2055],\n",
       "        [1.2057],\n",
       "        [1.2053],\n",
       "        [1.2059],\n",
       "        [1.2059],\n",
       "        [1.2064],\n",
       "        [1.2061],\n",
       "        [1.2065],\n",
       "        [1.2067],\n",
       "        [1.2065],\n",
       "        [1.2067],\n",
       "        [1.2062],\n",
       "        [1.2062],\n",
       "        [1.2063],\n",
       "        [1.2064],\n",
       "        [1.2063],\n",
       "        [1.2062],\n",
       "        [1.2063],\n",
       "        [1.2064],\n",
       "        [1.2065],\n",
       "        [1.2064],\n",
       "        [1.2063],\n",
       "        [1.2064],\n",
       "        [1.2062],\n",
       "        [1.2061],\n",
       "        [1.2060],\n",
       "        [1.2059],\n",
       "        [1.2059],\n",
       "        [1.2057],\n",
       "        [1.2058]])"
      ]
     },
     "execution_count": 30,
     "metadata": {},
     "output_type": "execute_result"
    }
   ],
   "source": [
    "actuals"
   ]
  },
  {
   "cell_type": "code",
   "execution_count": null,
   "id": "studied-observer",
   "metadata": {},
   "outputs": [],
   "source": []
  }
 ],
 "metadata": {
  "kernelspec": {
   "display_name": "Python 3",
   "language": "python",
   "name": "python3"
  },
  "language_info": {
   "codemirror_mode": {
    "name": "ipython",
    "version": 3
   },
   "file_extension": ".py",
   "mimetype": "text/x-python",
   "name": "python",
   "nbconvert_exporter": "python",
   "pygments_lexer": "ipython3",
   "version": "3.8.8"
  }
 },
 "nbformat": 4,
 "nbformat_minor": 5
}
